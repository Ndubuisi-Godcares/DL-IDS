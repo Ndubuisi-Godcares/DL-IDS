{
  "cells": [
    {
      "cell_type": "code",
      "execution_count": null,
      "metadata": {
        "colab": {
          "base_uri": "https://localhost:8080/"
        },
        "id": "rt8zYNNZ30B5",
        "outputId": "4891c064-5b2c-4885-a73c-824dc2cf2428"
      },
      "outputs": [
        {
          "output_type": "stream",
          "name": "stdout",
          "text": [
            "Drive already mounted at /content/drive; to attempt to forcibly remount, call drive.mount(\"/content/drive\", force_remount=True).\n"
          ]
        }
      ],
      "source": [
        "from google.colab import drive\n",
        "drive.mount('/content/drive')"
      ]
    },
    {
      "cell_type": "code",
      "execution_count": null,
      "metadata": {
        "id": "6VrxezZs3Alb"
      },
      "outputs": [],
      "source": [
        "import os\n",
        "import pandas as pd\n",
        "\n",
        "# Setting the directory where your CSV files are located\n",
        "folder_path = '/content/drive/MyDrive/CSV'\n",
        "\n",
        "# Getting a list of all CSV files in the directory\n",
        "csv_files = [file for file in os.listdir(folder_path) if file.endswith('.csv')]\n",
        "\n",
        "# Initializing an empty list to store DataFrames\n",
        "dfs = []\n",
        "\n",
        "# Here, all CSV files where looped through, reading the files, and appending it to the list of DataFrames\n",
        "for file in csv_files:\n",
        "    file_path = os.path.join(folder_path, file)\n",
        "    df = pd.read_csv(file_path)\n",
        "    dfs.append(df)\n",
        "\n",
        "# Concatenating all DataFrames in the list into a single DataFrame\n",
        "df = pd.concat(dfs, ignore_index=True)"
      ]
    },
    {
      "cell_type": "code",
      "execution_count": null,
      "metadata": {
        "colab": {
          "base_uri": "https://localhost:8080/",
          "height": 586
        },
        "id": "aY0_6tZv6_da",
        "outputId": "3c649f9a-c64b-4d43-f1f1-39d46a86bd4d"
      },
      "outputs": [
        {
          "output_type": "execute_result",
          "data": {
            "text/plain": [
              "         generated            appName  totalSourceBytes  \\\n",
              "0  3/11/2014 17:35        Unknown_UDP           2633658   \n",
              "1  3/11/2014 17:35        Unknown_UDP           2633658   \n",
              "2  3/11/2014 17:35            HTTPWeb                64   \n",
              "3  3/11/2014 17:35            HTTPWeb                64   \n",
              "4  3/11/2014 17:35            HTTPWeb               128   \n",
              "5  3/11/2014 17:35            HTTPWeb               128   \n",
              "6  3/11/2014 17:35  HTTPImageTransfer               128   \n",
              "7  3/11/2014 17:35  HTTPImageTransfer               128   \n",
              "8  3/11/2014 17:35          SecureWeb                64   \n",
              "9  3/11/2014 17:35          SecureWeb                64   \n",
              "\n",
              "   totalDestinationBytes  totalDestinationPackets  totalSourcePackets  \\\n",
              "0                      0                        0               28971   \n",
              "1                      0                        0               28971   \n",
              "2                    128                        2                   1   \n",
              "3                    128                        2                   1   \n",
              "4                     64                        1                   2   \n",
              "5                     64                        1                   2   \n",
              "6                    128                        2                   2   \n",
              "7                    128                        2                   2   \n",
              "8                      0                        0                   1   \n",
              "9                      0                        0                   1   \n",
              "\n",
              "  sourcePayloadAsBase64 sourcePayloadAsUTF destinationPayloadAsBase64  \\\n",
              "0                   NaN                NaN                        NaN   \n",
              "1                   NaN                NaN                        NaN   \n",
              "2                   NaN                NaN                        NaN   \n",
              "3                   NaN                NaN                        NaN   \n",
              "4                   NaN                NaN                        NaN   \n",
              "5                   NaN                NaN                        NaN   \n",
              "6                   NaN                NaN                        NaN   \n",
              "7                   NaN                NaN                        NaN   \n",
              "8                   NaN                NaN                        NaN   \n",
              "9                   NaN                NaN                        NaN   \n",
              "\n",
              "  destinationPayloadAsUTF  ... sourceTCPFlagsDescription  \\\n",
              "0                     NaN  ...                       NaN   \n",
              "1                     NaN  ...                       NaN   \n",
              "2                     NaN  ...                       F,A   \n",
              "3                     NaN  ...                       F,A   \n",
              "4                     NaN  ...                       F,A   \n",
              "5                     NaN  ...                       F,A   \n",
              "6                     NaN  ...                       F,A   \n",
              "7                     NaN  ...                       F,A   \n",
              "8                     NaN  ...                       F,A   \n",
              "9                     NaN  ...                       F,A   \n",
              "\n",
              "  destinationTCPFlagsDescription         source protocolName sourcePort  \\\n",
              "0                            NaN  192.168.5.122       udp_ip       5353   \n",
              "1                            NaN  192.168.5.122       udp_ip       5353   \n",
              "2                              R  192.168.2.113       tcp_ip       4191   \n",
              "3                              R  192.168.2.113       tcp_ip       4191   \n",
              "4                            F,A  192.168.2.113       tcp_ip       4192   \n",
              "5                            F,A  192.168.2.113       tcp_ip       4192   \n",
              "6                            F,A  192.168.2.110       tcp_ip       1864   \n",
              "7                            F,A  192.168.2.110       tcp_ip       1864   \n",
              "8                            NaN  192.168.2.113       tcp_ip       4186   \n",
              "9                            NaN  192.168.2.113       tcp_ip       4186   \n",
              "\n",
              "      destination destinationPort    startDateTime     stopDateTime   Label  \n",
              "0     224.0.0.251            5353  6/12/2010 23:57   6/13/2010 9:24  Normal  \n",
              "1     224.0.0.251            5353  6/12/2010 23:57   6/13/2010 9:24  Normal  \n",
              "2   192.168.5.122              80  6/12/2010 23:57  6/12/2010 23:59  Normal  \n",
              "3   192.168.5.122              80  6/12/2010 23:57  6/12/2010 23:59  Normal  \n",
              "4  207.241.148.80              80  6/12/2010 23:57  6/12/2010 23:59  Normal  \n",
              "5  207.241.148.80              80  6/12/2010 23:57  6/12/2010 23:59  Normal  \n",
              "6    216.49.88.12              80  6/12/2010 23:57  6/12/2010 23:59  Normal  \n",
              "7    216.49.88.12              80  6/12/2010 23:57  6/12/2010 23:59  Normal  \n",
              "8   63.245.209.72             443  6/12/2010 23:58  6/12/2010 23:59  Normal  \n",
              "9   63.245.209.72             443  6/12/2010 23:58  6/12/2010 23:59  Normal  \n",
              "\n",
              "[10 rows x 21 columns]"
            ],
            "text/html": [
              "\n",
              "  <div id=\"df-68778561-c65b-4ef3-bb68-ed0ff5fefd6a\" class=\"colab-df-container\">\n",
              "    <div>\n",
              "<style scoped>\n",
              "    .dataframe tbody tr th:only-of-type {\n",
              "        vertical-align: middle;\n",
              "    }\n",
              "\n",
              "    .dataframe tbody tr th {\n",
              "        vertical-align: top;\n",
              "    }\n",
              "\n",
              "    .dataframe thead th {\n",
              "        text-align: right;\n",
              "    }\n",
              "</style>\n",
              "<table border=\"1\" class=\"dataframe\">\n",
              "  <thead>\n",
              "    <tr style=\"text-align: right;\">\n",
              "      <th></th>\n",
              "      <th>generated</th>\n",
              "      <th>appName</th>\n",
              "      <th>totalSourceBytes</th>\n",
              "      <th>totalDestinationBytes</th>\n",
              "      <th>totalDestinationPackets</th>\n",
              "      <th>totalSourcePackets</th>\n",
              "      <th>sourcePayloadAsBase64</th>\n",
              "      <th>sourcePayloadAsUTF</th>\n",
              "      <th>destinationPayloadAsBase64</th>\n",
              "      <th>destinationPayloadAsUTF</th>\n",
              "      <th>...</th>\n",
              "      <th>sourceTCPFlagsDescription</th>\n",
              "      <th>destinationTCPFlagsDescription</th>\n",
              "      <th>source</th>\n",
              "      <th>protocolName</th>\n",
              "      <th>sourcePort</th>\n",
              "      <th>destination</th>\n",
              "      <th>destinationPort</th>\n",
              "      <th>startDateTime</th>\n",
              "      <th>stopDateTime</th>\n",
              "      <th>Label</th>\n",
              "    </tr>\n",
              "  </thead>\n",
              "  <tbody>\n",
              "    <tr>\n",
              "      <th>0</th>\n",
              "      <td>3/11/2014 17:35</td>\n",
              "      <td>Unknown_UDP</td>\n",
              "      <td>2633658</td>\n",
              "      <td>0</td>\n",
              "      <td>0</td>\n",
              "      <td>28971</td>\n",
              "      <td>NaN</td>\n",
              "      <td>NaN</td>\n",
              "      <td>NaN</td>\n",
              "      <td>NaN</td>\n",
              "      <td>...</td>\n",
              "      <td>NaN</td>\n",
              "      <td>NaN</td>\n",
              "      <td>192.168.5.122</td>\n",
              "      <td>udp_ip</td>\n",
              "      <td>5353</td>\n",
              "      <td>224.0.0.251</td>\n",
              "      <td>5353</td>\n",
              "      <td>6/12/2010 23:57</td>\n",
              "      <td>6/13/2010 9:24</td>\n",
              "      <td>Normal</td>\n",
              "    </tr>\n",
              "    <tr>\n",
              "      <th>1</th>\n",
              "      <td>3/11/2014 17:35</td>\n",
              "      <td>Unknown_UDP</td>\n",
              "      <td>2633658</td>\n",
              "      <td>0</td>\n",
              "      <td>0</td>\n",
              "      <td>28971</td>\n",
              "      <td>NaN</td>\n",
              "      <td>NaN</td>\n",
              "      <td>NaN</td>\n",
              "      <td>NaN</td>\n",
              "      <td>...</td>\n",
              "      <td>NaN</td>\n",
              "      <td>NaN</td>\n",
              "      <td>192.168.5.122</td>\n",
              "      <td>udp_ip</td>\n",
              "      <td>5353</td>\n",
              "      <td>224.0.0.251</td>\n",
              "      <td>5353</td>\n",
              "      <td>6/12/2010 23:57</td>\n",
              "      <td>6/13/2010 9:24</td>\n",
              "      <td>Normal</td>\n",
              "    </tr>\n",
              "    <tr>\n",
              "      <th>2</th>\n",
              "      <td>3/11/2014 17:35</td>\n",
              "      <td>HTTPWeb</td>\n",
              "      <td>64</td>\n",
              "      <td>128</td>\n",
              "      <td>2</td>\n",
              "      <td>1</td>\n",
              "      <td>NaN</td>\n",
              "      <td>NaN</td>\n",
              "      <td>NaN</td>\n",
              "      <td>NaN</td>\n",
              "      <td>...</td>\n",
              "      <td>F,A</td>\n",
              "      <td>R</td>\n",
              "      <td>192.168.2.113</td>\n",
              "      <td>tcp_ip</td>\n",
              "      <td>4191</td>\n",
              "      <td>192.168.5.122</td>\n",
              "      <td>80</td>\n",
              "      <td>6/12/2010 23:57</td>\n",
              "      <td>6/12/2010 23:59</td>\n",
              "      <td>Normal</td>\n",
              "    </tr>\n",
              "    <tr>\n",
              "      <th>3</th>\n",
              "      <td>3/11/2014 17:35</td>\n",
              "      <td>HTTPWeb</td>\n",
              "      <td>64</td>\n",
              "      <td>128</td>\n",
              "      <td>2</td>\n",
              "      <td>1</td>\n",
              "      <td>NaN</td>\n",
              "      <td>NaN</td>\n",
              "      <td>NaN</td>\n",
              "      <td>NaN</td>\n",
              "      <td>...</td>\n",
              "      <td>F,A</td>\n",
              "      <td>R</td>\n",
              "      <td>192.168.2.113</td>\n",
              "      <td>tcp_ip</td>\n",
              "      <td>4191</td>\n",
              "      <td>192.168.5.122</td>\n",
              "      <td>80</td>\n",
              "      <td>6/12/2010 23:57</td>\n",
              "      <td>6/12/2010 23:59</td>\n",
              "      <td>Normal</td>\n",
              "    </tr>\n",
              "    <tr>\n",
              "      <th>4</th>\n",
              "      <td>3/11/2014 17:35</td>\n",
              "      <td>HTTPWeb</td>\n",
              "      <td>128</td>\n",
              "      <td>64</td>\n",
              "      <td>1</td>\n",
              "      <td>2</td>\n",
              "      <td>NaN</td>\n",
              "      <td>NaN</td>\n",
              "      <td>NaN</td>\n",
              "      <td>NaN</td>\n",
              "      <td>...</td>\n",
              "      <td>F,A</td>\n",
              "      <td>F,A</td>\n",
              "      <td>192.168.2.113</td>\n",
              "      <td>tcp_ip</td>\n",
              "      <td>4192</td>\n",
              "      <td>207.241.148.80</td>\n",
              "      <td>80</td>\n",
              "      <td>6/12/2010 23:57</td>\n",
              "      <td>6/12/2010 23:59</td>\n",
              "      <td>Normal</td>\n",
              "    </tr>\n",
              "    <tr>\n",
              "      <th>5</th>\n",
              "      <td>3/11/2014 17:35</td>\n",
              "      <td>HTTPWeb</td>\n",
              "      <td>128</td>\n",
              "      <td>64</td>\n",
              "      <td>1</td>\n",
              "      <td>2</td>\n",
              "      <td>NaN</td>\n",
              "      <td>NaN</td>\n",
              "      <td>NaN</td>\n",
              "      <td>NaN</td>\n",
              "      <td>...</td>\n",
              "      <td>F,A</td>\n",
              "      <td>F,A</td>\n",
              "      <td>192.168.2.113</td>\n",
              "      <td>tcp_ip</td>\n",
              "      <td>4192</td>\n",
              "      <td>207.241.148.80</td>\n",
              "      <td>80</td>\n",
              "      <td>6/12/2010 23:57</td>\n",
              "      <td>6/12/2010 23:59</td>\n",
              "      <td>Normal</td>\n",
              "    </tr>\n",
              "    <tr>\n",
              "      <th>6</th>\n",
              "      <td>3/11/2014 17:35</td>\n",
              "      <td>HTTPImageTransfer</td>\n",
              "      <td>128</td>\n",
              "      <td>128</td>\n",
              "      <td>2</td>\n",
              "      <td>2</td>\n",
              "      <td>NaN</td>\n",
              "      <td>NaN</td>\n",
              "      <td>NaN</td>\n",
              "      <td>NaN</td>\n",
              "      <td>...</td>\n",
              "      <td>F,A</td>\n",
              "      <td>F,A</td>\n",
              "      <td>192.168.2.110</td>\n",
              "      <td>tcp_ip</td>\n",
              "      <td>1864</td>\n",
              "      <td>216.49.88.12</td>\n",
              "      <td>80</td>\n",
              "      <td>6/12/2010 23:57</td>\n",
              "      <td>6/12/2010 23:59</td>\n",
              "      <td>Normal</td>\n",
              "    </tr>\n",
              "    <tr>\n",
              "      <th>7</th>\n",
              "      <td>3/11/2014 17:35</td>\n",
              "      <td>HTTPImageTransfer</td>\n",
              "      <td>128</td>\n",
              "      <td>128</td>\n",
              "      <td>2</td>\n",
              "      <td>2</td>\n",
              "      <td>NaN</td>\n",
              "      <td>NaN</td>\n",
              "      <td>NaN</td>\n",
              "      <td>NaN</td>\n",
              "      <td>...</td>\n",
              "      <td>F,A</td>\n",
              "      <td>F,A</td>\n",
              "      <td>192.168.2.110</td>\n",
              "      <td>tcp_ip</td>\n",
              "      <td>1864</td>\n",
              "      <td>216.49.88.12</td>\n",
              "      <td>80</td>\n",
              "      <td>6/12/2010 23:57</td>\n",
              "      <td>6/12/2010 23:59</td>\n",
              "      <td>Normal</td>\n",
              "    </tr>\n",
              "    <tr>\n",
              "      <th>8</th>\n",
              "      <td>3/11/2014 17:35</td>\n",
              "      <td>SecureWeb</td>\n",
              "      <td>64</td>\n",
              "      <td>0</td>\n",
              "      <td>0</td>\n",
              "      <td>1</td>\n",
              "      <td>NaN</td>\n",
              "      <td>NaN</td>\n",
              "      <td>NaN</td>\n",
              "      <td>NaN</td>\n",
              "      <td>...</td>\n",
              "      <td>F,A</td>\n",
              "      <td>NaN</td>\n",
              "      <td>192.168.2.113</td>\n",
              "      <td>tcp_ip</td>\n",
              "      <td>4186</td>\n",
              "      <td>63.245.209.72</td>\n",
              "      <td>443</td>\n",
              "      <td>6/12/2010 23:58</td>\n",
              "      <td>6/12/2010 23:59</td>\n",
              "      <td>Normal</td>\n",
              "    </tr>\n",
              "    <tr>\n",
              "      <th>9</th>\n",
              "      <td>3/11/2014 17:35</td>\n",
              "      <td>SecureWeb</td>\n",
              "      <td>64</td>\n",
              "      <td>0</td>\n",
              "      <td>0</td>\n",
              "      <td>1</td>\n",
              "      <td>NaN</td>\n",
              "      <td>NaN</td>\n",
              "      <td>NaN</td>\n",
              "      <td>NaN</td>\n",
              "      <td>...</td>\n",
              "      <td>F,A</td>\n",
              "      <td>NaN</td>\n",
              "      <td>192.168.2.113</td>\n",
              "      <td>tcp_ip</td>\n",
              "      <td>4186</td>\n",
              "      <td>63.245.209.72</td>\n",
              "      <td>443</td>\n",
              "      <td>6/12/2010 23:58</td>\n",
              "      <td>6/12/2010 23:59</td>\n",
              "      <td>Normal</td>\n",
              "    </tr>\n",
              "  </tbody>\n",
              "</table>\n",
              "<p>10 rows × 21 columns</p>\n",
              "</div>\n",
              "    <div class=\"colab-df-buttons\">\n",
              "\n",
              "  <div class=\"colab-df-container\">\n",
              "    <button class=\"colab-df-convert\" onclick=\"convertToInteractive('df-68778561-c65b-4ef3-bb68-ed0ff5fefd6a')\"\n",
              "            title=\"Convert this dataframe to an interactive table.\"\n",
              "            style=\"display:none;\">\n",
              "\n",
              "  <svg xmlns=\"http://www.w3.org/2000/svg\" height=\"24px\" viewBox=\"0 -960 960 960\">\n",
              "    <path d=\"M120-120v-720h720v720H120Zm60-500h600v-160H180v160Zm220 220h160v-160H400v160Zm0 220h160v-160H400v160ZM180-400h160v-160H180v160Zm440 0h160v-160H620v160ZM180-180h160v-160H180v160Zm440 0h160v-160H620v160Z\"/>\n",
              "  </svg>\n",
              "    </button>\n",
              "\n",
              "  <style>\n",
              "    .colab-df-container {\n",
              "      display:flex;\n",
              "      gap: 12px;\n",
              "    }\n",
              "\n",
              "    .colab-df-convert {\n",
              "      background-color: #E8F0FE;\n",
              "      border: none;\n",
              "      border-radius: 50%;\n",
              "      cursor: pointer;\n",
              "      display: none;\n",
              "      fill: #1967D2;\n",
              "      height: 32px;\n",
              "      padding: 0 0 0 0;\n",
              "      width: 32px;\n",
              "    }\n",
              "\n",
              "    .colab-df-convert:hover {\n",
              "      background-color: #E2EBFA;\n",
              "      box-shadow: 0px 1px 2px rgba(60, 64, 67, 0.3), 0px 1px 3px 1px rgba(60, 64, 67, 0.15);\n",
              "      fill: #174EA6;\n",
              "    }\n",
              "\n",
              "    .colab-df-buttons div {\n",
              "      margin-bottom: 4px;\n",
              "    }\n",
              "\n",
              "    [theme=dark] .colab-df-convert {\n",
              "      background-color: #3B4455;\n",
              "      fill: #D2E3FC;\n",
              "    }\n",
              "\n",
              "    [theme=dark] .colab-df-convert:hover {\n",
              "      background-color: #434B5C;\n",
              "      box-shadow: 0px 1px 3px 1px rgba(0, 0, 0, 0.15);\n",
              "      filter: drop-shadow(0px 1px 2px rgba(0, 0, 0, 0.3));\n",
              "      fill: #FFFFFF;\n",
              "    }\n",
              "  </style>\n",
              "\n",
              "    <script>\n",
              "      const buttonEl =\n",
              "        document.querySelector('#df-68778561-c65b-4ef3-bb68-ed0ff5fefd6a button.colab-df-convert');\n",
              "      buttonEl.style.display =\n",
              "        google.colab.kernel.accessAllowed ? 'block' : 'none';\n",
              "\n",
              "      async function convertToInteractive(key) {\n",
              "        const element = document.querySelector('#df-68778561-c65b-4ef3-bb68-ed0ff5fefd6a');\n",
              "        const dataTable =\n",
              "          await google.colab.kernel.invokeFunction('convertToInteractive',\n",
              "                                                    [key], {});\n",
              "        if (!dataTable) return;\n",
              "\n",
              "        const docLinkHtml = 'Like what you see? Visit the ' +\n",
              "          '<a target=\"_blank\" href=https://colab.research.google.com/notebooks/data_table.ipynb>data table notebook</a>'\n",
              "          + ' to learn more about interactive tables.';\n",
              "        element.innerHTML = '';\n",
              "        dataTable['output_type'] = 'display_data';\n",
              "        await google.colab.output.renderOutput(dataTable, element);\n",
              "        const docLink = document.createElement('div');\n",
              "        docLink.innerHTML = docLinkHtml;\n",
              "        element.appendChild(docLink);\n",
              "      }\n",
              "    </script>\n",
              "  </div>\n",
              "\n",
              "\n",
              "<div id=\"df-bb575a43-745e-402e-945d-347d071660a6\">\n",
              "  <button class=\"colab-df-quickchart\" onclick=\"quickchart('df-bb575a43-745e-402e-945d-347d071660a6')\"\n",
              "            title=\"Suggest charts\"\n",
              "            style=\"display:none;\">\n",
              "\n",
              "<svg xmlns=\"http://www.w3.org/2000/svg\" height=\"24px\"viewBox=\"0 0 24 24\"\n",
              "     width=\"24px\">\n",
              "    <g>\n",
              "        <path d=\"M19 3H5c-1.1 0-2 .9-2 2v14c0 1.1.9 2 2 2h14c1.1 0 2-.9 2-2V5c0-1.1-.9-2-2-2zM9 17H7v-7h2v7zm4 0h-2V7h2v10zm4 0h-2v-4h2v4z\"/>\n",
              "    </g>\n",
              "</svg>\n",
              "  </button>\n",
              "\n",
              "<style>\n",
              "  .colab-df-quickchart {\n",
              "      --bg-color: #E8F0FE;\n",
              "      --fill-color: #1967D2;\n",
              "      --hover-bg-color: #E2EBFA;\n",
              "      --hover-fill-color: #174EA6;\n",
              "      --disabled-fill-color: #AAA;\n",
              "      --disabled-bg-color: #DDD;\n",
              "  }\n",
              "\n",
              "  [theme=dark] .colab-df-quickchart {\n",
              "      --bg-color: #3B4455;\n",
              "      --fill-color: #D2E3FC;\n",
              "      --hover-bg-color: #434B5C;\n",
              "      --hover-fill-color: #FFFFFF;\n",
              "      --disabled-bg-color: #3B4455;\n",
              "      --disabled-fill-color: #666;\n",
              "  }\n",
              "\n",
              "  .colab-df-quickchart {\n",
              "    background-color: var(--bg-color);\n",
              "    border: none;\n",
              "    border-radius: 50%;\n",
              "    cursor: pointer;\n",
              "    display: none;\n",
              "    fill: var(--fill-color);\n",
              "    height: 32px;\n",
              "    padding: 0;\n",
              "    width: 32px;\n",
              "  }\n",
              "\n",
              "  .colab-df-quickchart:hover {\n",
              "    background-color: var(--hover-bg-color);\n",
              "    box-shadow: 0 1px 2px rgba(60, 64, 67, 0.3), 0 1px 3px 1px rgba(60, 64, 67, 0.15);\n",
              "    fill: var(--button-hover-fill-color);\n",
              "  }\n",
              "\n",
              "  .colab-df-quickchart-complete:disabled,\n",
              "  .colab-df-quickchart-complete:disabled:hover {\n",
              "    background-color: var(--disabled-bg-color);\n",
              "    fill: var(--disabled-fill-color);\n",
              "    box-shadow: none;\n",
              "  }\n",
              "\n",
              "  .colab-df-spinner {\n",
              "    border: 2px solid var(--fill-color);\n",
              "    border-color: transparent;\n",
              "    border-bottom-color: var(--fill-color);\n",
              "    animation:\n",
              "      spin 1s steps(1) infinite;\n",
              "  }\n",
              "\n",
              "  @keyframes spin {\n",
              "    0% {\n",
              "      border-color: transparent;\n",
              "      border-bottom-color: var(--fill-color);\n",
              "      border-left-color: var(--fill-color);\n",
              "    }\n",
              "    20% {\n",
              "      border-color: transparent;\n",
              "      border-left-color: var(--fill-color);\n",
              "      border-top-color: var(--fill-color);\n",
              "    }\n",
              "    30% {\n",
              "      border-color: transparent;\n",
              "      border-left-color: var(--fill-color);\n",
              "      border-top-color: var(--fill-color);\n",
              "      border-right-color: var(--fill-color);\n",
              "    }\n",
              "    40% {\n",
              "      border-color: transparent;\n",
              "      border-right-color: var(--fill-color);\n",
              "      border-top-color: var(--fill-color);\n",
              "    }\n",
              "    60% {\n",
              "      border-color: transparent;\n",
              "      border-right-color: var(--fill-color);\n",
              "    }\n",
              "    80% {\n",
              "      border-color: transparent;\n",
              "      border-right-color: var(--fill-color);\n",
              "      border-bottom-color: var(--fill-color);\n",
              "    }\n",
              "    90% {\n",
              "      border-color: transparent;\n",
              "      border-bottom-color: var(--fill-color);\n",
              "    }\n",
              "  }\n",
              "</style>\n",
              "\n",
              "  <script>\n",
              "    async function quickchart(key) {\n",
              "      const quickchartButtonEl =\n",
              "        document.querySelector('#' + key + ' button');\n",
              "      quickchartButtonEl.disabled = true;  // To prevent multiple clicks.\n",
              "      quickchartButtonEl.classList.add('colab-df-spinner');\n",
              "      try {\n",
              "        const charts = await google.colab.kernel.invokeFunction(\n",
              "            'suggestCharts', [key], {});\n",
              "      } catch (error) {\n",
              "        console.error('Error during call to suggestCharts:', error);\n",
              "      }\n",
              "      quickchartButtonEl.classList.remove('colab-df-spinner');\n",
              "      quickchartButtonEl.classList.add('colab-df-quickchart-complete');\n",
              "    }\n",
              "    (() => {\n",
              "      let quickchartButtonEl =\n",
              "        document.querySelector('#df-bb575a43-745e-402e-945d-347d071660a6 button');\n",
              "      quickchartButtonEl.style.display =\n",
              "        google.colab.kernel.accessAllowed ? 'block' : 'none';\n",
              "    })();\n",
              "  </script>\n",
              "</div>\n",
              "\n",
              "    </div>\n",
              "  </div>\n"
            ],
            "application/vnd.google.colaboratory.intrinsic+json": {
              "type": "dataframe"
            }
          },
          "metadata": {},
          "execution_count": 3
        }
      ],
      "source": [
        "df[:10]"
      ]
    },
    {
      "cell_type": "code",
      "execution_count": null,
      "metadata": {
        "colab": {
          "base_uri": "https://localhost:8080/",
          "height": 360
        },
        "id": "XJ76gH_a-fsy",
        "outputId": "83281377-eec9-4a56-cf51-4a6656afdb1c"
      },
      "outputs": [
        {
          "output_type": "execute_result",
          "data": {
            "text/plain": [
              "               generated     appName  totalSourceBytes  totalDestinationBytes  \\\n",
              "2071652  3/11/2014 17:23         DNS                89                    280   \n",
              "2071653  3/11/2014 17:23         DNS               100                    151   \n",
              "2071654  3/11/2014 17:23  NetBIOS-IP               247                      0   \n",
              "2071655  3/11/2014 17:23     HTTPWeb              1266                  37732   \n",
              "2071656  3/11/2014 17:23         SSH               680                   1852   \n",
              "\n",
              "         totalDestinationPackets  totalSourcePackets  \\\n",
              "2071652                        2                   1   \n",
              "2071653                        1                   1   \n",
              "2071654                        0                   1   \n",
              "2071655                       29                  18   \n",
              "2071656                       18                   7   \n",
              "\n",
              "                                     sourcePayloadAsBase64  \\\n",
              "2071652  C/QBAAABAAAAAAAAC2Rpc25leXBhcmtzBmRpc25leQJnbw...   \n",
              "2071653  HRgBAAABAAAAAAABC2Rpc25leXBhcmtzBmRpc25leQJnbw...   \n",
              "2071654  EQKSwcCoBHYAigC7AAAgRkVFRkZERkVFQ0VGRUVEQkRJQ0...   \n",
              "2071655  R0VUIC9rci9hYm91dC11cy9jb21wYW55LW92ZXJ2aWV3Lz...   \n",
              "2071656                                                NaN   \n",
              "\n",
              "                                        sourcePayloadAsUTF  \\\n",
              "2071652                             disneyparksdisneygocom   \n",
              "2071653               ......disneyparks.disney.go.com..)..   \n",
              "2071654  .......v.. FEEFFDFEECEFEEDBDICACACACACACACA FH...   \n",
              "2071655  GET /kr/about-us/company-overview/?tracked=&pa...   \n",
              "2071656                                                NaN   \n",
              "\n",
              "                                destinationPayloadAsBase64  \\\n",
              "2071652  C/SBgAABAAEAAQABC2Rpc25leXBhcmtzBmRpc25leQJnbw...   \n",
              "2071653  HRiBgAABAAEAAQACC2Rpc25leXBhcmtzBmRpc25leQJnbw...   \n",
              "2071654                                                NaN   \n",
              "2071655  SFRUUC8xLjAgMjAwIE9LDQpEYXRlOiBTYXQsIDEyIEp1bi...   \n",
              "2071656                                                NaN   \n",
              "\n",
              "                                   destinationPayloadAsUTF  ...  \\\n",
              "2071652                            disneyparksdisneygocom,  ...   \n",
              "2071653  .........disneyparks.disney.go.com.......,..i....  ...   \n",
              "2071654                                                NaN  ...   \n",
              "2071655  HTTP/1.0 200 OKDate: Sat, 12 Jun 2010 02:59:44...  ...   \n",
              "2071656                                                NaN  ...   \n",
              "\n",
              "        sourceTCPFlagsDescription destinationTCPFlagsDescription  \\\n",
              "2071652                       NaN                            NaN   \n",
              "2071653                       NaN                            NaN   \n",
              "2071654                       NaN                            NaN   \n",
              "2071655                   F,S,P,A                        F,S,P,A   \n",
              "2071656                     R,P,A                            P,A   \n",
              "\n",
              "                source protocolName sourcePort     destination  \\\n",
              "2071652  192.168.1.105       udp_ip       1110   192.168.5.122   \n",
              "2071653  192.168.5.122       udp_ip      61732    198.164.30.2   \n",
              "2071654  192.168.4.118       udp_ip        138   192.168.4.255   \n",
              "2071655  192.168.2.110       tcp_ip       3906  91.195.240.124   \n",
              "2071656  192.168.1.103       tcp_ip       1696   192.168.5.122   \n",
              "\n",
              "        destinationPort    startDateTime     stopDateTime   Label  \n",
              "2071652              53  6/11/2010 23:59  6/11/2010 23:59  Normal  \n",
              "2071653              53  6/11/2010 23:59  6/11/2010 23:59  Normal  \n",
              "2071654             138  6/11/2010 23:59  6/11/2010 23:59  Normal  \n",
              "2071655              80  6/11/2010 23:59  6/11/2010 23:59  Normal  \n",
              "2071656              22  6/11/2010 23:58  6/11/2010 23:59  Normal  \n",
              "\n",
              "[5 rows x 21 columns]"
            ],
            "text/html": [
              "\n",
              "  <div id=\"df-0a6006c9-9cbb-4b09-abc4-ec8680da1cc4\" class=\"colab-df-container\">\n",
              "    <div>\n",
              "<style scoped>\n",
              "    .dataframe tbody tr th:only-of-type {\n",
              "        vertical-align: middle;\n",
              "    }\n",
              "\n",
              "    .dataframe tbody tr th {\n",
              "        vertical-align: top;\n",
              "    }\n",
              "\n",
              "    .dataframe thead th {\n",
              "        text-align: right;\n",
              "    }\n",
              "</style>\n",
              "<table border=\"1\" class=\"dataframe\">\n",
              "  <thead>\n",
              "    <tr style=\"text-align: right;\">\n",
              "      <th></th>\n",
              "      <th>generated</th>\n",
              "      <th>appName</th>\n",
              "      <th>totalSourceBytes</th>\n",
              "      <th>totalDestinationBytes</th>\n",
              "      <th>totalDestinationPackets</th>\n",
              "      <th>totalSourcePackets</th>\n",
              "      <th>sourcePayloadAsBase64</th>\n",
              "      <th>sourcePayloadAsUTF</th>\n",
              "      <th>destinationPayloadAsBase64</th>\n",
              "      <th>destinationPayloadAsUTF</th>\n",
              "      <th>...</th>\n",
              "      <th>sourceTCPFlagsDescription</th>\n",
              "      <th>destinationTCPFlagsDescription</th>\n",
              "      <th>source</th>\n",
              "      <th>protocolName</th>\n",
              "      <th>sourcePort</th>\n",
              "      <th>destination</th>\n",
              "      <th>destinationPort</th>\n",
              "      <th>startDateTime</th>\n",
              "      <th>stopDateTime</th>\n",
              "      <th>Label</th>\n",
              "    </tr>\n",
              "  </thead>\n",
              "  <tbody>\n",
              "    <tr>\n",
              "      <th>2071652</th>\n",
              "      <td>3/11/2014 17:23</td>\n",
              "      <td>DNS</td>\n",
              "      <td>89</td>\n",
              "      <td>280</td>\n",
              "      <td>2</td>\n",
              "      <td>1</td>\n",
              "      <td>C/QBAAABAAAAAAAAC2Rpc25leXBhcmtzBmRpc25leQJnbw...</td>\n",
              "      <td>disneyparksdisneygocom</td>\n",
              "      <td>C/SBgAABAAEAAQABC2Rpc25leXBhcmtzBmRpc25leQJnbw...</td>\n",
              "      <td>disneyparksdisneygocom,</td>\n",
              "      <td>...</td>\n",
              "      <td>NaN</td>\n",
              "      <td>NaN</td>\n",
              "      <td>192.168.1.105</td>\n",
              "      <td>udp_ip</td>\n",
              "      <td>1110</td>\n",
              "      <td>192.168.5.122</td>\n",
              "      <td>53</td>\n",
              "      <td>6/11/2010 23:59</td>\n",
              "      <td>6/11/2010 23:59</td>\n",
              "      <td>Normal</td>\n",
              "    </tr>\n",
              "    <tr>\n",
              "      <th>2071653</th>\n",
              "      <td>3/11/2014 17:23</td>\n",
              "      <td>DNS</td>\n",
              "      <td>100</td>\n",
              "      <td>151</td>\n",
              "      <td>1</td>\n",
              "      <td>1</td>\n",
              "      <td>HRgBAAABAAAAAAABC2Rpc25leXBhcmtzBmRpc25leQJnbw...</td>\n",
              "      <td>......disneyparks.disney.go.com..)..</td>\n",
              "      <td>HRiBgAABAAEAAQACC2Rpc25leXBhcmtzBmRpc25leQJnbw...</td>\n",
              "      <td>.........disneyparks.disney.go.com.......,..i....</td>\n",
              "      <td>...</td>\n",
              "      <td>NaN</td>\n",
              "      <td>NaN</td>\n",
              "      <td>192.168.5.122</td>\n",
              "      <td>udp_ip</td>\n",
              "      <td>61732</td>\n",
              "      <td>198.164.30.2</td>\n",
              "      <td>53</td>\n",
              "      <td>6/11/2010 23:59</td>\n",
              "      <td>6/11/2010 23:59</td>\n",
              "      <td>Normal</td>\n",
              "    </tr>\n",
              "    <tr>\n",
              "      <th>2071654</th>\n",
              "      <td>3/11/2014 17:23</td>\n",
              "      <td>NetBIOS-IP</td>\n",
              "      <td>247</td>\n",
              "      <td>0</td>\n",
              "      <td>0</td>\n",
              "      <td>1</td>\n",
              "      <td>EQKSwcCoBHYAigC7AAAgRkVFRkZERkVFQ0VGRUVEQkRJQ0...</td>\n",
              "      <td>.......v.. FEEFFDFEECEFEEDBDICACACACACACACA FH...</td>\n",
              "      <td>NaN</td>\n",
              "      <td>NaN</td>\n",
              "      <td>...</td>\n",
              "      <td>NaN</td>\n",
              "      <td>NaN</td>\n",
              "      <td>192.168.4.118</td>\n",
              "      <td>udp_ip</td>\n",
              "      <td>138</td>\n",
              "      <td>192.168.4.255</td>\n",
              "      <td>138</td>\n",
              "      <td>6/11/2010 23:59</td>\n",
              "      <td>6/11/2010 23:59</td>\n",
              "      <td>Normal</td>\n",
              "    </tr>\n",
              "    <tr>\n",
              "      <th>2071655</th>\n",
              "      <td>3/11/2014 17:23</td>\n",
              "      <td>HTTPWeb</td>\n",
              "      <td>1266</td>\n",
              "      <td>37732</td>\n",
              "      <td>29</td>\n",
              "      <td>18</td>\n",
              "      <td>R0VUIC9rci9hYm91dC11cy9jb21wYW55LW92ZXJ2aWV3Lz...</td>\n",
              "      <td>GET /kr/about-us/company-overview/?tracked=&amp;pa...</td>\n",
              "      <td>SFRUUC8xLjAgMjAwIE9LDQpEYXRlOiBTYXQsIDEyIEp1bi...</td>\n",
              "      <td>HTTP/1.0 200 OKDate: Sat, 12 Jun 2010 02:59:44...</td>\n",
              "      <td>...</td>\n",
              "      <td>F,S,P,A</td>\n",
              "      <td>F,S,P,A</td>\n",
              "      <td>192.168.2.110</td>\n",
              "      <td>tcp_ip</td>\n",
              "      <td>3906</td>\n",
              "      <td>91.195.240.124</td>\n",
              "      <td>80</td>\n",
              "      <td>6/11/2010 23:59</td>\n",
              "      <td>6/11/2010 23:59</td>\n",
              "      <td>Normal</td>\n",
              "    </tr>\n",
              "    <tr>\n",
              "      <th>2071656</th>\n",
              "      <td>3/11/2014 17:23</td>\n",
              "      <td>SSH</td>\n",
              "      <td>680</td>\n",
              "      <td>1852</td>\n",
              "      <td>18</td>\n",
              "      <td>7</td>\n",
              "      <td>NaN</td>\n",
              "      <td>NaN</td>\n",
              "      <td>NaN</td>\n",
              "      <td>NaN</td>\n",
              "      <td>...</td>\n",
              "      <td>R,P,A</td>\n",
              "      <td>P,A</td>\n",
              "      <td>192.168.1.103</td>\n",
              "      <td>tcp_ip</td>\n",
              "      <td>1696</td>\n",
              "      <td>192.168.5.122</td>\n",
              "      <td>22</td>\n",
              "      <td>6/11/2010 23:58</td>\n",
              "      <td>6/11/2010 23:59</td>\n",
              "      <td>Normal</td>\n",
              "    </tr>\n",
              "  </tbody>\n",
              "</table>\n",
              "<p>5 rows × 21 columns</p>\n",
              "</div>\n",
              "    <div class=\"colab-df-buttons\">\n",
              "\n",
              "  <div class=\"colab-df-container\">\n",
              "    <button class=\"colab-df-convert\" onclick=\"convertToInteractive('df-0a6006c9-9cbb-4b09-abc4-ec8680da1cc4')\"\n",
              "            title=\"Convert this dataframe to an interactive table.\"\n",
              "            style=\"display:none;\">\n",
              "\n",
              "  <svg xmlns=\"http://www.w3.org/2000/svg\" height=\"24px\" viewBox=\"0 -960 960 960\">\n",
              "    <path d=\"M120-120v-720h720v720H120Zm60-500h600v-160H180v160Zm220 220h160v-160H400v160Zm0 220h160v-160H400v160ZM180-400h160v-160H180v160Zm440 0h160v-160H620v160ZM180-180h160v-160H180v160Zm440 0h160v-160H620v160Z\"/>\n",
              "  </svg>\n",
              "    </button>\n",
              "\n",
              "  <style>\n",
              "    .colab-df-container {\n",
              "      display:flex;\n",
              "      gap: 12px;\n",
              "    }\n",
              "\n",
              "    .colab-df-convert {\n",
              "      background-color: #E8F0FE;\n",
              "      border: none;\n",
              "      border-radius: 50%;\n",
              "      cursor: pointer;\n",
              "      display: none;\n",
              "      fill: #1967D2;\n",
              "      height: 32px;\n",
              "      padding: 0 0 0 0;\n",
              "      width: 32px;\n",
              "    }\n",
              "\n",
              "    .colab-df-convert:hover {\n",
              "      background-color: #E2EBFA;\n",
              "      box-shadow: 0px 1px 2px rgba(60, 64, 67, 0.3), 0px 1px 3px 1px rgba(60, 64, 67, 0.15);\n",
              "      fill: #174EA6;\n",
              "    }\n",
              "\n",
              "    .colab-df-buttons div {\n",
              "      margin-bottom: 4px;\n",
              "    }\n",
              "\n",
              "    [theme=dark] .colab-df-convert {\n",
              "      background-color: #3B4455;\n",
              "      fill: #D2E3FC;\n",
              "    }\n",
              "\n",
              "    [theme=dark] .colab-df-convert:hover {\n",
              "      background-color: #434B5C;\n",
              "      box-shadow: 0px 1px 3px 1px rgba(0, 0, 0, 0.15);\n",
              "      filter: drop-shadow(0px 1px 2px rgba(0, 0, 0, 0.3));\n",
              "      fill: #FFFFFF;\n",
              "    }\n",
              "  </style>\n",
              "\n",
              "    <script>\n",
              "      const buttonEl =\n",
              "        document.querySelector('#df-0a6006c9-9cbb-4b09-abc4-ec8680da1cc4 button.colab-df-convert');\n",
              "      buttonEl.style.display =\n",
              "        google.colab.kernel.accessAllowed ? 'block' : 'none';\n",
              "\n",
              "      async function convertToInteractive(key) {\n",
              "        const element = document.querySelector('#df-0a6006c9-9cbb-4b09-abc4-ec8680da1cc4');\n",
              "        const dataTable =\n",
              "          await google.colab.kernel.invokeFunction('convertToInteractive',\n",
              "                                                    [key], {});\n",
              "        if (!dataTable) return;\n",
              "\n",
              "        const docLinkHtml = 'Like what you see? Visit the ' +\n",
              "          '<a target=\"_blank\" href=https://colab.research.google.com/notebooks/data_table.ipynb>data table notebook</a>'\n",
              "          + ' to learn more about interactive tables.';\n",
              "        element.innerHTML = '';\n",
              "        dataTable['output_type'] = 'display_data';\n",
              "        await google.colab.output.renderOutput(dataTable, element);\n",
              "        const docLink = document.createElement('div');\n",
              "        docLink.innerHTML = docLinkHtml;\n",
              "        element.appendChild(docLink);\n",
              "      }\n",
              "    </script>\n",
              "  </div>\n",
              "\n",
              "\n",
              "<div id=\"df-bb872f07-ceb7-49af-a192-02c6ef486990\">\n",
              "  <button class=\"colab-df-quickchart\" onclick=\"quickchart('df-bb872f07-ceb7-49af-a192-02c6ef486990')\"\n",
              "            title=\"Suggest charts\"\n",
              "            style=\"display:none;\">\n",
              "\n",
              "<svg xmlns=\"http://www.w3.org/2000/svg\" height=\"24px\"viewBox=\"0 0 24 24\"\n",
              "     width=\"24px\">\n",
              "    <g>\n",
              "        <path d=\"M19 3H5c-1.1 0-2 .9-2 2v14c0 1.1.9 2 2 2h14c1.1 0 2-.9 2-2V5c0-1.1-.9-2-2-2zM9 17H7v-7h2v7zm4 0h-2V7h2v10zm4 0h-2v-4h2v4z\"/>\n",
              "    </g>\n",
              "</svg>\n",
              "  </button>\n",
              "\n",
              "<style>\n",
              "  .colab-df-quickchart {\n",
              "      --bg-color: #E8F0FE;\n",
              "      --fill-color: #1967D2;\n",
              "      --hover-bg-color: #E2EBFA;\n",
              "      --hover-fill-color: #174EA6;\n",
              "      --disabled-fill-color: #AAA;\n",
              "      --disabled-bg-color: #DDD;\n",
              "  }\n",
              "\n",
              "  [theme=dark] .colab-df-quickchart {\n",
              "      --bg-color: #3B4455;\n",
              "      --fill-color: #D2E3FC;\n",
              "      --hover-bg-color: #434B5C;\n",
              "      --hover-fill-color: #FFFFFF;\n",
              "      --disabled-bg-color: #3B4455;\n",
              "      --disabled-fill-color: #666;\n",
              "  }\n",
              "\n",
              "  .colab-df-quickchart {\n",
              "    background-color: var(--bg-color);\n",
              "    border: none;\n",
              "    border-radius: 50%;\n",
              "    cursor: pointer;\n",
              "    display: none;\n",
              "    fill: var(--fill-color);\n",
              "    height: 32px;\n",
              "    padding: 0;\n",
              "    width: 32px;\n",
              "  }\n",
              "\n",
              "  .colab-df-quickchart:hover {\n",
              "    background-color: var(--hover-bg-color);\n",
              "    box-shadow: 0 1px 2px rgba(60, 64, 67, 0.3), 0 1px 3px 1px rgba(60, 64, 67, 0.15);\n",
              "    fill: var(--button-hover-fill-color);\n",
              "  }\n",
              "\n",
              "  .colab-df-quickchart-complete:disabled,\n",
              "  .colab-df-quickchart-complete:disabled:hover {\n",
              "    background-color: var(--disabled-bg-color);\n",
              "    fill: var(--disabled-fill-color);\n",
              "    box-shadow: none;\n",
              "  }\n",
              "\n",
              "  .colab-df-spinner {\n",
              "    border: 2px solid var(--fill-color);\n",
              "    border-color: transparent;\n",
              "    border-bottom-color: var(--fill-color);\n",
              "    animation:\n",
              "      spin 1s steps(1) infinite;\n",
              "  }\n",
              "\n",
              "  @keyframes spin {\n",
              "    0% {\n",
              "      border-color: transparent;\n",
              "      border-bottom-color: var(--fill-color);\n",
              "      border-left-color: var(--fill-color);\n",
              "    }\n",
              "    20% {\n",
              "      border-color: transparent;\n",
              "      border-left-color: var(--fill-color);\n",
              "      border-top-color: var(--fill-color);\n",
              "    }\n",
              "    30% {\n",
              "      border-color: transparent;\n",
              "      border-left-color: var(--fill-color);\n",
              "      border-top-color: var(--fill-color);\n",
              "      border-right-color: var(--fill-color);\n",
              "    }\n",
              "    40% {\n",
              "      border-color: transparent;\n",
              "      border-right-color: var(--fill-color);\n",
              "      border-top-color: var(--fill-color);\n",
              "    }\n",
              "    60% {\n",
              "      border-color: transparent;\n",
              "      border-right-color: var(--fill-color);\n",
              "    }\n",
              "    80% {\n",
              "      border-color: transparent;\n",
              "      border-right-color: var(--fill-color);\n",
              "      border-bottom-color: var(--fill-color);\n",
              "    }\n",
              "    90% {\n",
              "      border-color: transparent;\n",
              "      border-bottom-color: var(--fill-color);\n",
              "    }\n",
              "  }\n",
              "</style>\n",
              "\n",
              "  <script>\n",
              "    async function quickchart(key) {\n",
              "      const quickchartButtonEl =\n",
              "        document.querySelector('#' + key + ' button');\n",
              "      quickchartButtonEl.disabled = true;  // To prevent multiple clicks.\n",
              "      quickchartButtonEl.classList.add('colab-df-spinner');\n",
              "      try {\n",
              "        const charts = await google.colab.kernel.invokeFunction(\n",
              "            'suggestCharts', [key], {});\n",
              "      } catch (error) {\n",
              "        console.error('Error during call to suggestCharts:', error);\n",
              "      }\n",
              "      quickchartButtonEl.classList.remove('colab-df-spinner');\n",
              "      quickchartButtonEl.classList.add('colab-df-quickchart-complete');\n",
              "    }\n",
              "    (() => {\n",
              "      let quickchartButtonEl =\n",
              "        document.querySelector('#df-bb872f07-ceb7-49af-a192-02c6ef486990 button');\n",
              "      quickchartButtonEl.style.display =\n",
              "        google.colab.kernel.accessAllowed ? 'block' : 'none';\n",
              "    })();\n",
              "  </script>\n",
              "</div>\n",
              "\n",
              "    </div>\n",
              "  </div>\n"
            ],
            "application/vnd.google.colaboratory.intrinsic+json": {
              "type": "dataframe"
            }
          },
          "metadata": {},
          "execution_count": 4
        }
      ],
      "source": [
        "df.tail()"
      ]
    },
    {
      "cell_type": "code",
      "execution_count": null,
      "metadata": {
        "colab": {
          "base_uri": "https://localhost:8080/"
        },
        "id": "N9wf9aLNFfBH",
        "outputId": "66ba4da6-8c64-4d56-9c28-b56087dc6478"
      },
      "outputs": [
        {
          "output_type": "execute_result",
          "data": {
            "text/plain": [
              "generated                               0\n",
              "appName                                 0\n",
              "totalSourceBytes                        0\n",
              "totalDestinationBytes                   0\n",
              "totalDestinationPackets                 0\n",
              "totalSourcePackets                      0\n",
              "sourcePayloadAsBase64             1098051\n",
              "sourcePayloadAsUTF                1182855\n",
              "destinationPayloadAsBase64        1188626\n",
              "destinationPayloadAsUTF           1188687\n",
              "direction                               0\n",
              "sourceTCPFlagsDescription          430943\n",
              "destinationTCPFlagsDescription     493422\n",
              "source                                  0\n",
              "protocolName                            0\n",
              "sourcePort                              0\n",
              "destination                             0\n",
              "destinationPort                         0\n",
              "startDateTime                           0\n",
              "stopDateTime                            0\n",
              "Label                                   0\n",
              "dtype: int64"
            ]
          },
          "metadata": {},
          "execution_count": 5
        }
      ],
      "source": [
        "df.isnull().sum()"
      ]
    },
    {
      "cell_type": "code",
      "execution_count": null,
      "metadata": {
        "colab": {
          "base_uri": "https://localhost:8080/"
        },
        "id": "rx8U9rpszwoq",
        "outputId": "c30c5e09-b799-4ec7-9345-57c423c83b80"
      },
      "outputs": [
        {
          "output_type": "stream",
          "name": "stdout",
          "text": [
            "generated                          0.000000\n",
            "appName                            0.000000\n",
            "totalSourceBytes                   0.000000\n",
            "totalDestinationBytes              0.000000\n",
            "totalDestinationPackets            0.000000\n",
            "totalSourcePackets                 0.000000\n",
            "sourcePayloadAsBase64             53.003514\n",
            "sourcePayloadAsUTF                57.097048\n",
            "destinationPayloadAsBase64        57.375618\n",
            "destinationPayloadAsUTF           57.378562\n",
            "direction                          0.000000\n",
            "sourceTCPFlagsDescription         20.801851\n",
            "destinationTCPFlagsDescription    23.817746\n",
            "source                             0.000000\n",
            "protocolName                       0.000000\n",
            "sourcePort                         0.000000\n",
            "destination                        0.000000\n",
            "destinationPort                    0.000000\n",
            "startDateTime                      0.000000\n",
            "stopDateTime                       0.000000\n",
            "Label                              0.000000\n",
            "dtype: float64\n"
          ]
        }
      ],
      "source": [
        "# Calculating the percentage of missing values\n",
        "missing_percentage = df.isnull().sum() / df.shape[0] * 100\n",
        "print(missing_percentage)"
      ]
    },
    {
      "cell_type": "markdown",
      "metadata": {
        "id": "4AvvNsBVUhBZ"
      },
      "source": [
        "\n",
        "\n",
        "```\n",
        "After much consideration on the missing values, the columns with missing values within the range 50% - 100% are dropped. This is because of the sensitivity of the project objective.\n",
        "Any change to make amends to the data will change the originality of the dataset, but the columns with medrate missing values are left behind because of their importance in the project\n",
        "objective. Also considering they have a moderate percent of missing values.\n",
        "```\n",
        "\n"
      ]
    },
    {
      "cell_type": "code",
      "execution_count": null,
      "metadata": {
        "colab": {
          "base_uri": "https://localhost:8080/"
        },
        "id": "VedxXPEYFuGf",
        "outputId": "05e600b4-7921-4f7f-b587-a425767600a7"
      },
      "outputs": [
        {
          "output_type": "execute_result",
          "data": {
            "text/plain": [
              "generated                         object\n",
              "appName                           object\n",
              "totalSourceBytes                   int64\n",
              "totalDestinationBytes              int64\n",
              "totalDestinationPackets            int64\n",
              "totalSourcePackets                 int64\n",
              "sourcePayloadAsBase64             object\n",
              "sourcePayloadAsUTF                object\n",
              "destinationPayloadAsBase64        object\n",
              "destinationPayloadAsUTF           object\n",
              "direction                         object\n",
              "sourceTCPFlagsDescription         object\n",
              "destinationTCPFlagsDescription    object\n",
              "source                            object\n",
              "protocolName                      object\n",
              "sourcePort                         int64\n",
              "destination                       object\n",
              "destinationPort                    int64\n",
              "startDateTime                     object\n",
              "stopDateTime                      object\n",
              "Label                             object\n",
              "dtype: object"
            ]
          },
          "metadata": {},
          "execution_count": 7
        }
      ],
      "source": [
        "df.dtypes"
      ]
    },
    {
      "cell_type": "code",
      "execution_count": null,
      "metadata": {
        "colab": {
          "base_uri": "https://localhost:8080/"
        },
        "id": "CyKZCascDQnV",
        "outputId": "a82ba496-3bbc-4f85-9c5f-c6287d5f057a"
      },
      "outputs": [
        {
          "output_type": "execute_result",
          "data": {
            "text/plain": [
              "(2071657, 21)"
            ]
          },
          "metadata": {},
          "execution_count": 8
        }
      ],
      "source": [
        "df.shape"
      ]
    },
    {
      "cell_type": "code",
      "execution_count": null,
      "metadata": {
        "colab": {
          "base_uri": "https://localhost:8080/",
          "height": 237
        },
        "id": "HAhNlTttFqVL",
        "outputId": "b4e67257-c686-431f-e131-2b8931917c8f"
      },
      "outputs": [
        {
          "output_type": "execute_result",
          "data": {
            "text/plain": [
              "                             count          mean           std  min     25%  \\\n",
              "totalSourceBytes         2071657.0   2460.947377  7.517785e+05  0.0   256.0   \n",
              "totalDestinationBytes    2071657.0  34489.107850  1.187177e+06  0.0   419.0   \n",
              "totalDestinationPackets  2071657.0     30.300682  9.834982e+02  0.0     2.0   \n",
              "totalSourcePackets       2071657.0     19.840188  6.679018e+02  0.0     3.0   \n",
              "sourcePort               2071657.0  14137.593333  2.014297e+04  0.0  2302.0   \n",
              "destinationPort          2071657.0   1882.090693  8.623280e+03  0.0    80.0   \n",
              "\n",
              "                            50%      75%           max  \n",
              "totalSourceBytes          442.0    845.0  7.632776e+08  \n",
              "totalDestinationBytes    1177.0   7338.0  1.254005e+09  \n",
              "totalDestinationPackets     5.0     11.0  8.722240e+05  \n",
              "totalSourcePackets          6.0     10.0  5.147940e+05  \n",
              "sourcePort               3744.0  16993.0  6.553500e+04  \n",
              "destinationPort            80.0     80.0  6.553500e+04  "
            ],
            "text/html": [
              "\n",
              "  <div id=\"df-74210f75-e3e1-4486-b56d-9789e8b4b2ed\" class=\"colab-df-container\">\n",
              "    <div>\n",
              "<style scoped>\n",
              "    .dataframe tbody tr th:only-of-type {\n",
              "        vertical-align: middle;\n",
              "    }\n",
              "\n",
              "    .dataframe tbody tr th {\n",
              "        vertical-align: top;\n",
              "    }\n",
              "\n",
              "    .dataframe thead th {\n",
              "        text-align: right;\n",
              "    }\n",
              "</style>\n",
              "<table border=\"1\" class=\"dataframe\">\n",
              "  <thead>\n",
              "    <tr style=\"text-align: right;\">\n",
              "      <th></th>\n",
              "      <th>count</th>\n",
              "      <th>mean</th>\n",
              "      <th>std</th>\n",
              "      <th>min</th>\n",
              "      <th>25%</th>\n",
              "      <th>50%</th>\n",
              "      <th>75%</th>\n",
              "      <th>max</th>\n",
              "    </tr>\n",
              "  </thead>\n",
              "  <tbody>\n",
              "    <tr>\n",
              "      <th>totalSourceBytes</th>\n",
              "      <td>2071657.0</td>\n",
              "      <td>2460.947377</td>\n",
              "      <td>7.517785e+05</td>\n",
              "      <td>0.0</td>\n",
              "      <td>256.0</td>\n",
              "      <td>442.0</td>\n",
              "      <td>845.0</td>\n",
              "      <td>7.632776e+08</td>\n",
              "    </tr>\n",
              "    <tr>\n",
              "      <th>totalDestinationBytes</th>\n",
              "      <td>2071657.0</td>\n",
              "      <td>34489.107850</td>\n",
              "      <td>1.187177e+06</td>\n",
              "      <td>0.0</td>\n",
              "      <td>419.0</td>\n",
              "      <td>1177.0</td>\n",
              "      <td>7338.0</td>\n",
              "      <td>1.254005e+09</td>\n",
              "    </tr>\n",
              "    <tr>\n",
              "      <th>totalDestinationPackets</th>\n",
              "      <td>2071657.0</td>\n",
              "      <td>30.300682</td>\n",
              "      <td>9.834982e+02</td>\n",
              "      <td>0.0</td>\n",
              "      <td>2.0</td>\n",
              "      <td>5.0</td>\n",
              "      <td>11.0</td>\n",
              "      <td>8.722240e+05</td>\n",
              "    </tr>\n",
              "    <tr>\n",
              "      <th>totalSourcePackets</th>\n",
              "      <td>2071657.0</td>\n",
              "      <td>19.840188</td>\n",
              "      <td>6.679018e+02</td>\n",
              "      <td>0.0</td>\n",
              "      <td>3.0</td>\n",
              "      <td>6.0</td>\n",
              "      <td>10.0</td>\n",
              "      <td>5.147940e+05</td>\n",
              "    </tr>\n",
              "    <tr>\n",
              "      <th>sourcePort</th>\n",
              "      <td>2071657.0</td>\n",
              "      <td>14137.593333</td>\n",
              "      <td>2.014297e+04</td>\n",
              "      <td>0.0</td>\n",
              "      <td>2302.0</td>\n",
              "      <td>3744.0</td>\n",
              "      <td>16993.0</td>\n",
              "      <td>6.553500e+04</td>\n",
              "    </tr>\n",
              "    <tr>\n",
              "      <th>destinationPort</th>\n",
              "      <td>2071657.0</td>\n",
              "      <td>1882.090693</td>\n",
              "      <td>8.623280e+03</td>\n",
              "      <td>0.0</td>\n",
              "      <td>80.0</td>\n",
              "      <td>80.0</td>\n",
              "      <td>80.0</td>\n",
              "      <td>6.553500e+04</td>\n",
              "    </tr>\n",
              "  </tbody>\n",
              "</table>\n",
              "</div>\n",
              "    <div class=\"colab-df-buttons\">\n",
              "\n",
              "  <div class=\"colab-df-container\">\n",
              "    <button class=\"colab-df-convert\" onclick=\"convertToInteractive('df-74210f75-e3e1-4486-b56d-9789e8b4b2ed')\"\n",
              "            title=\"Convert this dataframe to an interactive table.\"\n",
              "            style=\"display:none;\">\n",
              "\n",
              "  <svg xmlns=\"http://www.w3.org/2000/svg\" height=\"24px\" viewBox=\"0 -960 960 960\">\n",
              "    <path d=\"M120-120v-720h720v720H120Zm60-500h600v-160H180v160Zm220 220h160v-160H400v160Zm0 220h160v-160H400v160ZM180-400h160v-160H180v160Zm440 0h160v-160H620v160ZM180-180h160v-160H180v160Zm440 0h160v-160H620v160Z\"/>\n",
              "  </svg>\n",
              "    </button>\n",
              "\n",
              "  <style>\n",
              "    .colab-df-container {\n",
              "      display:flex;\n",
              "      gap: 12px;\n",
              "    }\n",
              "\n",
              "    .colab-df-convert {\n",
              "      background-color: #E8F0FE;\n",
              "      border: none;\n",
              "      border-radius: 50%;\n",
              "      cursor: pointer;\n",
              "      display: none;\n",
              "      fill: #1967D2;\n",
              "      height: 32px;\n",
              "      padding: 0 0 0 0;\n",
              "      width: 32px;\n",
              "    }\n",
              "\n",
              "    .colab-df-convert:hover {\n",
              "      background-color: #E2EBFA;\n",
              "      box-shadow: 0px 1px 2px rgba(60, 64, 67, 0.3), 0px 1px 3px 1px rgba(60, 64, 67, 0.15);\n",
              "      fill: #174EA6;\n",
              "    }\n",
              "\n",
              "    .colab-df-buttons div {\n",
              "      margin-bottom: 4px;\n",
              "    }\n",
              "\n",
              "    [theme=dark] .colab-df-convert {\n",
              "      background-color: #3B4455;\n",
              "      fill: #D2E3FC;\n",
              "    }\n",
              "\n",
              "    [theme=dark] .colab-df-convert:hover {\n",
              "      background-color: #434B5C;\n",
              "      box-shadow: 0px 1px 3px 1px rgba(0, 0, 0, 0.15);\n",
              "      filter: drop-shadow(0px 1px 2px rgba(0, 0, 0, 0.3));\n",
              "      fill: #FFFFFF;\n",
              "    }\n",
              "  </style>\n",
              "\n",
              "    <script>\n",
              "      const buttonEl =\n",
              "        document.querySelector('#df-74210f75-e3e1-4486-b56d-9789e8b4b2ed button.colab-df-convert');\n",
              "      buttonEl.style.display =\n",
              "        google.colab.kernel.accessAllowed ? 'block' : 'none';\n",
              "\n",
              "      async function convertToInteractive(key) {\n",
              "        const element = document.querySelector('#df-74210f75-e3e1-4486-b56d-9789e8b4b2ed');\n",
              "        const dataTable =\n",
              "          await google.colab.kernel.invokeFunction('convertToInteractive',\n",
              "                                                    [key], {});\n",
              "        if (!dataTable) return;\n",
              "\n",
              "        const docLinkHtml = 'Like what you see? Visit the ' +\n",
              "          '<a target=\"_blank\" href=https://colab.research.google.com/notebooks/data_table.ipynb>data table notebook</a>'\n",
              "          + ' to learn more about interactive tables.';\n",
              "        element.innerHTML = '';\n",
              "        dataTable['output_type'] = 'display_data';\n",
              "        await google.colab.output.renderOutput(dataTable, element);\n",
              "        const docLink = document.createElement('div');\n",
              "        docLink.innerHTML = docLinkHtml;\n",
              "        element.appendChild(docLink);\n",
              "      }\n",
              "    </script>\n",
              "  </div>\n",
              "\n",
              "\n",
              "<div id=\"df-5cdbf7ea-53bb-4929-8990-11d4d02c82c4\">\n",
              "  <button class=\"colab-df-quickchart\" onclick=\"quickchart('df-5cdbf7ea-53bb-4929-8990-11d4d02c82c4')\"\n",
              "            title=\"Suggest charts\"\n",
              "            style=\"display:none;\">\n",
              "\n",
              "<svg xmlns=\"http://www.w3.org/2000/svg\" height=\"24px\"viewBox=\"0 0 24 24\"\n",
              "     width=\"24px\">\n",
              "    <g>\n",
              "        <path d=\"M19 3H5c-1.1 0-2 .9-2 2v14c0 1.1.9 2 2 2h14c1.1 0 2-.9 2-2V5c0-1.1-.9-2-2-2zM9 17H7v-7h2v7zm4 0h-2V7h2v10zm4 0h-2v-4h2v4z\"/>\n",
              "    </g>\n",
              "</svg>\n",
              "  </button>\n",
              "\n",
              "<style>\n",
              "  .colab-df-quickchart {\n",
              "      --bg-color: #E8F0FE;\n",
              "      --fill-color: #1967D2;\n",
              "      --hover-bg-color: #E2EBFA;\n",
              "      --hover-fill-color: #174EA6;\n",
              "      --disabled-fill-color: #AAA;\n",
              "      --disabled-bg-color: #DDD;\n",
              "  }\n",
              "\n",
              "  [theme=dark] .colab-df-quickchart {\n",
              "      --bg-color: #3B4455;\n",
              "      --fill-color: #D2E3FC;\n",
              "      --hover-bg-color: #434B5C;\n",
              "      --hover-fill-color: #FFFFFF;\n",
              "      --disabled-bg-color: #3B4455;\n",
              "      --disabled-fill-color: #666;\n",
              "  }\n",
              "\n",
              "  .colab-df-quickchart {\n",
              "    background-color: var(--bg-color);\n",
              "    border: none;\n",
              "    border-radius: 50%;\n",
              "    cursor: pointer;\n",
              "    display: none;\n",
              "    fill: var(--fill-color);\n",
              "    height: 32px;\n",
              "    padding: 0;\n",
              "    width: 32px;\n",
              "  }\n",
              "\n",
              "  .colab-df-quickchart:hover {\n",
              "    background-color: var(--hover-bg-color);\n",
              "    box-shadow: 0 1px 2px rgba(60, 64, 67, 0.3), 0 1px 3px 1px rgba(60, 64, 67, 0.15);\n",
              "    fill: var(--button-hover-fill-color);\n",
              "  }\n",
              "\n",
              "  .colab-df-quickchart-complete:disabled,\n",
              "  .colab-df-quickchart-complete:disabled:hover {\n",
              "    background-color: var(--disabled-bg-color);\n",
              "    fill: var(--disabled-fill-color);\n",
              "    box-shadow: none;\n",
              "  }\n",
              "\n",
              "  .colab-df-spinner {\n",
              "    border: 2px solid var(--fill-color);\n",
              "    border-color: transparent;\n",
              "    border-bottom-color: var(--fill-color);\n",
              "    animation:\n",
              "      spin 1s steps(1) infinite;\n",
              "  }\n",
              "\n",
              "  @keyframes spin {\n",
              "    0% {\n",
              "      border-color: transparent;\n",
              "      border-bottom-color: var(--fill-color);\n",
              "      border-left-color: var(--fill-color);\n",
              "    }\n",
              "    20% {\n",
              "      border-color: transparent;\n",
              "      border-left-color: var(--fill-color);\n",
              "      border-top-color: var(--fill-color);\n",
              "    }\n",
              "    30% {\n",
              "      border-color: transparent;\n",
              "      border-left-color: var(--fill-color);\n",
              "      border-top-color: var(--fill-color);\n",
              "      border-right-color: var(--fill-color);\n",
              "    }\n",
              "    40% {\n",
              "      border-color: transparent;\n",
              "      border-right-color: var(--fill-color);\n",
              "      border-top-color: var(--fill-color);\n",
              "    }\n",
              "    60% {\n",
              "      border-color: transparent;\n",
              "      border-right-color: var(--fill-color);\n",
              "    }\n",
              "    80% {\n",
              "      border-color: transparent;\n",
              "      border-right-color: var(--fill-color);\n",
              "      border-bottom-color: var(--fill-color);\n",
              "    }\n",
              "    90% {\n",
              "      border-color: transparent;\n",
              "      border-bottom-color: var(--fill-color);\n",
              "    }\n",
              "  }\n",
              "</style>\n",
              "\n",
              "  <script>\n",
              "    async function quickchart(key) {\n",
              "      const quickchartButtonEl =\n",
              "        document.querySelector('#' + key + ' button');\n",
              "      quickchartButtonEl.disabled = true;  // To prevent multiple clicks.\n",
              "      quickchartButtonEl.classList.add('colab-df-spinner');\n",
              "      try {\n",
              "        const charts = await google.colab.kernel.invokeFunction(\n",
              "            'suggestCharts', [key], {});\n",
              "      } catch (error) {\n",
              "        console.error('Error during call to suggestCharts:', error);\n",
              "      }\n",
              "      quickchartButtonEl.classList.remove('colab-df-spinner');\n",
              "      quickchartButtonEl.classList.add('colab-df-quickchart-complete');\n",
              "    }\n",
              "    (() => {\n",
              "      let quickchartButtonEl =\n",
              "        document.querySelector('#df-5cdbf7ea-53bb-4929-8990-11d4d02c82c4 button');\n",
              "      quickchartButtonEl.style.display =\n",
              "        google.colab.kernel.accessAllowed ? 'block' : 'none';\n",
              "    })();\n",
              "  </script>\n",
              "</div>\n",
              "\n",
              "    </div>\n",
              "  </div>\n"
            ],
            "application/vnd.google.colaboratory.intrinsic+json": {
              "type": "dataframe",
              "summary": "{\n  \"name\": \"df\",\n  \"rows\": 6,\n  \"fields\": [\n    {\n      \"column\": \"count\",\n      \"properties\": {\n        \"dtype\": \"number\",\n        \"std\": 0.0,\n        \"min\": 2071657.0,\n        \"max\": 2071657.0,\n        \"num_unique_values\": 1,\n        \"samples\": [\n          2071657.0\n        ],\n        \"semantic_type\": \"\",\n        \"description\": \"\"\n      }\n    },\n    {\n      \"column\": \"mean\",\n      \"properties\": {\n        \"dtype\": \"number\",\n        \"std\": 13641.495494523977,\n        \"min\": 19.840188313026722,\n        \"max\": 34489.10784989986,\n        \"num_unique_values\": 6,\n        \"samples\": [\n          2460.9473769065053\n        ],\n        \"semantic_type\": \"\",\n        \"description\": \"\"\n      }\n    },\n    {\n      \"column\": \"std\",\n      \"properties\": {\n        \"dtype\": \"number\",\n        \"std\": 515487.4007631711,\n        \"min\": 667.9018161156031,\n        \"max\": 1187176.8668602116,\n        \"num_unique_values\": 6,\n        \"samples\": [\n          751778.4725105487\n        ],\n        \"semantic_type\": \"\",\n        \"description\": \"\"\n      }\n    },\n    {\n      \"column\": \"min\",\n      \"properties\": {\n        \"dtype\": \"number\",\n        \"std\": 0.0,\n        \"min\": 0.0,\n        \"max\": 0.0,\n        \"num_unique_values\": 1,\n        \"samples\": [\n          0.0\n        ],\n        \"semantic_type\": \"\",\n        \"description\": \"\"\n      }\n    },\n    {\n      \"column\": \"25%\",\n      \"properties\": {\n        \"dtype\": \"number\",\n        \"std\": 892.6447595021586,\n        \"min\": 2.0,\n        \"max\": 2302.0,\n        \"num_unique_values\": 6,\n        \"samples\": [\n          256.0\n        ],\n        \"semantic_type\": \"\",\n        \"description\": \"\"\n      }\n    },\n    {\n      \"column\": \"50%\",\n      \"properties\": {\n        \"dtype\": \"number\",\n        \"std\": 1459.2466549559056,\n        \"min\": 5.0,\n        \"max\": 3744.0,\n        \"num_unique_values\": 6,\n        \"samples\": [\n          442.0\n        ],\n        \"semantic_type\": \"\",\n        \"description\": \"\"\n      }\n    },\n    {\n      \"column\": \"75%\",\n      \"properties\": {\n        \"dtype\": \"number\",\n        \"std\": 6882.458148559036,\n        \"min\": 10.0,\n        \"max\": 16993.0,\n        \"num_unique_values\": 6,\n        \"samples\": [\n          845.0\n        ],\n        \"semantic_type\": \"\",\n        \"description\": \"\"\n      }\n    },\n    {\n      \"column\": \"max\",\n      \"properties\": {\n        \"dtype\": \"number\",\n        \"std\": 543297999.6641817,\n        \"min\": 65535.0,\n        \"max\": 1254005373.0,\n        \"num_unique_values\": 5,\n        \"samples\": [\n          1254005373.0\n        ],\n        \"semantic_type\": \"\",\n        \"description\": \"\"\n      }\n    }\n  ]\n}"
            }
          },
          "metadata": {},
          "execution_count": 9
        }
      ],
      "source": [
        "df.describe().T"
      ]
    },
    {
      "cell_type": "code",
      "execution_count": null,
      "metadata": {
        "colab": {
          "base_uri": "https://localhost:8080/"
        },
        "id": "ESyUi8xDFzkU",
        "outputId": "b7686ce4-b2d9-4f80-ecee-49326a6bcd38"
      },
      "outputs": [
        {
          "output_type": "execute_result",
          "data": {
            "text/plain": [
              "Index(['generated', 'appName', 'totalSourceBytes', 'totalDestinationBytes',\n",
              "       'totalDestinationPackets', 'totalSourcePackets',\n",
              "       'sourcePayloadAsBase64', 'sourcePayloadAsUTF',\n",
              "       'destinationPayloadAsBase64', 'destinationPayloadAsUTF', 'direction',\n",
              "       'sourceTCPFlagsDescription', 'destinationTCPFlagsDescription', 'source',\n",
              "       'protocolName', 'sourcePort', 'destination', 'destinationPort',\n",
              "       'startDateTime', 'stopDateTime', 'Label'],\n",
              "      dtype='object')"
            ]
          },
          "metadata": {},
          "execution_count": 10
        }
      ],
      "source": [
        "df.columns"
      ]
    },
    {
      "cell_type": "code",
      "execution_count": null,
      "metadata": {
        "colab": {
          "base_uri": "https://localhost:8080/"
        },
        "id": "aj16vu-v-r7w",
        "outputId": "7ad31ce0-3a42-410c-a027-29869300d090"
      },
      "outputs": [
        {
          "output_type": "execute_result",
          "data": {
            "text/plain": [
              "Label\n",
              "Normal    2002747\n",
              "Attack      68910\n",
              "Name: count, dtype: int64"
            ]
          },
          "metadata": {},
          "execution_count": 11
        }
      ],
      "source": [
        "df[\"Label\"].value_counts()"
      ]
    },
    {
      "cell_type": "code",
      "execution_count": null,
      "metadata": {
        "colab": {
          "base_uri": "https://localhost:8080/"
        },
        "id": "OSdQY-NBHvuh",
        "outputId": "6294877f-e53b-4183-e32c-6f6665c1359f"
      },
      "outputs": [
        {
          "output_type": "execute_result",
          "data": {
            "text/plain": [
              "107"
            ]
          },
          "metadata": {},
          "execution_count": 12
        }
      ],
      "source": [
        "df['appName'].nunique()"
      ]
    },
    {
      "cell_type": "code",
      "execution_count": null,
      "metadata": {
        "colab": {
          "base_uri": "https://localhost:8080/"
        },
        "id": "1aqtTsLb-4gG",
        "outputId": "75bacbbf-c975-4c41-e984-7e8c96b707ba"
      },
      "outputs": [
        {
          "output_type": "execute_result",
          "data": {
            "text/plain": [
              "appName\n",
              "HTTPWeb              738833\n",
              "HTTPImageTransfer    727295\n",
              "DNS                  314326\n",
              "Unknown_UDP           62682\n",
              "SecureWeb             57216\n",
              "                      ...  \n",
              "GuptaSQLBase              4\n",
              "MGCP                      3\n",
              "SIP                       1\n",
              "UpdateDaemon              1\n",
              "Blubster                  1\n",
              "Name: count, Length: 107, dtype: int64"
            ]
          },
          "metadata": {},
          "execution_count": 13
        }
      ],
      "source": [
        "df['appName'].value_counts()"
      ]
    },
    {
      "cell_type": "code",
      "execution_count": null,
      "metadata": {
        "colab": {
          "base_uri": "https://localhost:8080/"
        },
        "id": "0cpAsHad2Eli",
        "outputId": "6bcf9bea-470b-437d-c26c-a6ef5fa4c3cf"
      },
      "outputs": [
        {
          "output_type": "stream",
          "name": "stdout",
          "text": [
            "                         totalSourceBytes  totalDestinationBytes  \\\n",
            "totalSourceBytes                 1.000000               0.065972   \n",
            "totalDestinationBytes            0.065972               1.000000   \n",
            "totalDestinationPackets          0.570507               0.854639   \n",
            "totalSourcePackets               0.784349               0.663032   \n",
            "sourcePort                      -0.000699              -0.008811   \n",
            "destinationPort                  0.005003              -0.003936   \n",
            "\n",
            "                         totalDestinationPackets  totalSourcePackets  \\\n",
            "totalSourceBytes                        0.570507            0.784349   \n",
            "totalDestinationBytes                   0.854639            0.663032   \n",
            "totalDestinationPackets                 1.000000            0.953007   \n",
            "totalSourcePackets                      0.953007            1.000000   \n",
            "sourcePort                             -0.008138           -0.007034   \n",
            "destinationPort                        -0.000280            0.001907   \n",
            "\n",
            "                         sourcePort  destinationPort  \n",
            "totalSourceBytes          -0.000699         0.005003  \n",
            "totalDestinationBytes     -0.008811        -0.003936  \n",
            "totalDestinationPackets   -0.008138        -0.000280  \n",
            "totalSourcePackets        -0.007034         0.001907  \n",
            "sourcePort                 1.000000         0.262566  \n",
            "destinationPort            0.262566         1.000000  \n"
          ]
        }
      ],
      "source": [
        "import pandas as pd\n",
        "numeric_df = df.select_dtypes(include=['float64', 'int64'])\n",
        "\n",
        "# Calculating correlation matrix\n",
        "correlation_matrix = numeric_df.corr()\n",
        "\n",
        "print(correlation_matrix)"
      ]
    },
    {
      "cell_type": "code",
      "execution_count": null,
      "metadata": {
        "id": "mtVReKoKDTLa"
      },
      "outputs": [],
      "source": [
        "columns_to_drop = [\n",
        "    'sourcePayloadAsBase64',\n",
        "    'sourcePayloadAsUTF',\n",
        "    'destinationPayloadAsBase64',\n",
        "    'destinationPayloadAsUTF',\n",
        "    'generated',\n",
        "    'startDateTime',\n",
        "   'stopDateTime',\n",
        "  'sourcePort',\n",
        "  'destinationPort',\n",
        "  'source',\n",
        "  'destination'\n",
        "]\n",
        "df.drop(columns_to_drop, axis=1, inplace=True)"
      ]
    },
    {
      "cell_type": "code",
      "execution_count": null,
      "metadata": {
        "colab": {
          "base_uri": "https://localhost:8080/",
          "height": 226
        },
        "id": "q7Donp2ZN5dU",
        "outputId": "658b8002-cddb-4bef-9c09-f26280d09cdc"
      },
      "outputs": [
        {
          "output_type": "execute_result",
          "data": {
            "text/plain": [
              "       appName  totalSourceBytes  totalDestinationBytes  \\\n",
              "0  Unknown_UDP           2633658                      0   \n",
              "1  Unknown_UDP           2633658                      0   \n",
              "2      HTTPWeb                64                    128   \n",
              "3      HTTPWeb                64                    128   \n",
              "4      HTTPWeb               128                     64   \n",
              "\n",
              "   totalDestinationPackets  totalSourcePackets direction  \\\n",
              "0                        0               28971       L2R   \n",
              "1                        0               28971       L2R   \n",
              "2                        2                   1       L2L   \n",
              "3                        2                   1       L2L   \n",
              "4                        1                   2       L2R   \n",
              "\n",
              "  sourceTCPFlagsDescription destinationTCPFlagsDescription protocolName  \\\n",
              "0                       NaN                            NaN       udp_ip   \n",
              "1                       NaN                            NaN       udp_ip   \n",
              "2                       F,A                              R       tcp_ip   \n",
              "3                       F,A                              R       tcp_ip   \n",
              "4                       F,A                            F,A       tcp_ip   \n",
              "\n",
              "    Label  \n",
              "0  Normal  \n",
              "1  Normal  \n",
              "2  Normal  \n",
              "3  Normal  \n",
              "4  Normal  "
            ],
            "text/html": [
              "\n",
              "  <div id=\"df-4276c5d8-45d2-45f7-8f72-006b896e7c03\" class=\"colab-df-container\">\n",
              "    <div>\n",
              "<style scoped>\n",
              "    .dataframe tbody tr th:only-of-type {\n",
              "        vertical-align: middle;\n",
              "    }\n",
              "\n",
              "    .dataframe tbody tr th {\n",
              "        vertical-align: top;\n",
              "    }\n",
              "\n",
              "    .dataframe thead th {\n",
              "        text-align: right;\n",
              "    }\n",
              "</style>\n",
              "<table border=\"1\" class=\"dataframe\">\n",
              "  <thead>\n",
              "    <tr style=\"text-align: right;\">\n",
              "      <th></th>\n",
              "      <th>appName</th>\n",
              "      <th>totalSourceBytes</th>\n",
              "      <th>totalDestinationBytes</th>\n",
              "      <th>totalDestinationPackets</th>\n",
              "      <th>totalSourcePackets</th>\n",
              "      <th>direction</th>\n",
              "      <th>sourceTCPFlagsDescription</th>\n",
              "      <th>destinationTCPFlagsDescription</th>\n",
              "      <th>protocolName</th>\n",
              "      <th>Label</th>\n",
              "    </tr>\n",
              "  </thead>\n",
              "  <tbody>\n",
              "    <tr>\n",
              "      <th>0</th>\n",
              "      <td>Unknown_UDP</td>\n",
              "      <td>2633658</td>\n",
              "      <td>0</td>\n",
              "      <td>0</td>\n",
              "      <td>28971</td>\n",
              "      <td>L2R</td>\n",
              "      <td>NaN</td>\n",
              "      <td>NaN</td>\n",
              "      <td>udp_ip</td>\n",
              "      <td>Normal</td>\n",
              "    </tr>\n",
              "    <tr>\n",
              "      <th>1</th>\n",
              "      <td>Unknown_UDP</td>\n",
              "      <td>2633658</td>\n",
              "      <td>0</td>\n",
              "      <td>0</td>\n",
              "      <td>28971</td>\n",
              "      <td>L2R</td>\n",
              "      <td>NaN</td>\n",
              "      <td>NaN</td>\n",
              "      <td>udp_ip</td>\n",
              "      <td>Normal</td>\n",
              "    </tr>\n",
              "    <tr>\n",
              "      <th>2</th>\n",
              "      <td>HTTPWeb</td>\n",
              "      <td>64</td>\n",
              "      <td>128</td>\n",
              "      <td>2</td>\n",
              "      <td>1</td>\n",
              "      <td>L2L</td>\n",
              "      <td>F,A</td>\n",
              "      <td>R</td>\n",
              "      <td>tcp_ip</td>\n",
              "      <td>Normal</td>\n",
              "    </tr>\n",
              "    <tr>\n",
              "      <th>3</th>\n",
              "      <td>HTTPWeb</td>\n",
              "      <td>64</td>\n",
              "      <td>128</td>\n",
              "      <td>2</td>\n",
              "      <td>1</td>\n",
              "      <td>L2L</td>\n",
              "      <td>F,A</td>\n",
              "      <td>R</td>\n",
              "      <td>tcp_ip</td>\n",
              "      <td>Normal</td>\n",
              "    </tr>\n",
              "    <tr>\n",
              "      <th>4</th>\n",
              "      <td>HTTPWeb</td>\n",
              "      <td>128</td>\n",
              "      <td>64</td>\n",
              "      <td>1</td>\n",
              "      <td>2</td>\n",
              "      <td>L2R</td>\n",
              "      <td>F,A</td>\n",
              "      <td>F,A</td>\n",
              "      <td>tcp_ip</td>\n",
              "      <td>Normal</td>\n",
              "    </tr>\n",
              "  </tbody>\n",
              "</table>\n",
              "</div>\n",
              "    <div class=\"colab-df-buttons\">\n",
              "\n",
              "  <div class=\"colab-df-container\">\n",
              "    <button class=\"colab-df-convert\" onclick=\"convertToInteractive('df-4276c5d8-45d2-45f7-8f72-006b896e7c03')\"\n",
              "            title=\"Convert this dataframe to an interactive table.\"\n",
              "            style=\"display:none;\">\n",
              "\n",
              "  <svg xmlns=\"http://www.w3.org/2000/svg\" height=\"24px\" viewBox=\"0 -960 960 960\">\n",
              "    <path d=\"M120-120v-720h720v720H120Zm60-500h600v-160H180v160Zm220 220h160v-160H400v160Zm0 220h160v-160H400v160ZM180-400h160v-160H180v160Zm440 0h160v-160H620v160ZM180-180h160v-160H180v160Zm440 0h160v-160H620v160Z\"/>\n",
              "  </svg>\n",
              "    </button>\n",
              "\n",
              "  <style>\n",
              "    .colab-df-container {\n",
              "      display:flex;\n",
              "      gap: 12px;\n",
              "    }\n",
              "\n",
              "    .colab-df-convert {\n",
              "      background-color: #E8F0FE;\n",
              "      border: none;\n",
              "      border-radius: 50%;\n",
              "      cursor: pointer;\n",
              "      display: none;\n",
              "      fill: #1967D2;\n",
              "      height: 32px;\n",
              "      padding: 0 0 0 0;\n",
              "      width: 32px;\n",
              "    }\n",
              "\n",
              "    .colab-df-convert:hover {\n",
              "      background-color: #E2EBFA;\n",
              "      box-shadow: 0px 1px 2px rgba(60, 64, 67, 0.3), 0px 1px 3px 1px rgba(60, 64, 67, 0.15);\n",
              "      fill: #174EA6;\n",
              "    }\n",
              "\n",
              "    .colab-df-buttons div {\n",
              "      margin-bottom: 4px;\n",
              "    }\n",
              "\n",
              "    [theme=dark] .colab-df-convert {\n",
              "      background-color: #3B4455;\n",
              "      fill: #D2E3FC;\n",
              "    }\n",
              "\n",
              "    [theme=dark] .colab-df-convert:hover {\n",
              "      background-color: #434B5C;\n",
              "      box-shadow: 0px 1px 3px 1px rgba(0, 0, 0, 0.15);\n",
              "      filter: drop-shadow(0px 1px 2px rgba(0, 0, 0, 0.3));\n",
              "      fill: #FFFFFF;\n",
              "    }\n",
              "  </style>\n",
              "\n",
              "    <script>\n",
              "      const buttonEl =\n",
              "        document.querySelector('#df-4276c5d8-45d2-45f7-8f72-006b896e7c03 button.colab-df-convert');\n",
              "      buttonEl.style.display =\n",
              "        google.colab.kernel.accessAllowed ? 'block' : 'none';\n",
              "\n",
              "      async function convertToInteractive(key) {\n",
              "        const element = document.querySelector('#df-4276c5d8-45d2-45f7-8f72-006b896e7c03');\n",
              "        const dataTable =\n",
              "          await google.colab.kernel.invokeFunction('convertToInteractive',\n",
              "                                                    [key], {});\n",
              "        if (!dataTable) return;\n",
              "\n",
              "        const docLinkHtml = 'Like what you see? Visit the ' +\n",
              "          '<a target=\"_blank\" href=https://colab.research.google.com/notebooks/data_table.ipynb>data table notebook</a>'\n",
              "          + ' to learn more about interactive tables.';\n",
              "        element.innerHTML = '';\n",
              "        dataTable['output_type'] = 'display_data';\n",
              "        await google.colab.output.renderOutput(dataTable, element);\n",
              "        const docLink = document.createElement('div');\n",
              "        docLink.innerHTML = docLinkHtml;\n",
              "        element.appendChild(docLink);\n",
              "      }\n",
              "    </script>\n",
              "  </div>\n",
              "\n",
              "\n",
              "<div id=\"df-933f703d-3bc6-4abc-9e40-f71c7c82ca0b\">\n",
              "  <button class=\"colab-df-quickchart\" onclick=\"quickchart('df-933f703d-3bc6-4abc-9e40-f71c7c82ca0b')\"\n",
              "            title=\"Suggest charts\"\n",
              "            style=\"display:none;\">\n",
              "\n",
              "<svg xmlns=\"http://www.w3.org/2000/svg\" height=\"24px\"viewBox=\"0 0 24 24\"\n",
              "     width=\"24px\">\n",
              "    <g>\n",
              "        <path d=\"M19 3H5c-1.1 0-2 .9-2 2v14c0 1.1.9 2 2 2h14c1.1 0 2-.9 2-2V5c0-1.1-.9-2-2-2zM9 17H7v-7h2v7zm4 0h-2V7h2v10zm4 0h-2v-4h2v4z\"/>\n",
              "    </g>\n",
              "</svg>\n",
              "  </button>\n",
              "\n",
              "<style>\n",
              "  .colab-df-quickchart {\n",
              "      --bg-color: #E8F0FE;\n",
              "      --fill-color: #1967D2;\n",
              "      --hover-bg-color: #E2EBFA;\n",
              "      --hover-fill-color: #174EA6;\n",
              "      --disabled-fill-color: #AAA;\n",
              "      --disabled-bg-color: #DDD;\n",
              "  }\n",
              "\n",
              "  [theme=dark] .colab-df-quickchart {\n",
              "      --bg-color: #3B4455;\n",
              "      --fill-color: #D2E3FC;\n",
              "      --hover-bg-color: #434B5C;\n",
              "      --hover-fill-color: #FFFFFF;\n",
              "      --disabled-bg-color: #3B4455;\n",
              "      --disabled-fill-color: #666;\n",
              "  }\n",
              "\n",
              "  .colab-df-quickchart {\n",
              "    background-color: var(--bg-color);\n",
              "    border: none;\n",
              "    border-radius: 50%;\n",
              "    cursor: pointer;\n",
              "    display: none;\n",
              "    fill: var(--fill-color);\n",
              "    height: 32px;\n",
              "    padding: 0;\n",
              "    width: 32px;\n",
              "  }\n",
              "\n",
              "  .colab-df-quickchart:hover {\n",
              "    background-color: var(--hover-bg-color);\n",
              "    box-shadow: 0 1px 2px rgba(60, 64, 67, 0.3), 0 1px 3px 1px rgba(60, 64, 67, 0.15);\n",
              "    fill: var(--button-hover-fill-color);\n",
              "  }\n",
              "\n",
              "  .colab-df-quickchart-complete:disabled,\n",
              "  .colab-df-quickchart-complete:disabled:hover {\n",
              "    background-color: var(--disabled-bg-color);\n",
              "    fill: var(--disabled-fill-color);\n",
              "    box-shadow: none;\n",
              "  }\n",
              "\n",
              "  .colab-df-spinner {\n",
              "    border: 2px solid var(--fill-color);\n",
              "    border-color: transparent;\n",
              "    border-bottom-color: var(--fill-color);\n",
              "    animation:\n",
              "      spin 1s steps(1) infinite;\n",
              "  }\n",
              "\n",
              "  @keyframes spin {\n",
              "    0% {\n",
              "      border-color: transparent;\n",
              "      border-bottom-color: var(--fill-color);\n",
              "      border-left-color: var(--fill-color);\n",
              "    }\n",
              "    20% {\n",
              "      border-color: transparent;\n",
              "      border-left-color: var(--fill-color);\n",
              "      border-top-color: var(--fill-color);\n",
              "    }\n",
              "    30% {\n",
              "      border-color: transparent;\n",
              "      border-left-color: var(--fill-color);\n",
              "      border-top-color: var(--fill-color);\n",
              "      border-right-color: var(--fill-color);\n",
              "    }\n",
              "    40% {\n",
              "      border-color: transparent;\n",
              "      border-right-color: var(--fill-color);\n",
              "      border-top-color: var(--fill-color);\n",
              "    }\n",
              "    60% {\n",
              "      border-color: transparent;\n",
              "      border-right-color: var(--fill-color);\n",
              "    }\n",
              "    80% {\n",
              "      border-color: transparent;\n",
              "      border-right-color: var(--fill-color);\n",
              "      border-bottom-color: var(--fill-color);\n",
              "    }\n",
              "    90% {\n",
              "      border-color: transparent;\n",
              "      border-bottom-color: var(--fill-color);\n",
              "    }\n",
              "  }\n",
              "</style>\n",
              "\n",
              "  <script>\n",
              "    async function quickchart(key) {\n",
              "      const quickchartButtonEl =\n",
              "        document.querySelector('#' + key + ' button');\n",
              "      quickchartButtonEl.disabled = true;  // To prevent multiple clicks.\n",
              "      quickchartButtonEl.classList.add('colab-df-spinner');\n",
              "      try {\n",
              "        const charts = await google.colab.kernel.invokeFunction(\n",
              "            'suggestCharts', [key], {});\n",
              "      } catch (error) {\n",
              "        console.error('Error during call to suggestCharts:', error);\n",
              "      }\n",
              "      quickchartButtonEl.classList.remove('colab-df-spinner');\n",
              "      quickchartButtonEl.classList.add('colab-df-quickchart-complete');\n",
              "    }\n",
              "    (() => {\n",
              "      let quickchartButtonEl =\n",
              "        document.querySelector('#df-933f703d-3bc6-4abc-9e40-f71c7c82ca0b button');\n",
              "      quickchartButtonEl.style.display =\n",
              "        google.colab.kernel.accessAllowed ? 'block' : 'none';\n",
              "    })();\n",
              "  </script>\n",
              "</div>\n",
              "\n",
              "    </div>\n",
              "  </div>\n"
            ],
            "application/vnd.google.colaboratory.intrinsic+json": {
              "type": "dataframe",
              "variable_name": "df"
            }
          },
          "metadata": {},
          "execution_count": 16
        }
      ],
      "source": [
        "df.head()"
      ]
    },
    {
      "cell_type": "code",
      "execution_count": null,
      "metadata": {
        "colab": {
          "base_uri": "https://localhost:8080/"
        },
        "id": "CGlGZfEcSRTS",
        "outputId": "f4a4cc65-402a-4add-8b82-9cc9b6691bc1"
      },
      "outputs": [
        {
          "output_type": "execute_result",
          "data": {
            "text/plain": [
              "(2071657, 10)"
            ]
          },
          "metadata": {},
          "execution_count": 17
        }
      ],
      "source": [
        "df.shape"
      ]
    },
    {
      "cell_type": "code",
      "execution_count": null,
      "metadata": {
        "colab": {
          "base_uri": "https://localhost:8080/"
        },
        "id": "YL7UWvYKRGXJ",
        "outputId": "89c1135c-10a5-4307-cbb8-ad40c5cf89b6"
      },
      "outputs": [
        {
          "output_type": "execute_result",
          "data": {
            "text/plain": [
              "array([nan, 'F,A', 'A', 'F,S,P,A', 'S,P,A', 'F,S,R,P,A', 'S', 'S,R,P,A',\n",
              "       'F,S,A', 'F,P,A', 'P,A', 'S,A', 'R,A', 'F,R,A', 'R', 'S,R',\n",
              "       'R,P,A', 'F,R,P,A', 'F,P,U', 'S,R,Illegal7,Illegal8', 'F,S,R,P,U',\n",
              "       'F,S,P,U', 'F,S,R,A', 'S,R,A'], dtype=object)"
            ]
          },
          "metadata": {},
          "execution_count": 18
        }
      ],
      "source": [
        "df['sourceTCPFlagsDescription'].unique()"
      ]
    },
    {
      "cell_type": "code",
      "execution_count": null,
      "metadata": {
        "colab": {
          "base_uri": "https://localhost:8080/"
        },
        "id": "lAfPhyKKR_NO",
        "outputId": "9922b972-a541-40ec-d180-50710fb20176"
      },
      "outputs": [
        {
          "output_type": "execute_result",
          "data": {
            "text/plain": [
              "sourceTCPFlagsDescription\n",
              "F,S,P,A                  1164035\n",
              "S,P,A                     185453\n",
              "F,A                       132930\n",
              "S                          41582\n",
              "S,R,P,A                    27739\n",
              "F,P,A                      25815\n",
              "P,A                        16827\n",
              "A                          15333\n",
              "F,S,A                      10957\n",
              "F,S,R,P,A                   9038\n",
              "F,R,A                       4708\n",
              "S,A                         3438\n",
              "R,A                         1071\n",
              "R                            907\n",
              "S,R                          550\n",
              "F,R,P,A                      130\n",
              "R,P,A                        117\n",
              "S,R,A                         27\n",
              "S,R,Illegal7,Illegal8         18\n",
              "F,S,R,A                       15\n",
              "F,P,U                         12\n",
              "F,S,R,P,U                     10\n",
              "F,S,P,U                        2\n",
              "Name: count, dtype: int64"
            ]
          },
          "metadata": {},
          "execution_count": 19
        }
      ],
      "source": [
        "df['sourceTCPFlagsDescription'].value_counts()"
      ]
    },
    {
      "cell_type": "code",
      "execution_count": null,
      "metadata": {
        "colab": {
          "base_uri": "https://localhost:8080/"
        },
        "id": "ePad6WfsR3R1",
        "outputId": "ee055520-c714-4a6a-9b1c-6bcbcffb03c1"
      },
      "outputs": [
        {
          "output_type": "execute_result",
          "data": {
            "text/plain": [
              "23"
            ]
          },
          "metadata": {},
          "execution_count": 20
        }
      ],
      "source": [
        "df['sourceTCPFlagsDescription'].nunique()"
      ]
    },
    {
      "cell_type": "code",
      "execution_count": null,
      "metadata": {
        "colab": {
          "base_uri": "https://localhost:8080/"
        },
        "id": "NOohqAYYRsGx",
        "outputId": "4b97f448-70af-4a8c-f45f-b7c07a12e971"
      },
      "outputs": [
        {
          "output_type": "execute_result",
          "data": {
            "text/plain": [
              "array([nan, 'R', 'F,A', 'P,A', 'F,S,P,A', 'S,P,A', 'F,S,R,P,A', 'S,R,P,A',\n",
              "       'F,R,A', 'A', 'F,P,A', 'S,A', 'F,R,P,A', 'F,S,A', 'F,S,R,A', 'R,A',\n",
              "       'S,R,A', 'S,R,A,Illegal8', 'R,P,A', 'F,S,P,A,Illegal8',\n",
              "       'F,S,R,P,A,Illegal8', 'S,P,A,Illegal8', 'F,P,A,Illegal8', 'S',\n",
              "       'R,Illegal8', 'R,A,Illegal7', 'R,A,Illegal7,Illegal8',\n",
              "       'R,A,Illegal8'], dtype=object)"
            ]
          },
          "metadata": {},
          "execution_count": 21
        }
      ],
      "source": [
        "df['destinationTCPFlagsDescription'].unique()"
      ]
    },
    {
      "cell_type": "code",
      "execution_count": null,
      "metadata": {
        "colab": {
          "base_uri": "https://localhost:8080/"
        },
        "id": "6gAgExxDWNrU",
        "outputId": "617db17b-87ab-4593-c126-d91215c36c03"
      },
      "outputs": [
        {
          "output_type": "stream",
          "name": "stdout",
          "text": [
            "<class 'pandas.core.series.Series'>\n",
            "RangeIndex: 2071657 entries, 0 to 2071656\n",
            "Series name: destinationTCPFlagsDescription\n",
            "Non-Null Count    Dtype \n",
            "--------------    ----- \n",
            "1578235 non-null  object\n",
            "dtypes: object(1)\n",
            "memory usage: 15.8+ MB\n"
          ]
        }
      ],
      "source": [
        "df['destinationTCPFlagsDescription'].info()"
      ]
    },
    {
      "cell_type": "code",
      "execution_count": null,
      "metadata": {
        "colab": {
          "base_uri": "https://localhost:8080/"
        },
        "id": "OorebpsmWV32",
        "outputId": "ba4d293e-092a-49d6-8d8d-867a063375d1"
      },
      "outputs": [
        {
          "output_type": "stream",
          "name": "stdout",
          "text": [
            "<class 'pandas.core.series.Series'>\n",
            "RangeIndex: 2071657 entries, 0 to 2071656\n",
            "Series name: sourceTCPFlagsDescription\n",
            "Non-Null Count    Dtype \n",
            "--------------    ----- \n",
            "1640714 non-null  object\n",
            "dtypes: object(1)\n",
            "memory usage: 15.8+ MB\n"
          ]
        }
      ],
      "source": [
        "df['sourceTCPFlagsDescription'].info()"
      ]
    },
    {
      "cell_type": "code",
      "execution_count": null,
      "metadata": {
        "colab": {
          "base_uri": "https://localhost:8080/",
          "height": 237
        },
        "id": "WiQ3Ek4_VhUt",
        "outputId": "e5e454bd-d557-470f-b186-6a3d43129b30"
      },
      "outputs": [
        {
          "output_type": "execute_result",
          "data": {
            "text/plain": [
              "                                  count unique      top     freq\n",
              "appName                         2071657    107  HTTPWeb   738833\n",
              "direction                       2071657      4      L2R  1787500\n",
              "sourceTCPFlagsDescription       1640714     23  F,S,P,A  1164035\n",
              "destinationTCPFlagsDescription  1578235     27  F,S,P,A  1142281\n",
              "protocolName                    2071657      6   tcp_ip  1644056\n",
              "Label                           2071657      2   Normal  2002747"
            ],
            "text/html": [
              "\n",
              "  <div id=\"df-8d8124b8-9645-4315-ae8c-baa987288119\" class=\"colab-df-container\">\n",
              "    <div>\n",
              "<style scoped>\n",
              "    .dataframe tbody tr th:only-of-type {\n",
              "        vertical-align: middle;\n",
              "    }\n",
              "\n",
              "    .dataframe tbody tr th {\n",
              "        vertical-align: top;\n",
              "    }\n",
              "\n",
              "    .dataframe thead th {\n",
              "        text-align: right;\n",
              "    }\n",
              "</style>\n",
              "<table border=\"1\" class=\"dataframe\">\n",
              "  <thead>\n",
              "    <tr style=\"text-align: right;\">\n",
              "      <th></th>\n",
              "      <th>count</th>\n",
              "      <th>unique</th>\n",
              "      <th>top</th>\n",
              "      <th>freq</th>\n",
              "    </tr>\n",
              "  </thead>\n",
              "  <tbody>\n",
              "    <tr>\n",
              "      <th>appName</th>\n",
              "      <td>2071657</td>\n",
              "      <td>107</td>\n",
              "      <td>HTTPWeb</td>\n",
              "      <td>738833</td>\n",
              "    </tr>\n",
              "    <tr>\n",
              "      <th>direction</th>\n",
              "      <td>2071657</td>\n",
              "      <td>4</td>\n",
              "      <td>L2R</td>\n",
              "      <td>1787500</td>\n",
              "    </tr>\n",
              "    <tr>\n",
              "      <th>sourceTCPFlagsDescription</th>\n",
              "      <td>1640714</td>\n",
              "      <td>23</td>\n",
              "      <td>F,S,P,A</td>\n",
              "      <td>1164035</td>\n",
              "    </tr>\n",
              "    <tr>\n",
              "      <th>destinationTCPFlagsDescription</th>\n",
              "      <td>1578235</td>\n",
              "      <td>27</td>\n",
              "      <td>F,S,P,A</td>\n",
              "      <td>1142281</td>\n",
              "    </tr>\n",
              "    <tr>\n",
              "      <th>protocolName</th>\n",
              "      <td>2071657</td>\n",
              "      <td>6</td>\n",
              "      <td>tcp_ip</td>\n",
              "      <td>1644056</td>\n",
              "    </tr>\n",
              "    <tr>\n",
              "      <th>Label</th>\n",
              "      <td>2071657</td>\n",
              "      <td>2</td>\n",
              "      <td>Normal</td>\n",
              "      <td>2002747</td>\n",
              "    </tr>\n",
              "  </tbody>\n",
              "</table>\n",
              "</div>\n",
              "    <div class=\"colab-df-buttons\">\n",
              "\n",
              "  <div class=\"colab-df-container\">\n",
              "    <button class=\"colab-df-convert\" onclick=\"convertToInteractive('df-8d8124b8-9645-4315-ae8c-baa987288119')\"\n",
              "            title=\"Convert this dataframe to an interactive table.\"\n",
              "            style=\"display:none;\">\n",
              "\n",
              "  <svg xmlns=\"http://www.w3.org/2000/svg\" height=\"24px\" viewBox=\"0 -960 960 960\">\n",
              "    <path d=\"M120-120v-720h720v720H120Zm60-500h600v-160H180v160Zm220 220h160v-160H400v160Zm0 220h160v-160H400v160ZM180-400h160v-160H180v160Zm440 0h160v-160H620v160ZM180-180h160v-160H180v160Zm440 0h160v-160H620v160Z\"/>\n",
              "  </svg>\n",
              "    </button>\n",
              "\n",
              "  <style>\n",
              "    .colab-df-container {\n",
              "      display:flex;\n",
              "      gap: 12px;\n",
              "    }\n",
              "\n",
              "    .colab-df-convert {\n",
              "      background-color: #E8F0FE;\n",
              "      border: none;\n",
              "      border-radius: 50%;\n",
              "      cursor: pointer;\n",
              "      display: none;\n",
              "      fill: #1967D2;\n",
              "      height: 32px;\n",
              "      padding: 0 0 0 0;\n",
              "      width: 32px;\n",
              "    }\n",
              "\n",
              "    .colab-df-convert:hover {\n",
              "      background-color: #E2EBFA;\n",
              "      box-shadow: 0px 1px 2px rgba(60, 64, 67, 0.3), 0px 1px 3px 1px rgba(60, 64, 67, 0.15);\n",
              "      fill: #174EA6;\n",
              "    }\n",
              "\n",
              "    .colab-df-buttons div {\n",
              "      margin-bottom: 4px;\n",
              "    }\n",
              "\n",
              "    [theme=dark] .colab-df-convert {\n",
              "      background-color: #3B4455;\n",
              "      fill: #D2E3FC;\n",
              "    }\n",
              "\n",
              "    [theme=dark] .colab-df-convert:hover {\n",
              "      background-color: #434B5C;\n",
              "      box-shadow: 0px 1px 3px 1px rgba(0, 0, 0, 0.15);\n",
              "      filter: drop-shadow(0px 1px 2px rgba(0, 0, 0, 0.3));\n",
              "      fill: #FFFFFF;\n",
              "    }\n",
              "  </style>\n",
              "\n",
              "    <script>\n",
              "      const buttonEl =\n",
              "        document.querySelector('#df-8d8124b8-9645-4315-ae8c-baa987288119 button.colab-df-convert');\n",
              "      buttonEl.style.display =\n",
              "        google.colab.kernel.accessAllowed ? 'block' : 'none';\n",
              "\n",
              "      async function convertToInteractive(key) {\n",
              "        const element = document.querySelector('#df-8d8124b8-9645-4315-ae8c-baa987288119');\n",
              "        const dataTable =\n",
              "          await google.colab.kernel.invokeFunction('convertToInteractive',\n",
              "                                                    [key], {});\n",
              "        if (!dataTable) return;\n",
              "\n",
              "        const docLinkHtml = 'Like what you see? Visit the ' +\n",
              "          '<a target=\"_blank\" href=https://colab.research.google.com/notebooks/data_table.ipynb>data table notebook</a>'\n",
              "          + ' to learn more about interactive tables.';\n",
              "        element.innerHTML = '';\n",
              "        dataTable['output_type'] = 'display_data';\n",
              "        await google.colab.output.renderOutput(dataTable, element);\n",
              "        const docLink = document.createElement('div');\n",
              "        docLink.innerHTML = docLinkHtml;\n",
              "        element.appendChild(docLink);\n",
              "      }\n",
              "    </script>\n",
              "  </div>\n",
              "\n",
              "\n",
              "<div id=\"df-a4d5ec44-aace-4237-8398-4a64179383cd\">\n",
              "  <button class=\"colab-df-quickchart\" onclick=\"quickchart('df-a4d5ec44-aace-4237-8398-4a64179383cd')\"\n",
              "            title=\"Suggest charts\"\n",
              "            style=\"display:none;\">\n",
              "\n",
              "<svg xmlns=\"http://www.w3.org/2000/svg\" height=\"24px\"viewBox=\"0 0 24 24\"\n",
              "     width=\"24px\">\n",
              "    <g>\n",
              "        <path d=\"M19 3H5c-1.1 0-2 .9-2 2v14c0 1.1.9 2 2 2h14c1.1 0 2-.9 2-2V5c0-1.1-.9-2-2-2zM9 17H7v-7h2v7zm4 0h-2V7h2v10zm4 0h-2v-4h2v4z\"/>\n",
              "    </g>\n",
              "</svg>\n",
              "  </button>\n",
              "\n",
              "<style>\n",
              "  .colab-df-quickchart {\n",
              "      --bg-color: #E8F0FE;\n",
              "      --fill-color: #1967D2;\n",
              "      --hover-bg-color: #E2EBFA;\n",
              "      --hover-fill-color: #174EA6;\n",
              "      --disabled-fill-color: #AAA;\n",
              "      --disabled-bg-color: #DDD;\n",
              "  }\n",
              "\n",
              "  [theme=dark] .colab-df-quickchart {\n",
              "      --bg-color: #3B4455;\n",
              "      --fill-color: #D2E3FC;\n",
              "      --hover-bg-color: #434B5C;\n",
              "      --hover-fill-color: #FFFFFF;\n",
              "      --disabled-bg-color: #3B4455;\n",
              "      --disabled-fill-color: #666;\n",
              "  }\n",
              "\n",
              "  .colab-df-quickchart {\n",
              "    background-color: var(--bg-color);\n",
              "    border: none;\n",
              "    border-radius: 50%;\n",
              "    cursor: pointer;\n",
              "    display: none;\n",
              "    fill: var(--fill-color);\n",
              "    height: 32px;\n",
              "    padding: 0;\n",
              "    width: 32px;\n",
              "  }\n",
              "\n",
              "  .colab-df-quickchart:hover {\n",
              "    background-color: var(--hover-bg-color);\n",
              "    box-shadow: 0 1px 2px rgba(60, 64, 67, 0.3), 0 1px 3px 1px rgba(60, 64, 67, 0.15);\n",
              "    fill: var(--button-hover-fill-color);\n",
              "  }\n",
              "\n",
              "  .colab-df-quickchart-complete:disabled,\n",
              "  .colab-df-quickchart-complete:disabled:hover {\n",
              "    background-color: var(--disabled-bg-color);\n",
              "    fill: var(--disabled-fill-color);\n",
              "    box-shadow: none;\n",
              "  }\n",
              "\n",
              "  .colab-df-spinner {\n",
              "    border: 2px solid var(--fill-color);\n",
              "    border-color: transparent;\n",
              "    border-bottom-color: var(--fill-color);\n",
              "    animation:\n",
              "      spin 1s steps(1) infinite;\n",
              "  }\n",
              "\n",
              "  @keyframes spin {\n",
              "    0% {\n",
              "      border-color: transparent;\n",
              "      border-bottom-color: var(--fill-color);\n",
              "      border-left-color: var(--fill-color);\n",
              "    }\n",
              "    20% {\n",
              "      border-color: transparent;\n",
              "      border-left-color: var(--fill-color);\n",
              "      border-top-color: var(--fill-color);\n",
              "    }\n",
              "    30% {\n",
              "      border-color: transparent;\n",
              "      border-left-color: var(--fill-color);\n",
              "      border-top-color: var(--fill-color);\n",
              "      border-right-color: var(--fill-color);\n",
              "    }\n",
              "    40% {\n",
              "      border-color: transparent;\n",
              "      border-right-color: var(--fill-color);\n",
              "      border-top-color: var(--fill-color);\n",
              "    }\n",
              "    60% {\n",
              "      border-color: transparent;\n",
              "      border-right-color: var(--fill-color);\n",
              "    }\n",
              "    80% {\n",
              "      border-color: transparent;\n",
              "      border-right-color: var(--fill-color);\n",
              "      border-bottom-color: var(--fill-color);\n",
              "    }\n",
              "    90% {\n",
              "      border-color: transparent;\n",
              "      border-bottom-color: var(--fill-color);\n",
              "    }\n",
              "  }\n",
              "</style>\n",
              "\n",
              "  <script>\n",
              "    async function quickchart(key) {\n",
              "      const quickchartButtonEl =\n",
              "        document.querySelector('#' + key + ' button');\n",
              "      quickchartButtonEl.disabled = true;  // To prevent multiple clicks.\n",
              "      quickchartButtonEl.classList.add('colab-df-spinner');\n",
              "      try {\n",
              "        const charts = await google.colab.kernel.invokeFunction(\n",
              "            'suggestCharts', [key], {});\n",
              "      } catch (error) {\n",
              "        console.error('Error during call to suggestCharts:', error);\n",
              "      }\n",
              "      quickchartButtonEl.classList.remove('colab-df-spinner');\n",
              "      quickchartButtonEl.classList.add('colab-df-quickchart-complete');\n",
              "    }\n",
              "    (() => {\n",
              "      let quickchartButtonEl =\n",
              "        document.querySelector('#df-a4d5ec44-aace-4237-8398-4a64179383cd button');\n",
              "      quickchartButtonEl.style.display =\n",
              "        google.colab.kernel.accessAllowed ? 'block' : 'none';\n",
              "    })();\n",
              "  </script>\n",
              "</div>\n",
              "\n",
              "    </div>\n",
              "  </div>\n"
            ],
            "application/vnd.google.colaboratory.intrinsic+json": {
              "type": "dataframe",
              "summary": "{\n  \"name\": \"df\",\n  \"rows\": 6,\n  \"fields\": [\n    {\n      \"column\": \"count\",\n      \"properties\": {\n        \"dtype\": \"date\",\n        \"min\": \"1578235\",\n        \"max\": \"2071657\",\n        \"num_unique_values\": 3,\n        \"samples\": [\n          \"2071657\",\n          \"1640714\",\n          \"1578235\"\n        ],\n        \"semantic_type\": \"\",\n        \"description\": \"\"\n      }\n    },\n    {\n      \"column\": \"unique\",\n      \"properties\": {\n        \"dtype\": \"date\",\n        \"min\": 2,\n        \"max\": 107,\n        \"num_unique_values\": 6,\n        \"samples\": [\n          107,\n          4,\n          2\n        ],\n        \"semantic_type\": \"\",\n        \"description\": \"\"\n      }\n    },\n    {\n      \"column\": \"top\",\n      \"properties\": {\n        \"dtype\": \"string\",\n        \"num_unique_values\": 5,\n        \"samples\": [\n          \"L2R\",\n          \"Normal\",\n          \"F,S,P,A\"\n        ],\n        \"semantic_type\": \"\",\n        \"description\": \"\"\n      }\n    },\n    {\n      \"column\": \"freq\",\n      \"properties\": {\n        \"dtype\": \"date\",\n        \"min\": \"738833\",\n        \"max\": \"2002747\",\n        \"num_unique_values\": 6,\n        \"samples\": [\n          \"738833\",\n          \"1787500\",\n          \"2002747\"\n        ],\n        \"semantic_type\": \"\",\n        \"description\": \"\"\n      }\n    }\n  ]\n}"
            }
          },
          "metadata": {},
          "execution_count": 24
        }
      ],
      "source": [
        "df.describe(include  = 'object').T"
      ]
    },
    {
      "cell_type": "code",
      "execution_count": null,
      "metadata": {
        "colab": {
          "base_uri": "https://localhost:8080/"
        },
        "id": "Lc3NaFzJOQUe",
        "outputId": "461cb808-3f01-4803-9517-90bc3582ef4d"
      },
      "outputs": [
        {
          "output_type": "execute_result",
          "data": {
            "text/plain": [
              "appName                                0\n",
              "totalSourceBytes                       0\n",
              "totalDestinationBytes                  0\n",
              "totalDestinationPackets                0\n",
              "totalSourcePackets                     0\n",
              "direction                              0\n",
              "sourceTCPFlagsDescription         430943\n",
              "destinationTCPFlagsDescription    493422\n",
              "protocolName                           0\n",
              "Label                                  0\n",
              "dtype: int64"
            ]
          },
          "metadata": {},
          "execution_count": 25
        }
      ],
      "source": [
        "df.isnull().sum()"
      ]
    },
    {
      "cell_type": "code",
      "execution_count": null,
      "metadata": {
        "colab": {
          "base_uri": "https://localhost:8080/"
        },
        "id": "I5ifzJsesa_l",
        "outputId": "f950f277-d853-4814-c584-a6d9af13d96a"
      },
      "outputs": [
        {
          "output_type": "execute_result",
          "data": {
            "text/plain": [
              "appName                           object\n",
              "totalSourceBytes                   int64\n",
              "totalDestinationBytes              int64\n",
              "totalDestinationPackets            int64\n",
              "totalSourcePackets                 int64\n",
              "direction                         object\n",
              "sourceTCPFlagsDescription         object\n",
              "destinationTCPFlagsDescription    object\n",
              "protocolName                      object\n",
              "Label                             object\n",
              "dtype: object"
            ]
          },
          "metadata": {},
          "execution_count": 26
        }
      ],
      "source": [
        "df.dtypes"
      ]
    },
    {
      "cell_type": "code",
      "execution_count": null,
      "metadata": {
        "colab": {
          "base_uri": "https://localhost:8080/"
        },
        "id": "fZIb-RbLUvve",
        "outputId": "764ff14c-970d-449f-e381-ddf9097d6e6c"
      },
      "outputs": [
        {
          "output_type": "execute_result",
          "data": {
            "text/plain": [
              "(2071657, 10)"
            ]
          },
          "metadata": {},
          "execution_count": 27
        }
      ],
      "source": [
        "df.shape"
      ]
    },
    {
      "cell_type": "code",
      "execution_count": null,
      "metadata": {
        "colab": {
          "base_uri": "https://localhost:8080/"
        },
        "id": "f_kfLTf0Uyt5",
        "outputId": "369ea2c3-1cf8-4650-9c32-e2256a2fe96a"
      },
      "outputs": [
        {
          "output_type": "execute_result",
          "data": {
            "text/plain": [
              "Label\n",
              "Normal    2002747\n",
              "Attack      68910\n",
              "Name: count, dtype: int64"
            ]
          },
          "metadata": {},
          "execution_count": 28
        }
      ],
      "source": [
        "df['Label'].value_counts()"
      ]
    },
    {
      "cell_type": "code",
      "execution_count": null,
      "metadata": {
        "id": "QJCgLIVHspER"
      },
      "outputs": [],
      "source": [
        "from sklearn.ensemble import RandomForestClassifier\n",
        "from sklearn.model_selection import train_test_split\n",
        "import pandas as pd\n",
        "\n",
        "def impute_missing_categorical(df, target_column):\n",
        "    # Filter out numerical columns\n",
        "    numerical_columns = df.select_dtypes(include=['float64', 'int64']).columns\n",
        "\n",
        "    # Split the data into features (X) and target variable (y)\n",
        "    X = df.dropna(subset=[target_column], axis=0)  # Remove rows with missing values in the target column\n",
        "    y = X[target_column]\n",
        "    X = X[numerical_columns]  # Select only numerical columns\n",
        "\n",
        "    # Split the data into training and test sets\n",
        "    X_train, X_test, y_train, y_test = train_test_split(X, y, test_size=0.2, random_state=42)\n",
        "\n",
        "    # Train a machine learning model to predict missing values\n",
        "    model = RandomForestClassifier()\n",
        "    model.fit(X_train, y_train)\n",
        "\n",
        "    # Predict missing values\n",
        "    missing_X = df[df[target_column].isnull()][numerical_columns]  # Select numerical columns for missing rows\n",
        "    predicted_values = model.predict(missing_X)\n",
        "\n",
        "    # Fill missing values with predicted values\n",
        "    df.loc[df[target_column].isnull(), target_column] = predicted_values\n",
        "\n",
        "# Apply imputation for each categorical column with missing values\n",
        "categorical_columns_with_missing = ['sourceTCPFlagsDescription', 'destinationTCPFlagsDescription']\n",
        "\n",
        "for column in categorical_columns_with_missing:\n",
        "    impute_missing_categorical(df, column)"
      ]
    },
    {
      "cell_type": "code",
      "execution_count": null,
      "metadata": {
        "colab": {
          "base_uri": "https://localhost:8080/"
        },
        "id": "cTYiVZqmtBvU",
        "outputId": "82b1dd35-2c78-4d0e-ff7c-4b199c54d5fc"
      },
      "outputs": [
        {
          "output_type": "execute_result",
          "data": {
            "text/plain": [
              "appName                           0\n",
              "totalSourceBytes                  0\n",
              "totalDestinationBytes             0\n",
              "totalDestinationPackets           0\n",
              "totalSourcePackets                0\n",
              "direction                         0\n",
              "sourceTCPFlagsDescription         0\n",
              "destinationTCPFlagsDescription    0\n",
              "protocolName                      0\n",
              "Label                             0\n",
              "dtype: int64"
            ]
          },
          "metadata": {},
          "execution_count": 30
        }
      ],
      "source": [
        "df.isnull().sum()"
      ]
    },
    {
      "cell_type": "code",
      "execution_count": null,
      "metadata": {
        "colab": {
          "base_uri": "https://localhost:8080/",
          "height": 383
        },
        "id": "X4phDL9_tF8E",
        "outputId": "e417c019-bb47-46d8-abac-533cff87ed26"
      },
      "outputs": [
        {
          "output_type": "execute_result",
          "data": {
            "text/plain": [
              "             appName  totalSourceBytes  totalDestinationBytes  \\\n",
              "0        Unknown_UDP           2633658                      0   \n",
              "1        Unknown_UDP           2633658                      0   \n",
              "2            HTTPWeb                64                    128   \n",
              "3            HTTPWeb                64                    128   \n",
              "4            HTTPWeb               128                     64   \n",
              "5            HTTPWeb               128                     64   \n",
              "6  HTTPImageTransfer               128                    128   \n",
              "7  HTTPImageTransfer               128                    128   \n",
              "8          SecureWeb                64                      0   \n",
              "9          SecureWeb                64                      0   \n",
              "\n",
              "   totalDestinationPackets  totalSourcePackets direction  \\\n",
              "0                        0               28971       L2R   \n",
              "1                        0               28971       L2R   \n",
              "2                        2                   1       L2L   \n",
              "3                        2                   1       L2L   \n",
              "4                        1                   2       L2R   \n",
              "5                        1                   2       L2R   \n",
              "6                        2                   2       L2R   \n",
              "7                        2                   2       L2R   \n",
              "8                        0                   1       L2R   \n",
              "9                        0                   1       L2R   \n",
              "\n",
              "  sourceTCPFlagsDescription destinationTCPFlagsDescription protocolName  \\\n",
              "0                         S                            S,A       udp_ip   \n",
              "1                         S                            S,A       udp_ip   \n",
              "2                       F,A                              R       tcp_ip   \n",
              "3                       F,A                              R       tcp_ip   \n",
              "4                       F,A                            F,A       tcp_ip   \n",
              "5                       F,A                            F,A       tcp_ip   \n",
              "6                       F,A                            F,A       tcp_ip   \n",
              "7                       F,A                            F,A       tcp_ip   \n",
              "8                       F,A                            R,A       tcp_ip   \n",
              "9                       F,A                            R,A       tcp_ip   \n",
              "\n",
              "    Label  \n",
              "0  Normal  \n",
              "1  Normal  \n",
              "2  Normal  \n",
              "3  Normal  \n",
              "4  Normal  \n",
              "5  Normal  \n",
              "6  Normal  \n",
              "7  Normal  \n",
              "8  Normal  \n",
              "9  Normal  "
            ],
            "text/html": [
              "\n",
              "  <div id=\"df-eb6ff97b-0e11-45eb-b1f0-5a97e99957fc\" class=\"colab-df-container\">\n",
              "    <div>\n",
              "<style scoped>\n",
              "    .dataframe tbody tr th:only-of-type {\n",
              "        vertical-align: middle;\n",
              "    }\n",
              "\n",
              "    .dataframe tbody tr th {\n",
              "        vertical-align: top;\n",
              "    }\n",
              "\n",
              "    .dataframe thead th {\n",
              "        text-align: right;\n",
              "    }\n",
              "</style>\n",
              "<table border=\"1\" class=\"dataframe\">\n",
              "  <thead>\n",
              "    <tr style=\"text-align: right;\">\n",
              "      <th></th>\n",
              "      <th>appName</th>\n",
              "      <th>totalSourceBytes</th>\n",
              "      <th>totalDestinationBytes</th>\n",
              "      <th>totalDestinationPackets</th>\n",
              "      <th>totalSourcePackets</th>\n",
              "      <th>direction</th>\n",
              "      <th>sourceTCPFlagsDescription</th>\n",
              "      <th>destinationTCPFlagsDescription</th>\n",
              "      <th>protocolName</th>\n",
              "      <th>Label</th>\n",
              "    </tr>\n",
              "  </thead>\n",
              "  <tbody>\n",
              "    <tr>\n",
              "      <th>0</th>\n",
              "      <td>Unknown_UDP</td>\n",
              "      <td>2633658</td>\n",
              "      <td>0</td>\n",
              "      <td>0</td>\n",
              "      <td>28971</td>\n",
              "      <td>L2R</td>\n",
              "      <td>S</td>\n",
              "      <td>S,A</td>\n",
              "      <td>udp_ip</td>\n",
              "      <td>Normal</td>\n",
              "    </tr>\n",
              "    <tr>\n",
              "      <th>1</th>\n",
              "      <td>Unknown_UDP</td>\n",
              "      <td>2633658</td>\n",
              "      <td>0</td>\n",
              "      <td>0</td>\n",
              "      <td>28971</td>\n",
              "      <td>L2R</td>\n",
              "      <td>S</td>\n",
              "      <td>S,A</td>\n",
              "      <td>udp_ip</td>\n",
              "      <td>Normal</td>\n",
              "    </tr>\n",
              "    <tr>\n",
              "      <th>2</th>\n",
              "      <td>HTTPWeb</td>\n",
              "      <td>64</td>\n",
              "      <td>128</td>\n",
              "      <td>2</td>\n",
              "      <td>1</td>\n",
              "      <td>L2L</td>\n",
              "      <td>F,A</td>\n",
              "      <td>R</td>\n",
              "      <td>tcp_ip</td>\n",
              "      <td>Normal</td>\n",
              "    </tr>\n",
              "    <tr>\n",
              "      <th>3</th>\n",
              "      <td>HTTPWeb</td>\n",
              "      <td>64</td>\n",
              "      <td>128</td>\n",
              "      <td>2</td>\n",
              "      <td>1</td>\n",
              "      <td>L2L</td>\n",
              "      <td>F,A</td>\n",
              "      <td>R</td>\n",
              "      <td>tcp_ip</td>\n",
              "      <td>Normal</td>\n",
              "    </tr>\n",
              "    <tr>\n",
              "      <th>4</th>\n",
              "      <td>HTTPWeb</td>\n",
              "      <td>128</td>\n",
              "      <td>64</td>\n",
              "      <td>1</td>\n",
              "      <td>2</td>\n",
              "      <td>L2R</td>\n",
              "      <td>F,A</td>\n",
              "      <td>F,A</td>\n",
              "      <td>tcp_ip</td>\n",
              "      <td>Normal</td>\n",
              "    </tr>\n",
              "    <tr>\n",
              "      <th>5</th>\n",
              "      <td>HTTPWeb</td>\n",
              "      <td>128</td>\n",
              "      <td>64</td>\n",
              "      <td>1</td>\n",
              "      <td>2</td>\n",
              "      <td>L2R</td>\n",
              "      <td>F,A</td>\n",
              "      <td>F,A</td>\n",
              "      <td>tcp_ip</td>\n",
              "      <td>Normal</td>\n",
              "    </tr>\n",
              "    <tr>\n",
              "      <th>6</th>\n",
              "      <td>HTTPImageTransfer</td>\n",
              "      <td>128</td>\n",
              "      <td>128</td>\n",
              "      <td>2</td>\n",
              "      <td>2</td>\n",
              "      <td>L2R</td>\n",
              "      <td>F,A</td>\n",
              "      <td>F,A</td>\n",
              "      <td>tcp_ip</td>\n",
              "      <td>Normal</td>\n",
              "    </tr>\n",
              "    <tr>\n",
              "      <th>7</th>\n",
              "      <td>HTTPImageTransfer</td>\n",
              "      <td>128</td>\n",
              "      <td>128</td>\n",
              "      <td>2</td>\n",
              "      <td>2</td>\n",
              "      <td>L2R</td>\n",
              "      <td>F,A</td>\n",
              "      <td>F,A</td>\n",
              "      <td>tcp_ip</td>\n",
              "      <td>Normal</td>\n",
              "    </tr>\n",
              "    <tr>\n",
              "      <th>8</th>\n",
              "      <td>SecureWeb</td>\n",
              "      <td>64</td>\n",
              "      <td>0</td>\n",
              "      <td>0</td>\n",
              "      <td>1</td>\n",
              "      <td>L2R</td>\n",
              "      <td>F,A</td>\n",
              "      <td>R,A</td>\n",
              "      <td>tcp_ip</td>\n",
              "      <td>Normal</td>\n",
              "    </tr>\n",
              "    <tr>\n",
              "      <th>9</th>\n",
              "      <td>SecureWeb</td>\n",
              "      <td>64</td>\n",
              "      <td>0</td>\n",
              "      <td>0</td>\n",
              "      <td>1</td>\n",
              "      <td>L2R</td>\n",
              "      <td>F,A</td>\n",
              "      <td>R,A</td>\n",
              "      <td>tcp_ip</td>\n",
              "      <td>Normal</td>\n",
              "    </tr>\n",
              "  </tbody>\n",
              "</table>\n",
              "</div>\n",
              "    <div class=\"colab-df-buttons\">\n",
              "\n",
              "  <div class=\"colab-df-container\">\n",
              "    <button class=\"colab-df-convert\" onclick=\"convertToInteractive('df-eb6ff97b-0e11-45eb-b1f0-5a97e99957fc')\"\n",
              "            title=\"Convert this dataframe to an interactive table.\"\n",
              "            style=\"display:none;\">\n",
              "\n",
              "  <svg xmlns=\"http://www.w3.org/2000/svg\" height=\"24px\" viewBox=\"0 -960 960 960\">\n",
              "    <path d=\"M120-120v-720h720v720H120Zm60-500h600v-160H180v160Zm220 220h160v-160H400v160Zm0 220h160v-160H400v160ZM180-400h160v-160H180v160Zm440 0h160v-160H620v160ZM180-180h160v-160H180v160Zm440 0h160v-160H620v160Z\"/>\n",
              "  </svg>\n",
              "    </button>\n",
              "\n",
              "  <style>\n",
              "    .colab-df-container {\n",
              "      display:flex;\n",
              "      gap: 12px;\n",
              "    }\n",
              "\n",
              "    .colab-df-convert {\n",
              "      background-color: #E8F0FE;\n",
              "      border: none;\n",
              "      border-radius: 50%;\n",
              "      cursor: pointer;\n",
              "      display: none;\n",
              "      fill: #1967D2;\n",
              "      height: 32px;\n",
              "      padding: 0 0 0 0;\n",
              "      width: 32px;\n",
              "    }\n",
              "\n",
              "    .colab-df-convert:hover {\n",
              "      background-color: #E2EBFA;\n",
              "      box-shadow: 0px 1px 2px rgba(60, 64, 67, 0.3), 0px 1px 3px 1px rgba(60, 64, 67, 0.15);\n",
              "      fill: #174EA6;\n",
              "    }\n",
              "\n",
              "    .colab-df-buttons div {\n",
              "      margin-bottom: 4px;\n",
              "    }\n",
              "\n",
              "    [theme=dark] .colab-df-convert {\n",
              "      background-color: #3B4455;\n",
              "      fill: #D2E3FC;\n",
              "    }\n",
              "\n",
              "    [theme=dark] .colab-df-convert:hover {\n",
              "      background-color: #434B5C;\n",
              "      box-shadow: 0px 1px 3px 1px rgba(0, 0, 0, 0.15);\n",
              "      filter: drop-shadow(0px 1px 2px rgba(0, 0, 0, 0.3));\n",
              "      fill: #FFFFFF;\n",
              "    }\n",
              "  </style>\n",
              "\n",
              "    <script>\n",
              "      const buttonEl =\n",
              "        document.querySelector('#df-eb6ff97b-0e11-45eb-b1f0-5a97e99957fc button.colab-df-convert');\n",
              "      buttonEl.style.display =\n",
              "        google.colab.kernel.accessAllowed ? 'block' : 'none';\n",
              "\n",
              "      async function convertToInteractive(key) {\n",
              "        const element = document.querySelector('#df-eb6ff97b-0e11-45eb-b1f0-5a97e99957fc');\n",
              "        const dataTable =\n",
              "          await google.colab.kernel.invokeFunction('convertToInteractive',\n",
              "                                                    [key], {});\n",
              "        if (!dataTable) return;\n",
              "\n",
              "        const docLinkHtml = 'Like what you see? Visit the ' +\n",
              "          '<a target=\"_blank\" href=https://colab.research.google.com/notebooks/data_table.ipynb>data table notebook</a>'\n",
              "          + ' to learn more about interactive tables.';\n",
              "        element.innerHTML = '';\n",
              "        dataTable['output_type'] = 'display_data';\n",
              "        await google.colab.output.renderOutput(dataTable, element);\n",
              "        const docLink = document.createElement('div');\n",
              "        docLink.innerHTML = docLinkHtml;\n",
              "        element.appendChild(docLink);\n",
              "      }\n",
              "    </script>\n",
              "  </div>\n",
              "\n",
              "\n",
              "<div id=\"df-6a3e7b7c-2991-4c7a-8fab-81d40ea0c3f0\">\n",
              "  <button class=\"colab-df-quickchart\" onclick=\"quickchart('df-6a3e7b7c-2991-4c7a-8fab-81d40ea0c3f0')\"\n",
              "            title=\"Suggest charts\"\n",
              "            style=\"display:none;\">\n",
              "\n",
              "<svg xmlns=\"http://www.w3.org/2000/svg\" height=\"24px\"viewBox=\"0 0 24 24\"\n",
              "     width=\"24px\">\n",
              "    <g>\n",
              "        <path d=\"M19 3H5c-1.1 0-2 .9-2 2v14c0 1.1.9 2 2 2h14c1.1 0 2-.9 2-2V5c0-1.1-.9-2-2-2zM9 17H7v-7h2v7zm4 0h-2V7h2v10zm4 0h-2v-4h2v4z\"/>\n",
              "    </g>\n",
              "</svg>\n",
              "  </button>\n",
              "\n",
              "<style>\n",
              "  .colab-df-quickchart {\n",
              "      --bg-color: #E8F0FE;\n",
              "      --fill-color: #1967D2;\n",
              "      --hover-bg-color: #E2EBFA;\n",
              "      --hover-fill-color: #174EA6;\n",
              "      --disabled-fill-color: #AAA;\n",
              "      --disabled-bg-color: #DDD;\n",
              "  }\n",
              "\n",
              "  [theme=dark] .colab-df-quickchart {\n",
              "      --bg-color: #3B4455;\n",
              "      --fill-color: #D2E3FC;\n",
              "      --hover-bg-color: #434B5C;\n",
              "      --hover-fill-color: #FFFFFF;\n",
              "      --disabled-bg-color: #3B4455;\n",
              "      --disabled-fill-color: #666;\n",
              "  }\n",
              "\n",
              "  .colab-df-quickchart {\n",
              "    background-color: var(--bg-color);\n",
              "    border: none;\n",
              "    border-radius: 50%;\n",
              "    cursor: pointer;\n",
              "    display: none;\n",
              "    fill: var(--fill-color);\n",
              "    height: 32px;\n",
              "    padding: 0;\n",
              "    width: 32px;\n",
              "  }\n",
              "\n",
              "  .colab-df-quickchart:hover {\n",
              "    background-color: var(--hover-bg-color);\n",
              "    box-shadow: 0 1px 2px rgba(60, 64, 67, 0.3), 0 1px 3px 1px rgba(60, 64, 67, 0.15);\n",
              "    fill: var(--button-hover-fill-color);\n",
              "  }\n",
              "\n",
              "  .colab-df-quickchart-complete:disabled,\n",
              "  .colab-df-quickchart-complete:disabled:hover {\n",
              "    background-color: var(--disabled-bg-color);\n",
              "    fill: var(--disabled-fill-color);\n",
              "    box-shadow: none;\n",
              "  }\n",
              "\n",
              "  .colab-df-spinner {\n",
              "    border: 2px solid var(--fill-color);\n",
              "    border-color: transparent;\n",
              "    border-bottom-color: var(--fill-color);\n",
              "    animation:\n",
              "      spin 1s steps(1) infinite;\n",
              "  }\n",
              "\n",
              "  @keyframes spin {\n",
              "    0% {\n",
              "      border-color: transparent;\n",
              "      border-bottom-color: var(--fill-color);\n",
              "      border-left-color: var(--fill-color);\n",
              "    }\n",
              "    20% {\n",
              "      border-color: transparent;\n",
              "      border-left-color: var(--fill-color);\n",
              "      border-top-color: var(--fill-color);\n",
              "    }\n",
              "    30% {\n",
              "      border-color: transparent;\n",
              "      border-left-color: var(--fill-color);\n",
              "      border-top-color: var(--fill-color);\n",
              "      border-right-color: var(--fill-color);\n",
              "    }\n",
              "    40% {\n",
              "      border-color: transparent;\n",
              "      border-right-color: var(--fill-color);\n",
              "      border-top-color: var(--fill-color);\n",
              "    }\n",
              "    60% {\n",
              "      border-color: transparent;\n",
              "      border-right-color: var(--fill-color);\n",
              "    }\n",
              "    80% {\n",
              "      border-color: transparent;\n",
              "      border-right-color: var(--fill-color);\n",
              "      border-bottom-color: var(--fill-color);\n",
              "    }\n",
              "    90% {\n",
              "      border-color: transparent;\n",
              "      border-bottom-color: var(--fill-color);\n",
              "    }\n",
              "  }\n",
              "</style>\n",
              "\n",
              "  <script>\n",
              "    async function quickchart(key) {\n",
              "      const quickchartButtonEl =\n",
              "        document.querySelector('#' + key + ' button');\n",
              "      quickchartButtonEl.disabled = true;  // To prevent multiple clicks.\n",
              "      quickchartButtonEl.classList.add('colab-df-spinner');\n",
              "      try {\n",
              "        const charts = await google.colab.kernel.invokeFunction(\n",
              "            'suggestCharts', [key], {});\n",
              "      } catch (error) {\n",
              "        console.error('Error during call to suggestCharts:', error);\n",
              "      }\n",
              "      quickchartButtonEl.classList.remove('colab-df-spinner');\n",
              "      quickchartButtonEl.classList.add('colab-df-quickchart-complete');\n",
              "    }\n",
              "    (() => {\n",
              "      let quickchartButtonEl =\n",
              "        document.querySelector('#df-6a3e7b7c-2991-4c7a-8fab-81d40ea0c3f0 button');\n",
              "      quickchartButtonEl.style.display =\n",
              "        google.colab.kernel.accessAllowed ? 'block' : 'none';\n",
              "    })();\n",
              "  </script>\n",
              "</div>\n",
              "\n",
              "    </div>\n",
              "  </div>\n"
            ],
            "application/vnd.google.colaboratory.intrinsic+json": {
              "type": "dataframe",
              "summary": "{\n  \"name\": \"df[:10]\",\n  \"rows\": 10,\n  \"fields\": [\n    {\n      \"column\": \"appName\",\n      \"properties\": {\n        \"dtype\": \"category\",\n        \"num_unique_values\": 4,\n        \"samples\": [\n          \"HTTPWeb\",\n          \"SecureWeb\",\n          \"Unknown_UDP\"\n        ],\n        \"semantic_type\": \"\",\n        \"description\": \"\"\n      }\n    },\n    {\n      \"column\": \"totalSourceBytes\",\n      \"properties\": {\n        \"dtype\": \"number\",\n        \"std\": 1110407,\n        \"min\": 64,\n        \"max\": 2633658,\n        \"num_unique_values\": 3,\n        \"samples\": [\n          2633658,\n          64,\n          128\n        ],\n        \"semantic_type\": \"\",\n        \"description\": \"\"\n      }\n    },\n    {\n      \"column\": \"totalDestinationBytes\",\n      \"properties\": {\n        \"dtype\": \"number\",\n        \"std\": 60,\n        \"min\": 0,\n        \"max\": 128,\n        \"num_unique_values\": 3,\n        \"samples\": [\n          0,\n          128,\n          64\n        ],\n        \"semantic_type\": \"\",\n        \"description\": \"\"\n      }\n    },\n    {\n      \"column\": \"totalDestinationPackets\",\n      \"properties\": {\n        \"dtype\": \"number\",\n        \"std\": 0,\n        \"min\": 0,\n        \"max\": 2,\n        \"num_unique_values\": 3,\n        \"samples\": [\n          0,\n          2,\n          1\n        ],\n        \"semantic_type\": \"\",\n        \"description\": \"\"\n      }\n    },\n    {\n      \"column\": \"totalSourcePackets\",\n      \"properties\": {\n        \"dtype\": \"number\",\n        \"std\": 12214,\n        \"min\": 1,\n        \"max\": 28971,\n        \"num_unique_values\": 3,\n        \"samples\": [\n          28971,\n          1,\n          2\n        ],\n        \"semantic_type\": \"\",\n        \"description\": \"\"\n      }\n    },\n    {\n      \"column\": \"direction\",\n      \"properties\": {\n        \"dtype\": \"category\",\n        \"num_unique_values\": 2,\n        \"samples\": [\n          \"L2L\",\n          \"L2R\"\n        ],\n        \"semantic_type\": \"\",\n        \"description\": \"\"\n      }\n    },\n    {\n      \"column\": \"sourceTCPFlagsDescription\",\n      \"properties\": {\n        \"dtype\": \"category\",\n        \"num_unique_values\": 2,\n        \"samples\": [\n          \"F,A\",\n          \"S\"\n        ],\n        \"semantic_type\": \"\",\n        \"description\": \"\"\n      }\n    },\n    {\n      \"column\": \"destinationTCPFlagsDescription\",\n      \"properties\": {\n        \"dtype\": \"category\",\n        \"num_unique_values\": 4,\n        \"samples\": [\n          \"R\",\n          \"R,A\"\n        ],\n        \"semantic_type\": \"\",\n        \"description\": \"\"\n      }\n    },\n    {\n      \"column\": \"protocolName\",\n      \"properties\": {\n        \"dtype\": \"category\",\n        \"num_unique_values\": 2,\n        \"samples\": [\n          \"tcp_ip\",\n          \"udp_ip\"\n        ],\n        \"semantic_type\": \"\",\n        \"description\": \"\"\n      }\n    },\n    {\n      \"column\": \"Label\",\n      \"properties\": {\n        \"dtype\": \"category\",\n        \"num_unique_values\": 1,\n        \"samples\": [\n          \"Normal\"\n        ],\n        \"semantic_type\": \"\",\n        \"description\": \"\"\n      }\n    }\n  ]\n}"
            }
          },
          "metadata": {},
          "execution_count": 31
        }
      ],
      "source": [
        "df[:10]"
      ]
    },
    {
      "cell_type": "code",
      "execution_count": null,
      "metadata": {
        "colab": {
          "base_uri": "https://localhost:8080/"
        },
        "id": "aalh-PJquhSv",
        "outputId": "700338ef-69af-4c5c-9e98-1c1c5416f0d5"
      },
      "outputs": [
        {
          "output_type": "execute_result",
          "data": {
            "text/plain": [
              "appName                           object\n",
              "totalSourceBytes                   int64\n",
              "totalDestinationBytes              int64\n",
              "totalDestinationPackets            int64\n",
              "totalSourcePackets                 int64\n",
              "direction                         object\n",
              "sourceTCPFlagsDescription         object\n",
              "destinationTCPFlagsDescription    object\n",
              "protocolName                      object\n",
              "Label                             object\n",
              "dtype: object"
            ]
          },
          "metadata": {},
          "execution_count": 32
        }
      ],
      "source": [
        "df.dtypes"
      ]
    },
    {
      "cell_type": "code",
      "execution_count": null,
      "metadata": {
        "colab": {
          "base_uri": "https://localhost:8080/"
        },
        "id": "9hhOUFmSNVNd",
        "outputId": "23aa3b53-33d6-4f28-d489-2d5eaa98da28"
      },
      "outputs": [
        {
          "output_type": "execute_result",
          "data": {
            "text/plain": [
              "(2071657, 10)"
            ]
          },
          "metadata": {},
          "execution_count": 33
        }
      ],
      "source": [
        "df.shape"
      ]
    },
    {
      "cell_type": "code",
      "execution_count": null,
      "metadata": {
        "id": "0SKbvltD0qNM"
      },
      "outputs": [],
      "source": [
        "import pandas as pd\n",
        "\n",
        "# Selecting categorical columns\n",
        "categorical_columns = ['appName', 'direction', 'sourceTCPFlagsDescription', 'destinationTCPFlagsDescription', 'protocolName', 'Label']\n",
        "\n",
        "# Perform one-hot encoding with prefix and numerical values\n",
        "df_encoded = pd.get_dummies(df, columns=categorical_columns, prefix=categorical_columns, dtype=int)"
      ]
    },
    {
      "cell_type": "code",
      "execution_count": null,
      "metadata": {
        "id": "mehCr1rV1KL2"
      },
      "outputs": [],
      "source": [
        "df = df_encoded"
      ]
    },
    {
      "cell_type": "code",
      "execution_count": null,
      "metadata": {
        "colab": {
          "base_uri": "https://localhost:8080/"
        },
        "id": "5o7h00bw1Et_",
        "outputId": "26d749cf-4a33-48ef-e17c-3c1048becf16"
      },
      "outputs": [
        {
          "output_type": "execute_result",
          "data": {
            "text/plain": [
              "(2071657, 173)"
            ]
          },
          "metadata": {},
          "execution_count": 36
        }
      ],
      "source": [
        "df.shape"
      ]
    },
    {
      "cell_type": "code",
      "execution_count": null,
      "metadata": {
        "colab": {
          "base_uri": "https://localhost:8080/",
          "height": 273
        },
        "id": "KJ3mKtlHNc_T",
        "outputId": "d0de9759-6c68-49e9-89d1-cf16022f3605"
      },
      "outputs": [
        {
          "output_type": "execute_result",
          "data": {
            "text/plain": [
              "   totalSourceBytes  totalDestinationBytes  totalDestinationPackets  \\\n",
              "0           2633658                      0                        0   \n",
              "1           2633658                      0                        0   \n",
              "2                64                    128                        2   \n",
              "3                64                    128                        2   \n",
              "4               128                     64                        1   \n",
              "\n",
              "   totalSourcePackets  appName_AOL-ICQ  appName_Anet  appName_Authentication  \\\n",
              "0               28971                0             0                       0   \n",
              "1               28971                0             0                       0   \n",
              "2                   1                0             0                       0   \n",
              "3                   1                0             0                       0   \n",
              "4                   2                0             0                       0   \n",
              "\n",
              "   appName_BGP  appName_BitTorrent  appName_Blubster  ...  \\\n",
              "0            0                   0                 0  ...   \n",
              "1            0                   0                 0  ...   \n",
              "2            0                   0                 0  ...   \n",
              "3            0                   0                 0  ...   \n",
              "4            0                   0                 0  ...   \n",
              "\n",
              "   destinationTCPFlagsDescription_S,R,A,Illegal8  \\\n",
              "0                                              0   \n",
              "1                                              0   \n",
              "2                                              0   \n",
              "3                                              0   \n",
              "4                                              0   \n",
              "\n",
              "   destinationTCPFlagsDescription_S,R,P,A  protocolName_icmp_ip  \\\n",
              "0                                       0                     0   \n",
              "1                                       0                     0   \n",
              "2                                       0                     0   \n",
              "3                                       0                     0   \n",
              "4                                       0                     0   \n",
              "\n",
              "   protocolName_igmp  protocolName_ip  protocolName_ipv6icmp  \\\n",
              "0                  0                0                      0   \n",
              "1                  0                0                      0   \n",
              "2                  0                0                      0   \n",
              "3                  0                0                      0   \n",
              "4                  0                0                      0   \n",
              "\n",
              "   protocolName_tcp_ip  protocolName_udp_ip  Label_Attack  Label_Normal  \n",
              "0                    0                    1             0             1  \n",
              "1                    0                    1             0             1  \n",
              "2                    1                    0             0             1  \n",
              "3                    1                    0             0             1  \n",
              "4                    1                    0             0             1  \n",
              "\n",
              "[5 rows x 173 columns]"
            ],
            "text/html": [
              "\n",
              "  <div id=\"df-d5ddf9d9-5f4f-42ce-8084-1d8fc53ea6ba\" class=\"colab-df-container\">\n",
              "    <div>\n",
              "<style scoped>\n",
              "    .dataframe tbody tr th:only-of-type {\n",
              "        vertical-align: middle;\n",
              "    }\n",
              "\n",
              "    .dataframe tbody tr th {\n",
              "        vertical-align: top;\n",
              "    }\n",
              "\n",
              "    .dataframe thead th {\n",
              "        text-align: right;\n",
              "    }\n",
              "</style>\n",
              "<table border=\"1\" class=\"dataframe\">\n",
              "  <thead>\n",
              "    <tr style=\"text-align: right;\">\n",
              "      <th></th>\n",
              "      <th>totalSourceBytes</th>\n",
              "      <th>totalDestinationBytes</th>\n",
              "      <th>totalDestinationPackets</th>\n",
              "      <th>totalSourcePackets</th>\n",
              "      <th>appName_AOL-ICQ</th>\n",
              "      <th>appName_Anet</th>\n",
              "      <th>appName_Authentication</th>\n",
              "      <th>appName_BGP</th>\n",
              "      <th>appName_BitTorrent</th>\n",
              "      <th>appName_Blubster</th>\n",
              "      <th>...</th>\n",
              "      <th>destinationTCPFlagsDescription_S,R,A,Illegal8</th>\n",
              "      <th>destinationTCPFlagsDescription_S,R,P,A</th>\n",
              "      <th>protocolName_icmp_ip</th>\n",
              "      <th>protocolName_igmp</th>\n",
              "      <th>protocolName_ip</th>\n",
              "      <th>protocolName_ipv6icmp</th>\n",
              "      <th>protocolName_tcp_ip</th>\n",
              "      <th>protocolName_udp_ip</th>\n",
              "      <th>Label_Attack</th>\n",
              "      <th>Label_Normal</th>\n",
              "    </tr>\n",
              "  </thead>\n",
              "  <tbody>\n",
              "    <tr>\n",
              "      <th>0</th>\n",
              "      <td>2633658</td>\n",
              "      <td>0</td>\n",
              "      <td>0</td>\n",
              "      <td>28971</td>\n",
              "      <td>0</td>\n",
              "      <td>0</td>\n",
              "      <td>0</td>\n",
              "      <td>0</td>\n",
              "      <td>0</td>\n",
              "      <td>0</td>\n",
              "      <td>...</td>\n",
              "      <td>0</td>\n",
              "      <td>0</td>\n",
              "      <td>0</td>\n",
              "      <td>0</td>\n",
              "      <td>0</td>\n",
              "      <td>0</td>\n",
              "      <td>0</td>\n",
              "      <td>1</td>\n",
              "      <td>0</td>\n",
              "      <td>1</td>\n",
              "    </tr>\n",
              "    <tr>\n",
              "      <th>1</th>\n",
              "      <td>2633658</td>\n",
              "      <td>0</td>\n",
              "      <td>0</td>\n",
              "      <td>28971</td>\n",
              "      <td>0</td>\n",
              "      <td>0</td>\n",
              "      <td>0</td>\n",
              "      <td>0</td>\n",
              "      <td>0</td>\n",
              "      <td>0</td>\n",
              "      <td>...</td>\n",
              "      <td>0</td>\n",
              "      <td>0</td>\n",
              "      <td>0</td>\n",
              "      <td>0</td>\n",
              "      <td>0</td>\n",
              "      <td>0</td>\n",
              "      <td>0</td>\n",
              "      <td>1</td>\n",
              "      <td>0</td>\n",
              "      <td>1</td>\n",
              "    </tr>\n",
              "    <tr>\n",
              "      <th>2</th>\n",
              "      <td>64</td>\n",
              "      <td>128</td>\n",
              "      <td>2</td>\n",
              "      <td>1</td>\n",
              "      <td>0</td>\n",
              "      <td>0</td>\n",
              "      <td>0</td>\n",
              "      <td>0</td>\n",
              "      <td>0</td>\n",
              "      <td>0</td>\n",
              "      <td>...</td>\n",
              "      <td>0</td>\n",
              "      <td>0</td>\n",
              "      <td>0</td>\n",
              "      <td>0</td>\n",
              "      <td>0</td>\n",
              "      <td>0</td>\n",
              "      <td>1</td>\n",
              "      <td>0</td>\n",
              "      <td>0</td>\n",
              "      <td>1</td>\n",
              "    </tr>\n",
              "    <tr>\n",
              "      <th>3</th>\n",
              "      <td>64</td>\n",
              "      <td>128</td>\n",
              "      <td>2</td>\n",
              "      <td>1</td>\n",
              "      <td>0</td>\n",
              "      <td>0</td>\n",
              "      <td>0</td>\n",
              "      <td>0</td>\n",
              "      <td>0</td>\n",
              "      <td>0</td>\n",
              "      <td>...</td>\n",
              "      <td>0</td>\n",
              "      <td>0</td>\n",
              "      <td>0</td>\n",
              "      <td>0</td>\n",
              "      <td>0</td>\n",
              "      <td>0</td>\n",
              "      <td>1</td>\n",
              "      <td>0</td>\n",
              "      <td>0</td>\n",
              "      <td>1</td>\n",
              "    </tr>\n",
              "    <tr>\n",
              "      <th>4</th>\n",
              "      <td>128</td>\n",
              "      <td>64</td>\n",
              "      <td>1</td>\n",
              "      <td>2</td>\n",
              "      <td>0</td>\n",
              "      <td>0</td>\n",
              "      <td>0</td>\n",
              "      <td>0</td>\n",
              "      <td>0</td>\n",
              "      <td>0</td>\n",
              "      <td>...</td>\n",
              "      <td>0</td>\n",
              "      <td>0</td>\n",
              "      <td>0</td>\n",
              "      <td>0</td>\n",
              "      <td>0</td>\n",
              "      <td>0</td>\n",
              "      <td>1</td>\n",
              "      <td>0</td>\n",
              "      <td>0</td>\n",
              "      <td>1</td>\n",
              "    </tr>\n",
              "  </tbody>\n",
              "</table>\n",
              "<p>5 rows × 173 columns</p>\n",
              "</div>\n",
              "    <div class=\"colab-df-buttons\">\n",
              "\n",
              "  <div class=\"colab-df-container\">\n",
              "    <button class=\"colab-df-convert\" onclick=\"convertToInteractive('df-d5ddf9d9-5f4f-42ce-8084-1d8fc53ea6ba')\"\n",
              "            title=\"Convert this dataframe to an interactive table.\"\n",
              "            style=\"display:none;\">\n",
              "\n",
              "  <svg xmlns=\"http://www.w3.org/2000/svg\" height=\"24px\" viewBox=\"0 -960 960 960\">\n",
              "    <path d=\"M120-120v-720h720v720H120Zm60-500h600v-160H180v160Zm220 220h160v-160H400v160Zm0 220h160v-160H400v160ZM180-400h160v-160H180v160Zm440 0h160v-160H620v160ZM180-180h160v-160H180v160Zm440 0h160v-160H620v160Z\"/>\n",
              "  </svg>\n",
              "    </button>\n",
              "\n",
              "  <style>\n",
              "    .colab-df-container {\n",
              "      display:flex;\n",
              "      gap: 12px;\n",
              "    }\n",
              "\n",
              "    .colab-df-convert {\n",
              "      background-color: #E8F0FE;\n",
              "      border: none;\n",
              "      border-radius: 50%;\n",
              "      cursor: pointer;\n",
              "      display: none;\n",
              "      fill: #1967D2;\n",
              "      height: 32px;\n",
              "      padding: 0 0 0 0;\n",
              "      width: 32px;\n",
              "    }\n",
              "\n",
              "    .colab-df-convert:hover {\n",
              "      background-color: #E2EBFA;\n",
              "      box-shadow: 0px 1px 2px rgba(60, 64, 67, 0.3), 0px 1px 3px 1px rgba(60, 64, 67, 0.15);\n",
              "      fill: #174EA6;\n",
              "    }\n",
              "\n",
              "    .colab-df-buttons div {\n",
              "      margin-bottom: 4px;\n",
              "    }\n",
              "\n",
              "    [theme=dark] .colab-df-convert {\n",
              "      background-color: #3B4455;\n",
              "      fill: #D2E3FC;\n",
              "    }\n",
              "\n",
              "    [theme=dark] .colab-df-convert:hover {\n",
              "      background-color: #434B5C;\n",
              "      box-shadow: 0px 1px 3px 1px rgba(0, 0, 0, 0.15);\n",
              "      filter: drop-shadow(0px 1px 2px rgba(0, 0, 0, 0.3));\n",
              "      fill: #FFFFFF;\n",
              "    }\n",
              "  </style>\n",
              "\n",
              "    <script>\n",
              "      const buttonEl =\n",
              "        document.querySelector('#df-d5ddf9d9-5f4f-42ce-8084-1d8fc53ea6ba button.colab-df-convert');\n",
              "      buttonEl.style.display =\n",
              "        google.colab.kernel.accessAllowed ? 'block' : 'none';\n",
              "\n",
              "      async function convertToInteractive(key) {\n",
              "        const element = document.querySelector('#df-d5ddf9d9-5f4f-42ce-8084-1d8fc53ea6ba');\n",
              "        const dataTable =\n",
              "          await google.colab.kernel.invokeFunction('convertToInteractive',\n",
              "                                                    [key], {});\n",
              "        if (!dataTable) return;\n",
              "\n",
              "        const docLinkHtml = 'Like what you see? Visit the ' +\n",
              "          '<a target=\"_blank\" href=https://colab.research.google.com/notebooks/data_table.ipynb>data table notebook</a>'\n",
              "          + ' to learn more about interactive tables.';\n",
              "        element.innerHTML = '';\n",
              "        dataTable['output_type'] = 'display_data';\n",
              "        await google.colab.output.renderOutput(dataTable, element);\n",
              "        const docLink = document.createElement('div');\n",
              "        docLink.innerHTML = docLinkHtml;\n",
              "        element.appendChild(docLink);\n",
              "      }\n",
              "    </script>\n",
              "  </div>\n",
              "\n",
              "\n",
              "<div id=\"df-529cee30-d046-4e3e-9194-82b4b3186746\">\n",
              "  <button class=\"colab-df-quickchart\" onclick=\"quickchart('df-529cee30-d046-4e3e-9194-82b4b3186746')\"\n",
              "            title=\"Suggest charts\"\n",
              "            style=\"display:none;\">\n",
              "\n",
              "<svg xmlns=\"http://www.w3.org/2000/svg\" height=\"24px\"viewBox=\"0 0 24 24\"\n",
              "     width=\"24px\">\n",
              "    <g>\n",
              "        <path d=\"M19 3H5c-1.1 0-2 .9-2 2v14c0 1.1.9 2 2 2h14c1.1 0 2-.9 2-2V5c0-1.1-.9-2-2-2zM9 17H7v-7h2v7zm4 0h-2V7h2v10zm4 0h-2v-4h2v4z\"/>\n",
              "    </g>\n",
              "</svg>\n",
              "  </button>\n",
              "\n",
              "<style>\n",
              "  .colab-df-quickchart {\n",
              "      --bg-color: #E8F0FE;\n",
              "      --fill-color: #1967D2;\n",
              "      --hover-bg-color: #E2EBFA;\n",
              "      --hover-fill-color: #174EA6;\n",
              "      --disabled-fill-color: #AAA;\n",
              "      --disabled-bg-color: #DDD;\n",
              "  }\n",
              "\n",
              "  [theme=dark] .colab-df-quickchart {\n",
              "      --bg-color: #3B4455;\n",
              "      --fill-color: #D2E3FC;\n",
              "      --hover-bg-color: #434B5C;\n",
              "      --hover-fill-color: #FFFFFF;\n",
              "      --disabled-bg-color: #3B4455;\n",
              "      --disabled-fill-color: #666;\n",
              "  }\n",
              "\n",
              "  .colab-df-quickchart {\n",
              "    background-color: var(--bg-color);\n",
              "    border: none;\n",
              "    border-radius: 50%;\n",
              "    cursor: pointer;\n",
              "    display: none;\n",
              "    fill: var(--fill-color);\n",
              "    height: 32px;\n",
              "    padding: 0;\n",
              "    width: 32px;\n",
              "  }\n",
              "\n",
              "  .colab-df-quickchart:hover {\n",
              "    background-color: var(--hover-bg-color);\n",
              "    box-shadow: 0 1px 2px rgba(60, 64, 67, 0.3), 0 1px 3px 1px rgba(60, 64, 67, 0.15);\n",
              "    fill: var(--button-hover-fill-color);\n",
              "  }\n",
              "\n",
              "  .colab-df-quickchart-complete:disabled,\n",
              "  .colab-df-quickchart-complete:disabled:hover {\n",
              "    background-color: var(--disabled-bg-color);\n",
              "    fill: var(--disabled-fill-color);\n",
              "    box-shadow: none;\n",
              "  }\n",
              "\n",
              "  .colab-df-spinner {\n",
              "    border: 2px solid var(--fill-color);\n",
              "    border-color: transparent;\n",
              "    border-bottom-color: var(--fill-color);\n",
              "    animation:\n",
              "      spin 1s steps(1) infinite;\n",
              "  }\n",
              "\n",
              "  @keyframes spin {\n",
              "    0% {\n",
              "      border-color: transparent;\n",
              "      border-bottom-color: var(--fill-color);\n",
              "      border-left-color: var(--fill-color);\n",
              "    }\n",
              "    20% {\n",
              "      border-color: transparent;\n",
              "      border-left-color: var(--fill-color);\n",
              "      border-top-color: var(--fill-color);\n",
              "    }\n",
              "    30% {\n",
              "      border-color: transparent;\n",
              "      border-left-color: var(--fill-color);\n",
              "      border-top-color: var(--fill-color);\n",
              "      border-right-color: var(--fill-color);\n",
              "    }\n",
              "    40% {\n",
              "      border-color: transparent;\n",
              "      border-right-color: var(--fill-color);\n",
              "      border-top-color: var(--fill-color);\n",
              "    }\n",
              "    60% {\n",
              "      border-color: transparent;\n",
              "      border-right-color: var(--fill-color);\n",
              "    }\n",
              "    80% {\n",
              "      border-color: transparent;\n",
              "      border-right-color: var(--fill-color);\n",
              "      border-bottom-color: var(--fill-color);\n",
              "    }\n",
              "    90% {\n",
              "      border-color: transparent;\n",
              "      border-bottom-color: var(--fill-color);\n",
              "    }\n",
              "  }\n",
              "</style>\n",
              "\n",
              "  <script>\n",
              "    async function quickchart(key) {\n",
              "      const quickchartButtonEl =\n",
              "        document.querySelector('#' + key + ' button');\n",
              "      quickchartButtonEl.disabled = true;  // To prevent multiple clicks.\n",
              "      quickchartButtonEl.classList.add('colab-df-spinner');\n",
              "      try {\n",
              "        const charts = await google.colab.kernel.invokeFunction(\n",
              "            'suggestCharts', [key], {});\n",
              "      } catch (error) {\n",
              "        console.error('Error during call to suggestCharts:', error);\n",
              "      }\n",
              "      quickchartButtonEl.classList.remove('colab-df-spinner');\n",
              "      quickchartButtonEl.classList.add('colab-df-quickchart-complete');\n",
              "    }\n",
              "    (() => {\n",
              "      let quickchartButtonEl =\n",
              "        document.querySelector('#df-529cee30-d046-4e3e-9194-82b4b3186746 button');\n",
              "      quickchartButtonEl.style.display =\n",
              "        google.colab.kernel.accessAllowed ? 'block' : 'none';\n",
              "    })();\n",
              "  </script>\n",
              "</div>\n",
              "\n",
              "    </div>\n",
              "  </div>\n"
            ],
            "application/vnd.google.colaboratory.intrinsic+json": {
              "type": "dataframe",
              "variable_name": "df"
            }
          },
          "metadata": {},
          "execution_count": 37
        }
      ],
      "source": [
        "df.head()"
      ]
    },
    {
      "cell_type": "code",
      "execution_count": null,
      "metadata": {
        "id": "K4CMxrPxoj0P"
      },
      "outputs": [],
      "source": [
        "# Split the data into features (X) and target variables (y)\n",
        "X = df.drop(columns=['Label_Attack', 'Label_Normal'])  # Features\n",
        "y = df[['Label_Attack', 'Label_Normal']]  # Target variables"
      ]
    },
    {
      "cell_type": "code",
      "execution_count": null,
      "metadata": {
        "id": "Idm98bTwhG4w"
      },
      "outputs": [],
      "source": [
        "from sklearn.model_selection import train_test_split\n",
        "\n",
        "X_train, X_test, y_train, y_test = train_test_split(X, y, test_size=0.2, random_state=0, stratify=y)\n",
        "X_train, X_val, y_train, y_val = train_test_split(X_train, y_train, test_size=0.2, random_state=0, stratify=y_train)"
      ]
    },
    {
      "cell_type": "code",
      "execution_count": null,
      "metadata": {
        "colab": {
          "base_uri": "https://localhost:8080/"
        },
        "id": "hXaypA4SON6M",
        "outputId": "623c8d6e-ccca-403e-b6c7-eeec8bc79b99"
      },
      "outputs": [
        {
          "output_type": "stream",
          "name": "stdout",
          "text": [
            "(1325860, 171)\n",
            "(414332, 171)\n",
            "(1325860, 2)\n",
            "(414332, 2)\n"
          ]
        }
      ],
      "source": [
        "print(X_train.shape)\n",
        "print(X_test.shape)\n",
        "print(y_train.shape)\n",
        "print(y_test.shape)"
      ]
    },
    {
      "cell_type": "code",
      "execution_count": null,
      "metadata": {
        "id": "ToFSRH6Ldibr"
      },
      "outputs": [],
      "source": [
        "from sklearn.preprocessing import StandardScaler\n",
        "\n",
        "# Initialize the StandardScaler\n",
        "scaler = StandardScaler()\n",
        "\n",
        "# Fit the scaler on the training data and transform it\n",
        "X_train_normalized = scaler.fit_transform(X_train)\n",
        "\n",
        "# Transform the test data using the same scaler\n",
        "X_test_normalized = scaler.transform(X_test)\n",
        "\n",
        "X_val_normalized = scaler.transform(X_val)"
      ]
    },
    {
      "cell_type": "code",
      "execution_count": null,
      "metadata": {
        "colab": {
          "base_uri": "https://localhost:8080/"
        },
        "id": "KXv31mLiVts7",
        "outputId": "880b4f53-46cd-4dfd-b98c-9821484cbbd4"
      },
      "outputs": [
        {
          "output_type": "stream",
          "name": "stderr",
          "text": [
            "/usr/local/lib/python3.10/dist-packages/joblib/externals/loky/process_executor.py:752: UserWarning: A worker stopped while some jobs were given to the executor. This can be caused by a too short worker timeout or by a memory leak.\n",
            "  warnings.warn(\n"
          ]
        },
        {
          "output_type": "stream",
          "name": "stdout",
          "text": [
            "Best Parameters: {'criterion': 'entropy', 'max_depth': None, 'n_estimators': 100}\n"
          ]
        }
      ],
      "source": [
        "from sklearn.ensemble import RandomForestClassifier\n",
        "from sklearn.model_selection import GridSearchCV\n",
        "\n",
        "# Define the parameter grid for grid search\n",
        "param_grid = {\n",
        "    'n_estimators': [50, 100, 150],\n",
        "    'max_depth': [3, 5, 7, None],\n",
        "    'criterion': ['entropy', 'gini']\n",
        "}\n",
        "# Create a Random Forest classifier\n",
        "rf = RandomForestClassifier(oob_score=True, class_weight='balanced', random_state=1, n_jobs=-1)\n",
        "\n",
        "# Create GridSearchCV\n",
        "grid_search = GridSearchCV(estimator=rf, param_grid=param_grid, cv=5, scoring='accuracy', n_jobs=-1)\n",
        "\n",
        "# Fit the data to perform grid search\n",
        "grid_search.fit(X_train_normalized, y_train)\n",
        "\n",
        "# Get the best parameters and the best score\n",
        "best_params = grid_search.best_params_\n",
        "best_score = grid_search.best_score_\n",
        "\n",
        "# Print the best parameters\n",
        "print(\"Best Parameters:\", best_params)\n",
        "\n",
        "# Create the final Random Forest classifier using the best parameters\n",
        "rf_final = RandomForestClassifier(n_estimators=best_params['n_estimators'],\n",
        "                                   max_depth=best_params['max_depth'],\n",
        "                                   criterion=best_params['criterion'],\n",
        "                                   oob_score=True,\n",
        "                                   class_weight='balanced',\n",
        "                                   random_state=1,\n",
        "                                   n_jobs=-1)"
      ]
    },
    {
      "cell_type": "code",
      "execution_count": null,
      "metadata": {
        "colab": {
          "base_uri": "https://localhost:8080/",
          "height": 92
        },
        "id": "h1h7aBcGo0l6",
        "outputId": "e5da3a39-cfe3-4452-b7cf-f881c6553261"
      },
      "outputs": [
        {
          "output_type": "execute_result",
          "data": {
            "text/plain": [
              "RandomForestClassifier(class_weight='balanced', criterion='entropy', n_jobs=-1,\n",
              "                       oob_score=True, random_state=1)"
            ],
            "text/html": [
              "<style>#sk-container-id-1 {color: black;background-color: white;}#sk-container-id-1 pre{padding: 0;}#sk-container-id-1 div.sk-toggleable {background-color: white;}#sk-container-id-1 label.sk-toggleable__label {cursor: pointer;display: block;width: 100%;margin-bottom: 0;padding: 0.3em;box-sizing: border-box;text-align: center;}#sk-container-id-1 label.sk-toggleable__label-arrow:before {content: \"▸\";float: left;margin-right: 0.25em;color: #696969;}#sk-container-id-1 label.sk-toggleable__label-arrow:hover:before {color: black;}#sk-container-id-1 div.sk-estimator:hover label.sk-toggleable__label-arrow:before {color: black;}#sk-container-id-1 div.sk-toggleable__content {max-height: 0;max-width: 0;overflow: hidden;text-align: left;background-color: #f0f8ff;}#sk-container-id-1 div.sk-toggleable__content pre {margin: 0.2em;color: black;border-radius: 0.25em;background-color: #f0f8ff;}#sk-container-id-1 input.sk-toggleable__control:checked~div.sk-toggleable__content {max-height: 200px;max-width: 100%;overflow: auto;}#sk-container-id-1 input.sk-toggleable__control:checked~label.sk-toggleable__label-arrow:before {content: \"▾\";}#sk-container-id-1 div.sk-estimator input.sk-toggleable__control:checked~label.sk-toggleable__label {background-color: #d4ebff;}#sk-container-id-1 div.sk-label input.sk-toggleable__control:checked~label.sk-toggleable__label {background-color: #d4ebff;}#sk-container-id-1 input.sk-hidden--visually {border: 0;clip: rect(1px 1px 1px 1px);clip: rect(1px, 1px, 1px, 1px);height: 1px;margin: -1px;overflow: hidden;padding: 0;position: absolute;width: 1px;}#sk-container-id-1 div.sk-estimator {font-family: monospace;background-color: #f0f8ff;border: 1px dotted black;border-radius: 0.25em;box-sizing: border-box;margin-bottom: 0.5em;}#sk-container-id-1 div.sk-estimator:hover {background-color: #d4ebff;}#sk-container-id-1 div.sk-parallel-item::after {content: \"\";width: 100%;border-bottom: 1px solid gray;flex-grow: 1;}#sk-container-id-1 div.sk-label:hover label.sk-toggleable__label {background-color: #d4ebff;}#sk-container-id-1 div.sk-serial::before {content: \"\";position: absolute;border-left: 1px solid gray;box-sizing: border-box;top: 0;bottom: 0;left: 50%;z-index: 0;}#sk-container-id-1 div.sk-serial {display: flex;flex-direction: column;align-items: center;background-color: white;padding-right: 0.2em;padding-left: 0.2em;position: relative;}#sk-container-id-1 div.sk-item {position: relative;z-index: 1;}#sk-container-id-1 div.sk-parallel {display: flex;align-items: stretch;justify-content: center;background-color: white;position: relative;}#sk-container-id-1 div.sk-item::before, #sk-container-id-1 div.sk-parallel-item::before {content: \"\";position: absolute;border-left: 1px solid gray;box-sizing: border-box;top: 0;bottom: 0;left: 50%;z-index: -1;}#sk-container-id-1 div.sk-parallel-item {display: flex;flex-direction: column;z-index: 1;position: relative;background-color: white;}#sk-container-id-1 div.sk-parallel-item:first-child::after {align-self: flex-end;width: 50%;}#sk-container-id-1 div.sk-parallel-item:last-child::after {align-self: flex-start;width: 50%;}#sk-container-id-1 div.sk-parallel-item:only-child::after {width: 0;}#sk-container-id-1 div.sk-dashed-wrapped {border: 1px dashed gray;margin: 0 0.4em 0.5em 0.4em;box-sizing: border-box;padding-bottom: 0.4em;background-color: white;}#sk-container-id-1 div.sk-label label {font-family: monospace;font-weight: bold;display: inline-block;line-height: 1.2em;}#sk-container-id-1 div.sk-label-container {text-align: center;}#sk-container-id-1 div.sk-container {/* jupyter's `normalize.less` sets `[hidden] { display: none; }` but bootstrap.min.css set `[hidden] { display: none !important; }` so we also need the `!important` here to be able to override the default hidden behavior on the sphinx rendered scikit-learn.org. See: https://github.com/scikit-learn/scikit-learn/issues/21755 */display: inline-block !important;position: relative;}#sk-container-id-1 div.sk-text-repr-fallback {display: none;}</style><div id=\"sk-container-id-1\" class=\"sk-top-container\"><div class=\"sk-text-repr-fallback\"><pre>RandomForestClassifier(class_weight=&#x27;balanced&#x27;, criterion=&#x27;entropy&#x27;, n_jobs=-1,\n",
              "                       oob_score=True, random_state=1)</pre><b>In a Jupyter environment, please rerun this cell to show the HTML representation or trust the notebook. <br />On GitHub, the HTML representation is unable to render, please try loading this page with nbviewer.org.</b></div><div class=\"sk-container\" hidden><div class=\"sk-item\"><div class=\"sk-estimator sk-toggleable\"><input class=\"sk-toggleable__control sk-hidden--visually\" id=\"sk-estimator-id-1\" type=\"checkbox\" checked><label for=\"sk-estimator-id-1\" class=\"sk-toggleable__label sk-toggleable__label-arrow\">RandomForestClassifier</label><div class=\"sk-toggleable__content\"><pre>RandomForestClassifier(class_weight=&#x27;balanced&#x27;, criterion=&#x27;entropy&#x27;, n_jobs=-1,\n",
              "                       oob_score=True, random_state=1)</pre></div></div></div></div></div>"
            ]
          },
          "metadata": {},
          "execution_count": 43
        }
      ],
      "source": [
        "#Fitting the model\n",
        "rf_final.fit(X_train_normalized, y_train)"
      ]
    },
    {
      "cell_type": "code",
      "execution_count": null,
      "metadata": {
        "id": "aF4m15FF16HP"
      },
      "outputs": [],
      "source": [
        "# Predicting on the validation set\n",
        "y_val_pred = rf_final.predict(X_val_normalized)"
      ]
    },
    {
      "cell_type": "code",
      "source": [
        "import time\n",
        "\n",
        "# Start time\n",
        "start_time = time.time()\n",
        "\n",
        "# Make predictions\n",
        "y_pred = rf_final.predict(X_test_normalized)\n",
        "\n",
        "# End time\n",
        "end_time = time.time()\n",
        "\n",
        "# Calculate execution time\n",
        "execution_time = end_time - start_time\n",
        "\n",
        "print(\"Time taken for predicting:\", execution_time, \"seconds\")"
      ],
      "metadata": {
        "colab": {
          "base_uri": "https://localhost:8080/"
        },
        "id": "cxEQSWV_d7B4",
        "outputId": "e80a61c7-679f-4232-d03b-adca91117398"
      },
      "execution_count": null,
      "outputs": [
        {
          "output_type": "stream",
          "name": "stdout",
          "text": [
            "Time taken for predicting: 1.6875481605529785 seconds\n"
          ]
        }
      ]
    },
    {
      "cell_type": "code",
      "source": [
        "import time\n",
        "\n",
        "# Define the number of data points you want to test\n",
        "num_data_points = [1, 50, 100, 500,5000]\n",
        "\n",
        "for num_points in num_data_points:\n",
        "    # Take a subset of X_test_normalized with the specified number of data points\n",
        "    X_subset = X_test_normalized[:num_points]\n",
        "\n",
        "    # Start time\n",
        "    start_time = time.time()\n",
        "\n",
        "    # Make predictions\n",
        "    y_pred = rf_final.predict(X_subset)\n",
        "\n",
        "    # End time\n",
        "    end_time = time.time()\n",
        "\n",
        "    # Calculate execution time\n",
        "    execution_time = end_time - start_time\n",
        "\n",
        "    print(\"Time taken for predicting\", num_points, \"data points:\", execution_time, \"seconds\")"
      ],
      "metadata": {
        "colab": {
          "base_uri": "https://localhost:8080/"
        },
        "id": "nHGM5T-YeCOw",
        "outputId": "d5881bae-283c-4f25-f80e-a8a4ee1a255f"
      },
      "execution_count": null,
      "outputs": [
        {
          "output_type": "stream",
          "name": "stdout",
          "text": [
            "Time taken for predicting 1 data points: 0.030667781829833984 seconds\n",
            "Time taken for predicting 50 data points: 0.029325008392333984 seconds\n",
            "Time taken for predicting 100 data points: 0.03906106948852539 seconds\n",
            "Time taken for predicting 500 data points: 0.0569758415222168 seconds\n",
            "Time taken for predicting 5000 data points: 0.0672459602355957 seconds\n"
          ]
        }
      ]
    },
    {
      "cell_type": "code",
      "execution_count": null,
      "metadata": {
        "colab": {
          "base_uri": "https://localhost:8080/"
        },
        "id": "RBHKPf_k2B9u",
        "outputId": "d6a586f0-e3cc-490c-e81c-3f0fd786abc2"
      },
      "outputs": [
        {
          "output_type": "stream",
          "name": "stdout",
          "text": [
            "Validation Accuracy: 0.9910548625043368\n",
            "Test Accuracy: 0.991417510595368\n"
          ]
        }
      ],
      "source": [
        "from sklearn.metrics import accuracy_score\n",
        "# Calculating accuracy on the validation set\n",
        "validation_accuracy = accuracy_score(y_val, y_val_pred)\n",
        "print(\"Validation Accuracy:\", validation_accuracy)\n",
        "\n",
        "# Once you're satisfied with the model performance on the validation set, you can evaluate it on the test set\n",
        "y_pred = rf_final.predict(X_test_normalized)\n",
        "test_accuracy = accuracy_score(y_test, y_pred)\n",
        "print(\"Test Accuracy:\", test_accuracy)"
      ]
    },
    {
      "cell_type": "code",
      "execution_count": null,
      "metadata": {
        "colab": {
          "base_uri": "https://localhost:8080/"
        },
        "id": "SvvfMusMpP_V",
        "outputId": "4aa24480-0d33-493f-d247-dc1c7a6322c5"
      },
      "outputs": [
        {
          "output_type": "stream",
          "name": "stdout",
          "text": [
            "Accuracy Score  0.991417510595368\n",
            "Mean Absolute Error 0.008578869119450102\n",
            "Mean Squared Error: 0.008578869119450102\n",
            "Root Mean Squared value:  0.09262218481254965\n",
            "R2 Score value: 0.7332\n"
          ]
        }
      ],
      "source": [
        "# Evaluating the model using mean squared error, mean absolute error, r2_score, and root mean squared error.\n",
        "import numpy as np\n",
        "from sklearn import metrics\n",
        "from sklearn.metrics import mean_absolute_error\n",
        "from sklearn.metrics import mean_squared_error as mse\n",
        "from sklearn.metrics import r2_score\n",
        "from sklearn.metrics import accuracy_score\n",
        "from sklearn import metrics\n",
        "from sklearn.metrics import f1_score\n",
        "from sklearn.metrics import r2_score\n",
        "print(\"Accuracy Score \",metrics.accuracy_score(y_test,y_pred))\n",
        "mae = mean_absolute_error(y_test, y_pred)\n",
        "print('Mean Absolute Error',mae)\n",
        "mse = mse(y_test, y_pred)\n",
        "print(\"Mean Squared Error:\", mse)\n",
        "rmse = np.sqrt(mse)\n",
        "print('Root Mean Squared value: ',rmse)\n",
        "print (\"R2 Score value: {:.4f}\".format(r2_score(y_test, y_pred)))"
      ]
    },
    {
      "cell_type": "code",
      "execution_count": null,
      "metadata": {
        "colab": {
          "base_uri": "https://localhost:8080/"
        },
        "id": "xW33XjfCdEuy",
        "outputId": "1f6bf26d-ef07-4efa-c9a0-06b0568e9391"
      },
      "outputs": [
        {
          "output_type": "stream",
          "name": "stdout",
          "text": [
            "Precision: 0.993020966757565\n",
            "Recall: 0.991417510595368\n",
            "F1 Score: 0.9918621869985752\n",
            "ROC-AUC Score: 0.9911823629046351\n"
          ]
        }
      ],
      "source": [
        "from sklearn.metrics import precision_score, recall_score, f1_score, roc_auc_score\n",
        "\n",
        "# Assuming rf_final.predict(X_test) gives the predictions\n",
        "y_pred = rf_final.predict(X_test_normalized)\n",
        "\n",
        "precision = precision_score(y_test, y_pred, average='weighted')\n",
        "recall = recall_score(y_test, y_pred, average='weighted')\n",
        "f1 = f1_score(y_test, y_pred, average='weighted')\n",
        "roc_auc = roc_auc_score(y_test, y_pred, average='weighted', multi_class='ovr')\n",
        "\n",
        "print(\"Precision:\", precision)\n",
        "print(\"Recall:\", recall)\n",
        "print(\"F1 Score:\", f1)\n",
        "print(\"ROC-AUC Score:\", roc_auc)"
      ]
    },
    {
      "cell_type": "code",
      "execution_count": null,
      "metadata": {
        "colab": {
          "base_uri": "https://localhost:8080/"
        },
        "id": "n6TJ5T1Lpc-1",
        "outputId": "378c0ecc-b8dd-4e2e-be06-e40cbfe1d5d5"
      },
      "outputs": [
        {
          "output_type": "stream",
          "name": "stdout",
          "text": [
            "              precision    recall  f1-score   support\n",
            "\n",
            "           0       0.80      0.99      0.88     13782\n",
            "           1       1.00      0.99      1.00    400550\n",
            "\n",
            "   micro avg       0.99      0.99      0.99    414332\n",
            "   macro avg       0.90      0.99      0.94    414332\n",
            "weighted avg       0.99      0.99      0.99    414332\n",
            " samples avg       0.99      0.99      0.99    414332\n",
            "\n"
          ]
        },
        {
          "output_type": "stream",
          "name": "stderr",
          "text": [
            "/usr/local/lib/python3.10/dist-packages/sklearn/metrics/_classification.py:1344: UndefinedMetricWarning: Precision and F-score are ill-defined and being set to 0.0 in samples with no predicted labels. Use `zero_division` parameter to control this behavior.\n",
            "  _warn_prf(average, modifier, msg_start, len(result))\n"
          ]
        }
      ],
      "source": [
        "#Classification Report for the results\n",
        "from sklearn.metrics import classification_report\n",
        "print(classification_report (y_test,y_pred))"
      ]
    },
    {
      "cell_type": "code",
      "execution_count": null,
      "metadata": {
        "colab": {
          "base_uri": "https://localhost:8080/"
        },
        "id": "AIZOO4Gjpiyj",
        "outputId": "33cbc131-1f8b-43bb-d6ab-85bbcc81b424"
      },
      "outputs": [
        {
          "output_type": "stream",
          "name": "stdout",
          "text": [
            "OOB error estimate:  0.008226358740741846\n"
          ]
        }
      ],
      "source": [
        "# Print the OOB error estimate to check for overfitting during the training\n",
        "print(\"OOB error estimate: \", 1 - rf_final.oob_score_)"
      ]
    },
    {
      "cell_type": "code",
      "execution_count": null,
      "metadata": {
        "id": "OMfgZQcUp7Pd"
      },
      "outputs": [],
      "source": [
        "# # Generating the Confusion Matrix\n",
        "# from sklearn.metrics import confusion_matrix\n",
        "# cm = confusion_matrix(y_test, y_pred)\n",
        "# print('Confusion matrix: ', cm)"
      ]
    },
    {
      "cell_type": "code",
      "execution_count": null,
      "metadata": {
        "colab": {
          "base_uri": "https://localhost:8080/"
        },
        "id": "hJ36i_Ys2jiU",
        "outputId": "191fc963-dee7-4599-da6b-f36b286bb821"
      },
      "outputs": [
        {
          "output_type": "stream",
          "name": "stdout",
          "text": [
            "Confusion Matrix for Label_Normal:\n",
            "[[397122   3428]\n",
            " [   127  13655]]\n",
            "\n",
            "Confusion Matrix for Label_Attack:\n",
            "[[ 13657    125]\n",
            " [  3429 397121]]\n"
          ]
        }
      ],
      "source": [
        "from sklearn.metrics import confusion_matrix\n",
        "\n",
        "# Compute the confusion matrix for Label_Attack\n",
        "conf_matrix_attack = confusion_matrix(y_test['Label_Attack'], y_pred[:, 0])\n",
        "\n",
        "# Compute the confusion matrix for Label_Normal\n",
        "conf_matrix_normal = confusion_matrix(y_test['Label_Normal'], y_pred[:, 1])\n",
        "\n",
        "# Print the confusion matrices\n",
        "print(\"Confusion Matrix for Label_Normal:\")\n",
        "print(conf_matrix_attack)\n",
        "print(\"\\nConfusion Matrix for Label_Attack:\")\n",
        "print(conf_matrix_normal)"
      ]
    },
    {
      "cell_type": "code",
      "execution_count": null,
      "metadata": {
        "colab": {
          "base_uri": "https://localhost:8080/",
          "height": 564
        },
        "id": "PK7Bru9spr-q",
        "outputId": "10b1832f-474d-4abe-e83a-b51c308304d8"
      },
      "outputs": [
        {
          "output_type": "display_data",
          "data": {
            "text/plain": [
              "<Figure size 800x600 with 2 Axes>"
            ],
            "image/png": "[encoded data removed]"
          },
          "metadata": {}
        }
      ],
      "source": [
        "import seaborn as sns\n",
        "import matplotlib.pyplot as plt\n",
        "\n",
        "# Create a combined confusion matrix\n",
        "conf_matrix_combined = np.array([[13657, 125], [3429, 397121]])\n",
        "\n",
        "# Plot the combined confusion matrix\n",
        "plt.figure(figsize=(8, 6))\n",
        "sns.heatmap(conf_matrix_combined, annot=True, cmap='YlGnBu', fmt='d', cbar=True, xticklabels=['Label_Attack', 'Label_Normal'], yticklabels=['Label_Attack', 'Label_Normal'])\n",
        "plt.title('Confusion Matrix')\n",
        "plt.xlabel('Predicted Class')\n",
        "plt.ylabel('True Class')\n",
        "plt.show()"
      ]
    },
    {
      "cell_type": "code",
      "execution_count": null,
      "metadata": {
        "colab": {
          "base_uri": "https://localhost:8080/"
        },
        "id": "RfDI2uOWwgc3",
        "outputId": "92dd60aa-16c0-4cde-f2b0-933d9d2ba663"
      },
      "outputs": [
        {
          "output_type": "stream",
          "name": "stdout",
          "text": [
            "Cross-validation scores: [0.98881091 0.99088654 0.98768135 0.99632661 0.89169529]\n",
            "Mean cross-validation accuracy: 0.9710801365587219\n",
            "Standard deviation of cross-validation accuracy: 0.03980354867185638\n"
          ]
        }
      ],
      "source": [
        "from sklearn.model_selection import cross_val_score\n",
        "\n",
        "# Perform K-fold cross-validation\n",
        "cv_scores = cross_val_score(rf, X, y, cv=5, scoring='accuracy')\n",
        "\n",
        "# Print the cross-validation scores\n",
        "print(\"Cross-validation scores:\", cv_scores)\n",
        "\n",
        "# Calculate the mean accuracy of all folds\n",
        "mean_cv_accuracy = np.mean(cv_scores)\n",
        "print(\"Mean cross-validation accuracy:\", mean_cv_accuracy)\n",
        "\n",
        "# Calculate the standard deviation of the cross-validation scores\n",
        "std_cv_accuracy = np.std(cv_scores)\n",
        "print(\"Standard deviation of cross-validation accuracy:\", std_cv_accuracy)"
      ]
    },
    {
      "cell_type": "code",
      "execution_count": null,
      "metadata": {
        "colab": {
          "base_uri": "https://localhost:8080/",
          "height": 392
        },
        "id": "tFtTxFuqw-Fz",
        "outputId": "4ac629d4-7369-425d-8204-8e0bf37409ed"
      },
      "outputs": [
        {
          "output_type": "display_data",
          "data": {
            "text/plain": [
              "<Figure size 1500x600 with 1 Axes>"
            ],
            "image/png": "[encoded data removed]"
          },
          "metadata": {}
        }
      ],
      "source": [
        "import numpy as np\n",
        "import matplotlib.pyplot as plt\n",
        "\n",
        "# Cross-validation scores\n",
        "cv_scores = np.array([0.98881091, 0.99088654, 0.98768135, 0.99632661, 0.89169529])\n",
        "mean_score = np.mean(cv_scores)\n",
        "std_dev = np.std(cv_scores)\n",
        "\n",
        "# Plotting\n",
        "plt.figure(figsize=(15, 6))\n",
        "plt.bar(range(len(cv_scores)), cv_scores, yerr=std_dev, capsize=7, color='skyblue')\n",
        "plt.axhline(y=mean_score, color='red', linestyle='--', label=f'Mean Score: {mean_score:.4f}')\n",
        "plt.xlabel('Cross-Validation Fold')\n",
        "plt.ylabel('Accuracy')\n",
        "plt.title('Cross-Validation Scores')\n",
        "plt.xticks(range(len(cv_scores)), fontsize = 15)\n",
        "plt.ylim(0.80, 1.0)\n",
        "plt.legend()\n",
        "plt.show()"
      ]
    },
    {
      "cell_type": "code",
      "execution_count": null,
      "metadata": {
        "id": "uLHKj4Sd3QWk"
      },
      "outputs": [],
      "source": [
        "# import numpy as np\n",
        "# import matplotlib.pyplot as plt\n",
        "# from sklearn.model_selection import learning_curve\n",
        "\n",
        "# # Define the parameters for the learning curve\n",
        "# train_sizes, train_scores, test_scores = learning_curve(\n",
        "#     estimator=rf_final, X=X, y=y, cv=5, train_sizes=np.linspace(0.1, 1.0, 10), scoring='accuracy', n_jobs=-1)\n",
        "\n",
        "# # Calculate the mean and standard deviation of training and test scores\n",
        "# train_mean = np.mean(train_scores, axis=1)\n",
        "# train_std = np.std(train_scores, axis=1)\n",
        "# test_mean = np.mean(test_scores, axis=1)\n",
        "# test_std = np.std(test_scores, axis=1)\n",
        "\n",
        "# # Plot the learning curve\n",
        "# plt.figure(figsize=(10, 6))\n",
        "# plt.plot(train_sizes, train_mean, color='blue', marker='o', markersize=5, label='Training accuracy')\n",
        "# plt.fill_between(train_sizes, train_mean + train_std, train_mean - train_std, alpha=0.15, color='blue')\n",
        "# plt.plot(train_sizes, test_mean, color='green', linestyle='--', marker='s', markersize=5, label='Validation accuracy')\n",
        "# plt.fill_between(train_sizes, test_mean + test_std, test_mean - test_std, alpha=0.15, color='green')\n",
        "\n",
        "# # Add labels, title, and legend\n",
        "# plt.title('Learning Curve')\n",
        "# plt.xlabel('Number of training examples')\n",
        "# plt.ylabel('Accuracy')\n",
        "# plt.legend(loc='lower right')\n",
        "# plt.grid(True)\n",
        "# plt.show()"
      ]
    },
    {
      "cell_type": "code",
      "execution_count": null,
      "metadata": {
        "id": "w59KShik3r75"
      },
      "outputs": [],
      "source": [
        "# import numpy as np\n",
        "# import matplotlib.pyplot as plt\n",
        "# from sklearn.model_selection import learning_curve\n",
        "\n",
        "# # Define the parameters for the learning curve\n",
        "# train_sizes, train_scores, test_scores = learning_curve(\n",
        "#     estimator=rf, X=X, y=y, cv=5, train_sizes=np.linspace(0.1, 1.0, 10), scoring='neg_mean_squared_error', n_jobs=-1)\n",
        "\n",
        "# # Convert the negative MSE scores to positive\n",
        "# train_scores = -train_scores\n",
        "# test_scores = -test_scores\n",
        "\n",
        "# # Calculate the mean and standard deviation of training and test scores\n",
        "# train_mean = np.mean(train_scores, axis=1)\n",
        "# train_std = np.std(train_scores, axis=1)\n",
        "# test_mean = np.mean(test_scores, axis=1)\n",
        "# test_std = np.std(test_scores, axis=1)\n",
        "\n",
        "# # Plot the learning curve for error\n",
        "# plt.figure(figsize=(10, 6))\n",
        "# plt.plot(train_sizes, train_mean, color='blue', marker='o', markersize=5, label='Training error')\n",
        "# plt.fill_between(train_sizes, train_mean + train_std, train_mean - train_std, alpha=0.15, color='blue')\n",
        "# plt.plot(train_sizes, test_mean, color='green', linestyle='--', marker='s', markersize=5, label='Validation error')\n",
        "# plt.fill_between(train_sizes, test_mean + test_std, test_mean - test_std, alpha=0.15, color='green')\n",
        "\n",
        "# # Add labels, title, and legend\n",
        "# plt.title('Learning Curve')\n",
        "# plt.xlabel('Number of training examples')\n",
        "# plt.ylabel('Error')\n",
        "# plt.legend(loc='upper right')\n",
        "# plt.grid(True)\n",
        "# plt.show()"
      ]
    },
    {
      "cell_type": "code",
      "execution_count": null,
      "metadata": {
        "colab": {
          "base_uri": "https://localhost:8080/"
        },
        "id": "1bSbdB4F5Dfn",
        "outputId": "13b542f7-3c5f-4653-e1fa-13035e3f1290"
      },
      "outputs": [
        {
          "output_type": "stream",
          "name": "stdout",
          "text": [
            "(1325860, 171)\n",
            "(414332, 171)\n",
            "(1325860, 2)\n",
            "(414332, 2)\n"
          ]
        }
      ],
      "source": [
        "print(X_train.shape)\n",
        "print(X_test.shape)\n",
        "print(y_train.shape)\n",
        "print(y_test.shape)"
      ]
    },
    {
      "cell_type": "code",
      "execution_count": null,
      "metadata": {
        "colab": {
          "base_uri": "https://localhost:8080/"
        },
        "id": "fXXm4N102yUq",
        "outputId": "a05fdda6-23aa-4e02-896f-1536694b426b"
      },
      "outputs": [
        {
          "output_type": "stream",
          "name": "stderr",
          "text": [
            "WARNING:tensorflow:Layer lstm will not use cuDNN kernels since it doesn't meet the criteria. It will use a generic GPU kernel as fallback when running on GPU.\n"
          ]
        },
        {
          "output_type": "stream",
          "name": "stdout",
          "text": [
            "Model: \"model\"\n",
            "__________________________________________________________________________________________________\n",
            " Layer (type)                Output Shape                 Param #   Connected to                  \n",
            "==================================================================================================\n",
            " conv1d_input (InputLayer)   [(None, 171, 1)]             0         []                            \n",
            "                                                                                                  \n",
            " conv1d (Conv1D)             (None, 169, 64)              256       ['conv1d_input[0][0]']        \n",
            "                                                                                                  \n",
            " max_pooling1d (MaxPooling1  (None, 84, 64)               0         ['conv1d[0][0]']              \n",
            " D)                                                                                               \n",
            "                                                                                                  \n",
            " lstm_input (InputLayer)     [(None, 171, 1)]             0         []                            \n",
            "                                                                                                  \n",
            " flatten (Flatten)           (None, 5376)                 0         ['max_pooling1d[0][0]']       \n",
            "                                                                                                  \n",
            " lstm (LSTM)                 (None, 50)                   10400     ['lstm_input[0][0]']          \n",
            "                                                                                                  \n",
            " concatenate (Concatenate)   (None, 5426)                 0         ['flatten[0][0]',             \n",
            "                                                                     'lstm[0][0]']                \n",
            "                                                                                                  \n",
            " dense (Dense)               (None, 64)                   347328    ['concatenate[0][0]']         \n",
            "                                                                                                  \n",
            " dense_1 (Dense)             (None, 2)                    130       ['dense[0][0]']               \n",
            "                                                                                                  \n",
            "==================================================================================================\n",
            "Total params: 358114 (1.37 MB)\n",
            "Trainable params: 358114 (1.37 MB)\n",
            "Non-trainable params: 0 (0.00 Byte)\n",
            "__________________________________________________________________________________________________\n"
          ]
        }
      ],
      "source": [
        "import numpy as np\n",
        "from sklearn.model_selection import train_test_split\n",
        "from tensorflow.keras.models import Sequential, Model\n",
        "from tensorflow.keras.layers import Dense, LSTM, Conv1D, MaxPooling1D, Flatten, concatenate\n",
        "from tensorflow.keras.callbacks import EarlyStopping\n",
        "\n",
        "# Reshaping the data for Conv1D layer\n",
        "X_train_cnn = X_train_normalized.reshape((X_train_normalized.shape[0], X_train_normalized.shape[1], 1))\n",
        "X_test_cnn = X_test_normalized.reshape((X_test_normalized.shape[0], X_test_normalized.shape[1], 1))\n",
        "X_val_cnn = X_val_normalized.reshape((X_val_normalized.shape[0], X_val_normalized.shape[1], 1))\n",
        "\n",
        "# 1D CNN model\n",
        "cnn_model = Sequential()\n",
        "cnn_model.add(Conv1D(filters=64, kernel_size=3, activation='relu', input_shape=(X_train_cnn.shape[1], 1)))\n",
        "cnn_model.add(MaxPooling1D(pool_size=2))\n",
        "cnn_model.add(Flatten())\n",
        "\n",
        "# Define LSTM model\n",
        "lstm_model = Sequential()\n",
        "lstm_model.add(LSTM(50, activation='relu', input_shape=(X_train_normalized.shape[1], 1)))\n",
        "\n",
        "# Combine both models\n",
        "combined_model = concatenate([cnn_model.output, lstm_model.output])\n",
        "\n",
        "# Add a fully connected layer\n",
        "combined_model = Dense(64, activation='relu')(combined_model)\n",
        "# Add output layer\n",
        "combined_model = Dense(2, activation='softmax')(combined_model)\n",
        "\n",
        "# Combine models\n",
        "hybrid_model = Model(inputs=[cnn_model.input, lstm_model.input], outputs=combined_model)\n",
        "\n",
        "# Compile the model with additional metrics\n",
        "hybrid_model.compile(optimizer='adam', loss='categorical_crossentropy', metrics=['accuracy', 'precision', 'recall', 'f1_score'])\n",
        "\n",
        "# Print model summary\n",
        "hybrid_model.summary()"
      ]
    },
    {
      "cell_type": "code",
      "execution_count": null,
      "metadata": {
        "colab": {
          "base_uri": "https://localhost:8080/"
        },
        "id": "MrXZGGMT4-RX",
        "outputId": "62b32c29-1279-4f1c-d0c9-cd456d181796"
      },
      "outputs": [
        {
          "output_type": "stream",
          "name": "stdout",
          "text": [
            "Epoch 1/3\n",
            "10359/10359 [==============================] - 1484s 143ms/step - loss: 147840.5312 - accuracy: 0.9952 - val_loss: 0.0152 - val_accuracy: 0.9960\n",
            "Epoch 2/3\n",
            "10359/10359 [==============================] - 1506s 145ms/step - loss: 0.0131 - accuracy: 0.9960 - val_loss: 0.0134 - val_accuracy: 0.9960\n",
            "Epoch 3/3\n",
            "10359/10359 [==============================] - 1491s 144ms/step - loss: 0.0127 - accuracy: 0.9961 - val_loss: 0.0129 - val_accuracy: 0.9960\n",
            "12948/12948 [==============================] - 355s 27ms/step - loss: 0.0122 - accuracy: 0.9962\n"
          ]
        }
      ],
      "source": [
        "from tensorflow.keras.optimizers import Adam\n",
        "\n",
        "# Learning rate\n",
        "learning_rate = 0.001\n",
        "optimizer = Adam(learning_rate=learning_rate)\n",
        "\n",
        "# Compile the model with additional metrics\n",
        "hybrid_model.compile(optimizer=optimizer, loss='categorical_crossentropy', metrics=['accuracy'])\n",
        "\n",
        "# Train the model\n",
        "es = EarlyStopping(monitor='val_loss', patience=5, restore_best_weights=True)\n",
        "history = hybrid_model.fit([X_train_cnn, X_train_normalized], y_train, epochs=3, batch_size=128, validation_data=([X_val_cnn, X_val_normalized], y_val), callbacks=[es])\n",
        "\n",
        "# Evaluate the model\n",
        "loss, accuracy = hybrid_model.evaluate([X_test_cnn, X_test_normalized], y_test)"
      ]
    },
    {
      "cell_type": "code",
      "execution_count": null,
      "metadata": {
        "colab": {
          "base_uri": "https://localhost:8080/"
        },
        "id": "jV1lkPlT5r4h",
        "outputId": "d18ff870-a5fc-420e-9fcd-024a3186414a"
      },
      "outputs": [
        {
          "output_type": "stream",
          "name": "stdout",
          "text": [
            "Loss of the hybrid model: 0.012242020107805729\n",
            "Accuracy of the hybrid model: 0.9961576461791992\n"
          ]
        }
      ],
      "source": [
        "print(\"Loss of the hybrid model:\", loss)\n",
        "print(\"Accuracy of the hybrid model:\", accuracy)"
      ]
    },
    {
      "cell_type": "code",
      "execution_count": null,
      "metadata": {
        "colab": {
          "base_uri": "https://localhost:8080/"
        },
        "id": "y0r9Tu7jH9qE",
        "outputId": "a979afa1-b04b-4109-88e1-581cb883c0a1"
      },
      "outputs": [
        {
          "output_type": "stream",
          "name": "stdout",
          "text": [
            "12948/12948 [==============================] - 370s 29ms/step\n",
            "Accuracy: 0.9962083546527906\n",
            "Precision: 0.9548487380947688\n",
            "Recall: 0.9897716490572814\n",
            "F1 Score: 0.971613458188407\n",
            "ROC AUC Score: 0.9985224284193764\n"
          ]
        }
      ],
      "source": [
        "from sklearn.metrics import accuracy_score, precision_score, recall_score, f1_score\n",
        "from sklearn.metrics import confusion_matrix, roc_auc_score\n",
        "\n",
        "# Predict on test data\n",
        "y_pred = hybrid_model.predict([X_test_cnn, X_test_normalized])\n",
        "y_pred_classes = (y_pred > 0.5).astype(\"int32\")\n",
        "\n",
        "# Convert y_test to numpy array if needed\n",
        "y_test_np = y_test.to_numpy() if isinstance(y_test, pd.DataFrame) else y_test\n",
        "\n",
        "# Compute evaluation metrics\n",
        "accuracy = accuracy_score(y_test_np, y_pred_classes)\n",
        "precision = precision_score(y_test_np, y_pred_classes, average='macro')\n",
        "recall = recall_score(y_test_np, y_pred_classes, average='macro')\n",
        "f1 = f1_score(y_test_np, y_pred_classes, average='macro')\n",
        "roc_auc = roc_auc_score(y_test_np, y_pred)\n",
        "\n",
        "# Print or use the computed metrics\n",
        "print(\"Accuracy:\", accuracy)\n",
        "print(\"Precision:\", precision)\n",
        "print(\"Recall:\", recall)\n",
        "print(\"F1 Score:\", f1)\n",
        "print(\"ROC AUC Score:\", roc_auc)"
      ]
    },
    {
      "cell_type": "code",
      "execution_count": null,
      "metadata": {
        "colab": {
          "base_uri": "https://localhost:8080/"
        },
        "id": "Ztt7bDYtJAPg",
        "outputId": "624ee0a6-5c8e-4ed2-b927-d0f6238697dd"
      },
      "outputs": [
        {
          "output_type": "stream",
          "name": "stdout",
          "text": [
            "Confusion Matrix:\n",
            " [[[399215   1335]\n",
            "  [   236  13546]]\n",
            "\n",
            " [[ 13546    236]\n",
            "  [  1335 399215]]]\n"
          ]
        }
      ],
      "source": [
        "from sklearn.metrics import multilabel_confusion_matrix\n",
        "import numpy as np\n",
        "\n",
        "# Convert y_test to numpy array if needed\n",
        "y_test_np = y_test.to_numpy() if isinstance(y_test, pd.DataFrame) else y_test\n",
        "\n",
        "# Compute multilabel confusion matrix\n",
        "conf_matrix = multilabel_confusion_matrix(y_test_np, y_pred_classes)\n",
        "\n",
        "# Print or use the computed confusion matrix\n",
        "print(\"Confusion Matrix:\\n\", conf_matrix)"
      ]
    },
    {
      "cell_type": "code",
      "execution_count": null,
      "metadata": {
        "colab": {
          "base_uri": "https://localhost:8080/"
        },
        "id": "XjD9aW414LUb",
        "outputId": "e8810780-cdda-49d4-a902-c8ef48790dab"
      },
      "outputs": [
        {
          "output_type": "stream",
          "name": "stdout",
          "text": [
            "Confusion Matrix for Normal:\n",
            " [[399215   1335]\n",
            " [   236  13546]]\n",
            "Confusion Matrix for Attack:\n",
            " [[ 13546    236]\n",
            " [  1335 399215]]\n"
          ]
        }
      ],
      "source": [
        "# Assuming you have a DataFrame with columns 'Normal' and 'Attack' in y_test\n",
        "class_labels = ['Normal', 'Attack']\n",
        "\n",
        "# Compute multilabel confusion matrix\n",
        "conf_matrix = multilabel_confusion_matrix(y_test_np, y_pred_classes)\n",
        "\n",
        "# Print or use the computed confusion matrix with labels\n",
        "for i, label in enumerate(class_labels):\n",
        "    print(f\"Confusion Matrix for {label}:\\n\", conf_matrix[i])"
      ]
    },
    {
      "cell_type": "code",
      "execution_count": null,
      "metadata": {
        "colab": {
          "base_uri": "https://localhost:8080/",
          "height": 564
        },
        "id": "ZCrrHF754Oi6",
        "outputId": "21402869-1c67-4b5e-d1f5-15cd87074247"
      },
      "outputs": [
        {
          "output_type": "display_data",
          "data": {
            "text/plain": [
              "<Figure size 800x600 with 2 Axes>"
            ],
            "image/png": "[encoded data removed]"
          },
          "metadata": {}
        }
      ],
      "source": [
        "import seaborn as sns\n",
        "import matplotlib.pyplot as plt\n",
        "\n",
        "# Create a combined confusion matrix\n",
        "conf_matrix_combined = np.array([[13546, 236], [1335, 399215]])\n",
        "\n",
        "# Plot the combined confusion matrix\n",
        "plt.figure(figsize=(8, 6))\n",
        "sns.heatmap(conf_matrix_combined, annot=True, cmap='YlGnBu', fmt='d', cbar=True, xticklabels=['Label_Attack', 'Label_Normal'], yticklabels=['Label_Attack', 'Label_Normal'])\n",
        "plt.title('Confusion Matrix')\n",
        "plt.xlabel('Predicted Class')\n",
        "plt.ylabel('True Class')\n",
        "plt.show()"
      ]
    },
    {
      "cell_type": "code",
      "source": [
        "import time\n",
        "\n",
        "# Start time\n",
        "start_time = time.time()\n",
        "\n",
        "# Make predictions for all data points\n",
        "y_pred = hybrid_model.predict([X_test_cnn, X_test_normalized])\n",
        "\n",
        "# End time\n",
        "end_time = time.time()\n",
        "\n",
        "# Calculate execution time\n",
        "execution_time = end_time - start_time\n",
        "\n",
        "print(\"Time taken for predicting all data points:\", execution_time, \"seconds\")"
      ],
      "metadata": {
        "colab": {
          "base_uri": "https://localhost:8080/"
        },
        "id": "BZqogTA_-scD",
        "outputId": "8930ab6c-916b-49e1-f755-ef98407b1009"
      },
      "execution_count": null,
      "outputs": [
        {
          "output_type": "stream",
          "name": "stdout",
          "text": [
            "12948/12948 [==============================] - 374s 29ms/step\n",
            "Time taken for predicting all data points: 379.4172613620758 seconds\n"
          ]
        }
      ]
    },
    {
      "cell_type": "code",
      "source": [
        "import time\n",
        "\n",
        "# Define the number of data points you want to test\n",
        "num_data_points = [1, 50, 100, 500, 5000]\n",
        "\n",
        "for num_points in num_data_points:\n",
        "    # Take a subset of X_test_normalized with the specified number of data points\n",
        "    X_subset_normalized = X_test_normalized[:num_points]\n",
        "    X_subset_cnn = X_test_cnn[:num_points]\n",
        "\n",
        "    # Start time\n",
        "    start_time = time.time()\n",
        "\n",
        "    # Make predictions\n",
        "    y_pred = hybrid_model.predict([X_subset_cnn, X_subset_normalized])\n",
        "\n",
        "    # End time\n",
        "    end_time = time.time()\n",
        "\n",
        "    # Calculate execution time\n",
        "    execution_time = end_time - start_time\n",
        "\n",
        "    print(\"Time taken for predicting\", num_points, \"data points:\", execution_time, \"seconds\")"
      ],
      "metadata": {
        "colab": {
          "base_uri": "https://localhost:8080/"
        },
        "id": "WKjEP7SM--OI",
        "outputId": "e221d260-e093-4a01-a93a-34b56fa104be"
      },
      "execution_count": null,
      "outputs": [
        {
          "output_type": "stream",
          "name": "stdout",
          "text": [
            "1/1 [==============================] - 0s 62ms/step\n",
            "Time taken for predicting 1 data points: 0.1097879409790039 seconds\n",
            "2/2 [==============================] - 0s 43ms/step\n",
            "Time taken for predicting 50 data points: 0.14076781272888184 seconds\n",
            "4/4 [==============================] - 0s 37ms/step\n",
            "Time taken for predicting 100 data points: 0.20760583877563477 seconds\n",
            "16/16 [==============================] - 0s 29ms/step\n",
            "Time taken for predicting 500 data points: 0.5418868064880371 seconds\n",
            "157/157 [==============================] - 4s 28ms/step\n",
            "Time taken for predicting 5000 data points: 4.590047597885132 seconds\n"
          ]
        }
      ]
    },
    {
      "cell_type": "code",
      "execution_count": null,
      "metadata": {
        "colab": {
          "base_uri": "https://localhost:8080/"
        },
        "id": "xi8AXE3C4YRW",
        "outputId": "7dbea8bc-6d42-42cd-f93c-c995ca9016e7"
      },
      "outputs": [
        {
          "output_type": "stream",
          "name": "stdout",
          "text": [
            "Model: \"sequential_2\"\n",
            "_________________________________________________________________\n",
            " Layer (type)                Output Shape              Param #   \n",
            "=================================================================\n",
            " lstm_1 (LSTM)               (None, 171, 50)           10400     \n",
            "                                                                 \n",
            " dropout (Dropout)           (None, 171, 50)           0         \n",
            "                                                                 \n",
            " lstm_2 (LSTM)               (None, 171, 50)           20200     \n",
            "                                                                 \n",
            " dropout_1 (Dropout)         (None, 171, 50)           0         \n",
            "                                                                 \n",
            " lstm_3 (LSTM)               (None, 50)                20200     \n",
            "                                                                 \n",
            " dropout_2 (Dropout)         (None, 50)                0         \n",
            "                                                                 \n",
            " dense_2 (Dense)             (None, 2)                 102       \n",
            "                                                                 \n",
            "=================================================================\n",
            "Total params: 50902 (198.84 KB)\n",
            "Trainable params: 50902 (198.84 KB)\n",
            "Non-trainable params: 0 (0.00 Byte)\n",
            "_________________________________________________________________\n"
          ]
        }
      ],
      "source": [
        "from keras.models import Sequential\n",
        "from keras.layers import LSTM, Dense, Dropout\n",
        "\n",
        "# Define the model architecture\n",
        "model = Sequential()\n",
        "\n",
        "# Add the first LSTM layer with dropout\n",
        "model.add(LSTM(units=50, return_sequences=True, input_shape=(X_train_normalized.shape[1], 1)))\n",
        "model.add(Dropout(0.2))\n",
        "\n",
        "# Add the second LSTM layer\n",
        "model.add(LSTM(units=50, return_sequences=True))\n",
        "model.add(Dropout(0.2))\n",
        "\n",
        "# Add the third LSTM layer\n",
        "model.add(LSTM(units=50))\n",
        "model.add(Dropout(0.2))\n",
        "\n",
        "# Add the output layer\n",
        "model.add(Dense(units=2, activation='softmax'))  # Assuming you have 2 classes for classification\n",
        "\n",
        "# Compile the model\n",
        "model.compile(optimizer='adam', loss='categorical_crossentropy', metrics=['accuracy'])\n",
        "\n",
        "# Print the model summary\n",
        "model.summary()"
      ]
    },
    {
      "cell_type": "code",
      "execution_count": null,
      "metadata": {
        "colab": {
          "base_uri": "https://localhost:8080/"
        },
        "id": "JRz4e8p84d99",
        "outputId": "8381235f-beb1-49ab-a9c8-9a5eeab40e08"
      },
      "outputs": [
        {
          "output_type": "stream",
          "name": "stdout",
          "text": [
            "Epoch 1/3\n",
            "10359/10359 [==============================] - 221s 21ms/step - loss: 0.0494 - accuracy: 0.9855 - val_loss: 0.0211 - val_accuracy: 0.9925\n",
            "Epoch 2/3\n",
            "10359/10359 [==============================] - 214s 21ms/step - loss: 0.0220 - accuracy: 0.9919 - val_loss: 0.0211 - val_accuracy: 0.9920\n",
            "Epoch 3/3\n",
            "10359/10359 [==============================] - 216s 21ms/step - loss: 0.0274 - accuracy: 0.9900 - val_loss: 0.0234 - val_accuracy: 0.9911\n",
            "12948/12948 [==============================] - 110s 9ms/step - loss: 0.0231 - accuracy: 0.9913\n"
          ]
        }
      ],
      "source": [
        "from keras.optimizers import Adam\n",
        "from keras.callbacks import EarlyStopping\n",
        "\n",
        "# Learning rate\n",
        "learning_rate = 0.001\n",
        "optimizer = Adam(learning_rate=learning_rate)\n",
        "\n",
        "# Compile the model with additional metrics\n",
        "model.compile(optimizer=optimizer, loss='categorical_crossentropy', metrics=['accuracy'])\n",
        "\n",
        "# Train the model\n",
        "es = EarlyStopping(monitor='val_loss', patience=5, restore_best_weights=True)\n",
        "history = model.fit(X_train_normalized, y_train, epochs=3, batch_size=128, validation_data=(X_val_normalized, y_val), callbacks=[es])\n",
        "\n",
        "# Evaluate the model\n",
        "loss, accuracy = model.evaluate(X_test_normalized, y_test)"
      ]
    },
    {
      "cell_type": "code",
      "execution_count": null,
      "metadata": {
        "colab": {
          "base_uri": "https://localhost:8080/"
        },
        "id": "4yYFRl274hCx",
        "outputId": "30abc930-5c35-483b-fd43-cbc3083196cc"
      },
      "outputs": [
        {
          "output_type": "stream",
          "name": "stdout",
          "text": [
            "Loss of the Stacked LSTM model: 0.02305028587579727\n",
            "Accuracy of the hybrid model: 0.9912703037261963\n"
          ]
        }
      ],
      "source": [
        "print(\"Loss of the Stacked LSTM model:\", loss)\n",
        "print(\"Accuracy of the hybrid model:\", accuracy)"
      ]
    },
    {
      "cell_type": "code",
      "execution_count": null,
      "metadata": {
        "colab": {
          "base_uri": "https://localhost:8080/"
        },
        "id": "22jU7F3L4vAy",
        "outputId": "12171a39-e1de-4bff-b56c-447b20fb02b0"
      },
      "outputs": [
        {
          "output_type": "stream",
          "name": "stdout",
          "text": [
            "12948/12948 [==============================] - 101s 8ms/step\n",
            "Accuracy: 0.991270285664636\n",
            "Precision: 0.9980351268133671\n",
            "Recall: 0.9929247284983148\n",
            "F1 Score: 0.9954733689673599\n",
            "ROC AUC Score: 0.9944229788633576\n"
          ]
        }
      ],
      "source": [
        "from sklearn.metrics import accuracy_score, precision_score, recall_score, f1_score, roc_auc_score\n",
        "\n",
        "# Predict on test data\n",
        "y_pred = model.predict(X_test_normalized)\n",
        "y_pred_classes = np.argmax(y_pred, axis=1)\n",
        "\n",
        "# Convert y_test to numpy array if needed\n",
        "y_test_np = y_test.to_numpy() if isinstance(y_test, pd.DataFrame) else y_test\n",
        "\n",
        "# Convert y_test_np to binary labels\n",
        "y_test_binary = np.argmax(y_test_np, axis=1)\n",
        "\n",
        "# Compute evaluation metrics\n",
        "accuracy = accuracy_score(y_test_binary, y_pred_classes)\n",
        "precision = precision_score(y_test_binary, y_pred_classes)\n",
        "recall = recall_score(y_test_binary, y_pred_classes)\n",
        "f1 = f1_score(y_test_binary, y_pred_classes)\n",
        "roc_auc = roc_auc_score(y_test_np, y_pred, average='macro')\n",
        "\n",
        "# Print or use the computed metrics\n",
        "print(\"Accuracy:\", accuracy)\n",
        "print(\"Precision:\", precision)\n",
        "print(\"Recall:\", recall)\n",
        "print(\"F1 Score:\", f1)\n",
        "print(\"ROC AUC Score:\", roc_auc)"
      ]
    },
    {
      "cell_type": "code",
      "source": [
        "print(\"y_test_np shape:\", y_test_np.shape)\n",
        "print(\"y_pred_classes shape:\", y_pred_classes.shape)\n",
        "print(\"Unique values in y_test_np:\", np.unique(y_test_np))\n",
        "print(\"Unique values in y_pred_classes:\", np.unique(y_pred_classes))"
      ],
      "metadata": {
        "colab": {
          "base_uri": "https://localhost:8080/"
        },
        "id": "R8TaE2FuBgJX",
        "outputId": "26cb97ee-29f3-4a59-df74-b6755a3477cb"
      },
      "execution_count": null,
      "outputs": [
        {
          "output_type": "stream",
          "name": "stdout",
          "text": [
            "y_test_np shape: (414332, 2)\n",
            "y_pred_classes shape: (414332,)\n",
            "Unique values in y_test_np: [0 1]\n",
            "Unique values in y_pred_classes: [0 1]\n"
          ]
        }
      ]
    },
    {
      "cell_type": "code",
      "execution_count": null,
      "metadata": {
        "colab": {
          "base_uri": "https://localhost:8080/"
        },
        "id": "mYgE0vU34zBB",
        "outputId": "02873d89-075f-4acd-fd39-7db401dff857"
      },
      "outputs": [
        {
          "output_type": "stream",
          "name": "stdout",
          "text": [
            "Confusion Matrix:\n",
            " [[[397716   2834]\n",
            "  [   783  12999]]\n",
            "\n",
            " [[ 12999    783]\n",
            "  [  2834 397716]]]\n"
          ]
        }
      ],
      "source": [
        "from sklearn.metrics import multilabel_confusion_matrix\n",
        "import numpy as np\n",
        "\n",
        "y_pred_classes = (y_pred > 0.5).astype(\"int32\")\n",
        "\n",
        "# Convert y_test to numpy array if needed\n",
        "y_test_np = y_test.to_numpy() if isinstance(y_test, pd.DataFrame) else y_test\n",
        "\n",
        "# Compute multilabel confusion matrix\n",
        "conf_matrix = multilabel_confusion_matrix(y_test_np, y_pred_classes)\n",
        "\n",
        "# Print or use the computed confusion matrix\n",
        "print(\"Confusion Matrix:\\n\", conf_matrix)"
      ]
    },
    {
      "cell_type": "code",
      "execution_count": null,
      "metadata": {
        "colab": {
          "base_uri": "https://localhost:8080/"
        },
        "id": "A4_l_MCv4zpt",
        "outputId": "e76ad625-cd7f-44c6-b807-edd1784f5ce6"
      },
      "outputs": [
        {
          "output_type": "stream",
          "name": "stdout",
          "text": [
            "Confusion Matrix for Normal:\n",
            " [[397716   2834]\n",
            " [   783  12999]]\n",
            "Confusion Matrix for Attack:\n",
            " [[ 12999    783]\n",
            " [  2834 397716]]\n"
          ]
        }
      ],
      "source": [
        "# Assuming you have a DataFrame with columns 'Normal' and 'Attack' in y_test\n",
        "class_labels = ['Normal', 'Attack']\n",
        "\n",
        "# Compute multilabel confusion matrix\n",
        "conf_matrix = multilabel_confusion_matrix(y_test_np, y_pred_classes)\n",
        "\n",
        "# Print or use the computed confusion matrix with labels\n",
        "for i, label in enumerate(class_labels):\n",
        "    print(f\"Confusion Matrix for {label}:\\n\", conf_matrix[i])"
      ]
    },
    {
      "cell_type": "code",
      "execution_count": null,
      "metadata": {
        "colab": {
          "base_uri": "https://localhost:8080/",
          "height": 564
        },
        "id": "XA-mmjRq4zq8",
        "outputId": "eb4d7110-c462-4a68-eeef-9ea797737eea"
      },
      "outputs": [
        {
          "output_type": "display_data",
          "data": {
            "text/plain": [
              "<Figure size 800x600 with 2 Axes>"
            ],
            "image/png": "[encoded data removed]"
          },
          "metadata": {}
        }
      ],
      "source": [
        "import seaborn as sns\n",
        "import matplotlib.pyplot as plt\n",
        "\n",
        "# Create a combined confusion matrix\n",
        "conf_matrix_combined = np.array([[12999, 783], [2834, 397716]])\n",
        "\n",
        "# Plot the combined confusion matrix\n",
        "plt.figure(figsize=(8, 6))\n",
        "sns.heatmap(conf_matrix_combined, annot=True, cmap='YlGnBu', fmt='d', cbar=True, xticklabels=['Label_Attack', 'Label_Normal'], yticklabels=['Label_Attack', 'Label_Normal'])\n",
        "plt.title('Confusion Matrix')\n",
        "plt.xlabel('Predicted Class')\n",
        "plt.ylabel('True Class')\n",
        "plt.show()"
      ]
    },
    {
      "cell_type": "code",
      "source": [
        "import time\n",
        "\n",
        "# Start time\n",
        "start_time = time.time()\n",
        "\n",
        "# Make predictions\n",
        "y_pred = model.predict(X_test_normalized)\n",
        "\n",
        "# End time\n",
        "end_time = time.time()\n",
        "\n",
        "# Calculate execution time\n",
        "execution_time = end_time - start_time\n",
        "\n",
        "print(\"Time taken for predicting:\", execution_time, \"seconds\")"
      ],
      "metadata": {
        "colab": {
          "base_uri": "https://localhost:8080/"
        },
        "id": "ZHdyEPhZCVp8",
        "outputId": "dd92fa24-acaa-4b3c-9e17-065b4cd585ce"
      },
      "execution_count": null,
      "outputs": [
        {
          "output_type": "stream",
          "name": "stdout",
          "text": [
            "12948/12948 [==============================] - 102s 8ms/step\n",
            "Time taken for predicting: 108.06426048278809 seconds\n"
          ]
        }
      ]
    },
    {
      "cell_type": "code",
      "source": [
        "import time\n",
        "\n",
        "# Define the number of data points you want to test\n",
        "num_data_points = [1, 50, 100, 500,5000]\n",
        "\n",
        "for num_points in num_data_points:\n",
        "    # Take a subset of X_test_normalized with the specified number of data points\n",
        "    X_subset = X_test_normalized[:num_points]\n",
        "\n",
        "    # Start time\n",
        "    start_time = time.time()\n",
        "\n",
        "    # Make predictions\n",
        "    y_pred = model.predict(X_subset)\n",
        "\n",
        "    # End time\n",
        "    end_time = time.time()\n",
        "\n",
        "    # Calculate execution time\n",
        "    execution_time = end_time - start_time\n",
        "\n",
        "    print(\"Time taken for predicting\", num_points, \"data points:\", execution_time, \"seconds\")"
      ],
      "metadata": {
        "colab": {
          "base_uri": "https://localhost:8080/"
        },
        "id": "DfgJN5Y4CaLx",
        "outputId": "900b30cf-4f16-4bb6-b375-708a3674c9d1"
      },
      "execution_count": null,
      "outputs": [
        {
          "output_type": "stream",
          "name": "stdout",
          "text": [
            "1/1 [==============================] - 0s 27ms/step\n",
            "Time taken for predicting 1 data points: 0.07598996162414551 seconds\n",
            "2/2 [==============================] - 0s 14ms/step\n",
            "Time taken for predicting 50 data points: 0.09488749504089355 seconds\n",
            "4/4 [==============================] - 0s 23ms/step\n",
            "Time taken for predicting 100 data points: 0.14837050437927246 seconds\n",
            "16/16 [==============================] - 0s 14ms/step\n",
            "Time taken for predicting 500 data points: 0.30086612701416016 seconds\n",
            "157/157 [==============================] - 1s 8ms/step\n",
            "Time taken for predicting 5000 data points: 2.6128125190734863 seconds\n"
          ]
        }
      ]
    },
    {
      "cell_type": "code",
      "execution_count": null,
      "metadata": {
        "id": "b3ugEv5zWIUP"
      },
      "outputs": [],
      "source": [
        "# from sklearn.model_selection import KFold\n",
        "# import numpy as np\n",
        "\n",
        "# # Convert y_train to numpy array\n",
        "# y_train_np = y_train.to_numpy()\n",
        "\n",
        "# # Define the number of folds\n",
        "# n_folds = 5\n",
        "\n",
        "# # Initialize lists to store scores\n",
        "# cv_scores = []\n",
        "\n",
        "# # Initialize KFold\n",
        "# kf = KFold(n_splits=n_folds)\n",
        "\n",
        "# # Iterate over the folds\n",
        "# for train_index, val_index in kf.split(X_train_normalized):\n",
        "#     X_train_fold, X_val_fold = X_train_normalized[train_index], X_train_normalized[val_index]\n",
        "#     y_train_fold, y_val_fold = y_train_np[train_index], y_train_np[val_index]\n",
        "\n",
        "#     # Train your model on X_train_fold and y_train_fold\n",
        "#     model.fit(X_train_fold, y_train_fold)\n",
        "\n",
        "#     # Evaluate your model on X_val_fold\n",
        "#     scores = model.evaluate(X_val_fold, y_val_fold)\n",
        "#     cv_scores.append(scores)\n",
        "\n",
        "# # Convert the scores to a numpy array\n",
        "# cv_scores = np.array(cv_scores)\n",
        "\n",
        "# # Print the cross-validation scores\n",
        "# print(\"Cross-validation scores:\", cv_scores)\n",
        "# print(\"Mean CV Accuracy:\", np.mean(cv_scores))\n",
        "# print(\"Standard Deviation of CV Accuracy:\", np.std(cv_scores))"
      ]
    },
    {
      "cell_type": "code",
      "execution_count": null,
      "metadata": {
        "colab": {
          "base_uri": "https://localhost:8080/"
        },
        "id": "Bq9GGlsk46eH",
        "outputId": "033db0dc-c10c-4305-c202-1b14c975127b"
      },
      "outputs": [
        {
          "output_type": "stream",
          "name": "stdout",
          "text": [
            "Model: \"sequential_3\"\n",
            "_________________________________________________________________\n",
            " Layer (type)                Output Shape              Param #   \n",
            "=================================================================\n",
            " conv1d_1 (Conv1D)           (None, 169, 32)           128       \n",
            "                                                                 \n",
            " max_pooling1d_1 (MaxPoolin  (None, 84, 32)            0         \n",
            " g1D)                                                            \n",
            "                                                                 \n",
            " conv1d_2 (Conv1D)           (None, 82, 64)            6208      \n",
            "                                                                 \n",
            " max_pooling1d_2 (MaxPoolin  (None, 41, 64)            0         \n",
            " g1D)                                                            \n",
            "                                                                 \n",
            " flatten_1 (Flatten)         (None, 2624)              0         \n",
            "                                                                 \n",
            " dense_3 (Dense)             (None, 128)               336000    \n",
            "                                                                 \n",
            " dropout_3 (Dropout)         (None, 128)               0         \n",
            "                                                                 \n",
            " dense_4 (Dense)             (None, 2)                 258       \n",
            "                                                                 \n",
            "=================================================================\n",
            "Total params: 342594 (1.31 MB)\n",
            "Trainable params: 342594 (1.31 MB)\n",
            "Non-trainable params: 0 (0.00 Byte)\n",
            "_________________________________________________________________\n"
          ]
        }
      ],
      "source": [
        "import tensorflow as tf\n",
        "from tensorflow.keras.models import Sequential\n",
        "from tensorflow.keras.layers import Conv1D, MaxPooling1D, Flatten, Dense, Dropout\n",
        "\n",
        "num_classes = 2\n",
        "# Reshape the input data to include a channel dimension\n",
        "# Reshape the input test data to include a channel dimension\n",
        "X_test_reshaped = X_test_normalized.reshape(X_test_normalized.shape[0], X_test_normalized.shape[1], 1)\n",
        "X_train_reshaped = X_train_normalized.reshape(X_train_normalized.shape[0], X_train_normalized.shape[1], 1)\n",
        "X_val_reshaped = X_val_normalized.reshape(X_val_normalized.shape[0], X_val_normalized.shape[1], 1)\n",
        "\n",
        "# Define the CNN model\n",
        "model_cnn = Sequential([\n",
        "    Conv1D(filters=32, kernel_size=3, activation='relu', input_shape=(X_train_reshaped.shape[1], 1)),\n",
        "    MaxPooling1D(pool_size=2),\n",
        "    Conv1D(filters=64, kernel_size=3, activation='relu'),\n",
        "    MaxPooling1D(pool_size=2),\n",
        "    Flatten(),\n",
        "    Dense(128, activation='relu'),\n",
        "    Dropout(0.5),  # Optional dropout layer for regularization\n",
        "    Dense(num_classes, activation='softmax')  # Output layer with softmax activation\n",
        "])\n",
        "\n",
        "# Compile the model\n",
        "model_cnn.compile(optimizer='adam',\n",
        "                  loss='categorical_crossentropy',\n",
        "                  metrics=['accuracy'])\n",
        "\n",
        "# Print the model summary\n",
        "model_cnn.summary()"
      ]
    },
    {
      "cell_type": "code",
      "execution_count": null,
      "metadata": {
        "colab": {
          "base_uri": "https://localhost:8080/"
        },
        "id": "na_EzrU25BIe",
        "outputId": "66dc24a4-6c07-4eea-be97-667335fcd735"
      },
      "outputs": [
        {
          "output_type": "stream",
          "name": "stdout",
          "text": [
            "Epoch 1/3\n",
            "41434/41434 [==============================] - 175s 4ms/step - loss: 0.0120 - accuracy: 0.9964 - val_loss: 0.0110 - val_accuracy: 0.9964\n",
            "Epoch 2/3\n",
            "41434/41434 [==============================] - 174s 4ms/step - loss: 0.0122 - accuracy: 0.9965 - val_loss: 0.0117 - val_accuracy: 0.9967\n",
            "Epoch 3/3\n",
            "41434/41434 [==============================] - 174s 4ms/step - loss: 0.0122 - accuracy: 0.9965 - val_loss: 0.0121 - val_accuracy: 0.9966\n",
            "12948/12948 [==============================] - 30s 2ms/step - loss: 0.0110 - accuracy: 0.9967\n"
          ]
        }
      ],
      "source": [
        "from keras.optimizers import Adam\n",
        "from keras.callbacks import EarlyStopping\n",
        "\n",
        "# Learning rate\n",
        "learning_rate = 0.001\n",
        "optimizer = Adam(learning_rate=learning_rate)\n",
        "\n",
        "# Compile the model with additional metrics\n",
        "model_cnn.compile(optimizer=optimizer, loss='categorical_crossentropy', metrics=['accuracy'])\n",
        "\n",
        "# Train the model\n",
        "es = EarlyStopping(monitor='val_loss', patience=5, restore_best_weights=True)\n",
        "history = model_cnn.fit(X_train_reshaped, y_train, epochs=3, batch_size=32, validation_data=(X_val_reshaped, y_val), callbacks=[es])\n",
        "\n",
        "# Evaluate the model\n",
        "loss, accuracy = model_cnn.evaluate(X_test_reshaped, y_test)"
      ]
    },
    {
      "cell_type": "code",
      "execution_count": null,
      "metadata": {
        "colab": {
          "base_uri": "https://localhost:8080/"
        },
        "id": "wFFopoNr5GMe",
        "outputId": "52e6f9d9-4f9b-4ce2-8117-ed9fff294d5a"
      },
      "outputs": [
        {
          "output_type": "stream",
          "name": "stdout",
          "text": [
            "Loss of the 1D CNN model: 0.011042515747249126\n",
            "Accuracy of the hybrid model: 0.996671736240387\n"
          ]
        }
      ],
      "source": [
        "print(\"Loss of the 1D CNN model:\", loss)\n",
        "print(\"Accuracy of the hybrid model:\", accuracy)"
      ]
    },
    {
      "cell_type": "code",
      "execution_count": null,
      "metadata": {
        "colab": {
          "base_uri": "https://localhost:8080/"
        },
        "id": "DnqV5uTg5KWj",
        "outputId": "169876f7-5c58-442b-c4d0-a48abf1894ba"
      },
      "outputs": [
        {
          "output_type": "stream",
          "name": "stdout",
          "text": [
            "12948/12948 [==============================] - 22s 2ms/step\n",
            "Accuracy: 0.9966717511560778\n",
            "Precision: 0.9992820423019675\n",
            "Recall: 0.997273748595681\n",
            "F1 Score: 0.9982768853985092\n",
            "ROC AUC Score: 0.998189720033952\n"
          ]
        }
      ],
      "source": [
        "from sklearn.metrics import accuracy_score, precision_score, recall_score, f1_score, roc_auc_score\n",
        "\n",
        "# Predict on test data\n",
        "y_pred = model_cnn.predict(X_test_reshaped)\n",
        "y_pred_classes = np.argmax(y_pred, axis=1)\n",
        "\n",
        "# Convert y_test to numpy array if needed\n",
        "y_test_np = y_test.to_numpy() if isinstance(y_test, pd.DataFrame) else y_test\n",
        "\n",
        "# Convert y_test_np to binary labels\n",
        "y_test_binary = np.argmax(y_test_np, axis=1)\n",
        "\n",
        "# Compute evaluation metrics\n",
        "accuracy = accuracy_score(y_test_binary, y_pred_classes)\n",
        "precision = precision_score(y_test_binary, y_pred_classes)\n",
        "recall = recall_score(y_test_binary, y_pred_classes)\n",
        "f1 = f1_score(y_test_binary, y_pred_classes)\n",
        "roc_auc = roc_auc_score(y_test_np, y_pred, average='macro')\n",
        "\n",
        "# Print or use the computed metrics\n",
        "print(\"Accuracy:\", accuracy)\n",
        "print(\"Precision:\", precision)\n",
        "print(\"Recall:\", recall)\n",
        "print(\"F1 Score:\", f1)\n",
        "print(\"ROC AUC Score:\", roc_auc)"
      ]
    },
    {
      "cell_type": "code",
      "execution_count": null,
      "metadata": {
        "colab": {
          "base_uri": "https://localhost:8080/"
        },
        "id": "Yr4g0kon5Qvm",
        "outputId": "e7877f52-b056-49ee-f518-105a4edae223"
      },
      "outputs": [
        {
          "output_type": "stream",
          "name": "stdout",
          "text": [
            "12948/12948 [==============================] - 22s 2ms/step\n",
            "Confusion Matrix:\n",
            " [[[399458   1092]\n",
            "  [   287  13495]]\n",
            "\n",
            " [[ 13495    287]\n",
            "  [  1092 399458]]]\n"
          ]
        }
      ],
      "source": [
        "from sklearn.metrics import multilabel_confusion_matrix\n",
        "import numpy as np\n",
        "\n",
        "# Predict on test data\n",
        "y_pred = model_cnn.predict([X_test_reshaped])\n",
        "y_pred_classes = (y_pred > 0.5).astype(\"int32\")\n",
        "\n",
        "# Convert y_test to numpy array if needed\n",
        "y_test_np = y_test.to_numpy() if isinstance(y_test, pd.DataFrame) else y_test\n",
        "\n",
        "# Compute multilabel confusion matrix\n",
        "conf_matrix = multilabel_confusion_matrix(y_test_np, y_pred_classes)\n",
        "\n",
        "# Print or use the computed confusion matrix\n",
        "print(\"Confusion Matrix:\\n\", conf_matrix)"
      ]
    },
    {
      "cell_type": "code",
      "execution_count": null,
      "metadata": {
        "colab": {
          "base_uri": "https://localhost:8080/"
        },
        "id": "-T5YNqw15Ra_",
        "outputId": "d55f082c-0563-4399-d3df-dd580605e986"
      },
      "outputs": [
        {
          "output_type": "stream",
          "name": "stdout",
          "text": [
            "Confusion Matrix for Normal:\n",
            " [[399458   1092]\n",
            " [   287  13495]]\n",
            "Confusion Matrix for Attack:\n",
            " [[ 13495    287]\n",
            " [  1092 399458]]\n"
          ]
        }
      ],
      "source": [
        "# Assuming you have a DataFrame with columns 'Normal' and 'Attack' in y_test\n",
        "class_labels = ['Normal', 'Attack']\n",
        "\n",
        "# Compute multilabel confusion matrix\n",
        "conf_matrix = multilabel_confusion_matrix(y_test_np, y_pred_classes)\n",
        "\n",
        "# Print or use the computed confusion matrix with labels\n",
        "for i, label in enumerate(class_labels):\n",
        "    print(f\"Confusion Matrix for {label}:\\n\", conf_matrix[i])"
      ]
    },
    {
      "cell_type": "code",
      "execution_count": null,
      "metadata": {
        "colab": {
          "base_uri": "https://localhost:8080/",
          "height": 564
        },
        "id": "nnf78v1f5Tlw",
        "outputId": "9362f049-5101-4965-c992-48c3a7e9a9cb"
      },
      "outputs": [
        {
          "output_type": "display_data",
          "data": {
            "text/plain": [
              "<Figure size 800x600 with 2 Axes>"
            ],
            "image/png": "[encoded data removed]"
          },
          "metadata": {}
        }
      ],
      "source": [
        "import seaborn as sns\n",
        "import matplotlib.pyplot as plt\n",
        "\n",
        "# Create a combined confusion matrix\n",
        "conf_matrix_combined = np.array([[13495,287], [1092, 399458]])\n",
        "\n",
        "# Plot the combined confusion matrix\n",
        "plt.figure(figsize=(8, 6))\n",
        "sns.heatmap(conf_matrix_combined, annot=True, cmap='YlGnBu', fmt='d', cbar=True, xticklabels=['Label_Attack', 'Label_Normal'], yticklabels=['Label_Attack', 'Label_Normal'])\n",
        "plt.title('Confusion Matrix')\n",
        "plt.xlabel('Predicted Class')\n",
        "plt.ylabel('True Class')\n",
        "plt.show()"
      ]
    },
    {
      "cell_type": "code",
      "source": [
        "import time\n",
        "\n",
        "# Start time\n",
        "start_time = time.time()\n",
        "\n",
        "# Make predictions for all data points\n",
        "y_pred = model_cnn.predict([X_test_reshaped])\n",
        "\n",
        "# End time\n",
        "end_time = time.time()\n",
        "\n",
        "# Calculate execution time\n",
        "execution_time = end_time - start_time\n",
        "\n",
        "print(\"Time taken for predicting all data points:\", execution_time, \"seconds\")"
      ],
      "metadata": {
        "colab": {
          "base_uri": "https://localhost:8080/"
        },
        "id": "-aHuXasFNXlQ",
        "outputId": "c4e53626-735d-4f74-9b1d-b11f4f5e04ca"
      },
      "execution_count": null,
      "outputs": [
        {
          "output_type": "stream",
          "name": "stdout",
          "text": [
            "12948/12948 [==============================] - 22s 2ms/step\n",
            "Time taken for predicting all data points: 28.392149209976196 seconds\n"
          ]
        }
      ]
    },
    {
      "cell_type": "code",
      "source": [
        "import time\n",
        "\n",
        "# Define the number of data points you want to test\n",
        "num_data_points = [1, 50, 100, 500, 5000]\n",
        "\n",
        "for num_points in num_data_points:\n",
        "    # Take a subset of X_test_normalized with the specified number of data points\n",
        "    X_subset_reshaped= X_test_reshaped[:num_points]\n",
        "\n",
        "    # Start time\n",
        "    start_time = time.time()\n",
        "\n",
        "    # Make predictions\n",
        "    y_pred = model_cnn.predict([X_subset_reshaped])\n",
        "\n",
        "    # End time\n",
        "    end_time = time.time()\n",
        "\n",
        "    # Calculate execution time\n",
        "    execution_time = end_time - start_time\n",
        "\n",
        "    print(\"Time taken for predicting\", num_points, \"data points:\", execution_time, \"seconds\")"
      ],
      "metadata": {
        "colab": {
          "base_uri": "https://localhost:8080/"
        },
        "id": "ruZ3RAdxNxOq",
        "outputId": "a4cef425-c994-4b8e-f070-452e8bf267c0"
      },
      "execution_count": null,
      "outputs": [
        {
          "output_type": "stream",
          "name": "stdout",
          "text": [
            "1/1 [==============================] - 0s 101ms/step\n",
            "Time taken for predicting 1 data points: 0.16172194480895996 seconds\n",
            "2/2 [==============================] - 0s 89ms/step\n",
            "Time taken for predicting 50 data points: 0.17264437675476074 seconds\n",
            "4/4 [==============================] - 0s 3ms/step\n",
            "Time taken for predicting 100 data points: 0.08346772193908691 seconds\n",
            "16/16 [==============================] - 0s 7ms/step\n",
            "Time taken for predicting 500 data points: 0.19874238967895508 seconds\n",
            "157/157 [==============================] - 0s 2ms/step\n",
            "Time taken for predicting 5000 data points: 0.5110456943511963 seconds\n"
          ]
        }
      ]
    },
    {
      "cell_type": "code",
      "source": [
        "#RF\n",
        "Time taken for predicting: 1.6875481605529785 seconds\n",
        "Time taken for predicting 1 data points: 0.030667781829833984 seconds\n",
        "Time taken for predicting 50 data points: 0.029325008392333984 seconds\n",
        "Time taken for predicting 100 data points: 0.03906106948852539 seconds\n",
        "Time taken for predicting 500 data points: 0.0569758415222168 seconds\n",
        "Time taken for predicting 5000 data points: 0.0672459602355957 seconds\n",
        "\n",
        "#Hybrid Model\n",
        "12948/12948 [==============================] - 374s 29ms/step\n",
        "Time taken for predicting all data points: 379.4172613620758 seconds\n",
        "1/1 [==============================] - 0s 62ms/step\n",
        "Time taken for predicting 1 data points: 0.1097879409790039 seconds\n",
        "2/2 [==============================] - 0s 43ms/step\n",
        "Time taken for predicting 50 data points: 0.14076781272888184 seconds\n",
        "4/4 [==============================] - 0s 37ms/step\n",
        "Time taken for predicting 100 data points: 0.20760583877563477 seconds\n",
        "16/16 [==============================] - 0s 29ms/step\n",
        "Time taken for predicting 500 data points: 0.5418868064880371 seconds\n",
        "157/157 [==============================] - 4s 28ms/step\n",
        "Time taken for predicting 5000 data points: 4.590047597885132 seconds\n",
        "\n",
        "#Stacked LSTM\n",
        "12948/12948 [==============================] - 102s 8ms/step\n",
        "Time taken for predicting: 108.06426048278809 seconds\n",
        "1/1 [==============================] - 0s 27ms/step\n",
        "Time taken for predicting 1 data points: 0.07598996162414551 seconds\n",
        "2/2 [==============================] - 0s 14ms/step\n",
        "Time taken for predicting 50 data points: 0.09488749504089355 seconds\n",
        "4/4 [==============================] - 0s 23ms/step\n",
        "Time taken for predicting 100 data points: 0.14837050437927246 seconds\n",
        "16/16 [==============================] - 0s 14ms/step\n",
        "Time taken for predicting 500 data points: 0.30086612701416016 seconds\n",
        "157/157 [==============================] - 1s 8ms/step\n",
        "Time taken for predicting 5000 data points: 2.6128125190734863 seconds\n",
        "\n",
        "#1D CNN\n",
        "12948/12948 [==============================] - 22s 2ms/step\n",
        "Time taken for predicting all data points: 28.392149209976196 seconds\n",
        "1/1 [==============================] - 0s 101ms/step\n",
        "Time taken for predicting 1 data points: 0.16172194480895996 seconds\n",
        "2/2 [==============================] - 0s 89ms/step\n",
        "Time taken for predicting 50 data points: 0.17264437675476074 seconds\n",
        "4/4 [==============================] - 0s 3ms/step\n",
        "Time taken for predicting 100 data points: 0.08346772193908691 seconds\n",
        "16/16 [==============================] - 0s 7ms/step\n",
        "Time taken for predicting 500 data points: 0.19874238967895508 seconds\n",
        "157/157 [==============================] - 0s 2ms/step\n",
        "Time taken for predicting 5000 data points: 0.5110456943511963 seconds"
      ],
      "metadata": {
        "id": "ml-WN23YNSEg"
      },
      "execution_count": null,
      "outputs": []
    },
    {
      "cell_type": "code",
      "execution_count": null,
      "metadata": {
        "id": "8zO93GELWXqv"
      },
      "outputs": [],
      "source": [
        "# from sklearn.model_selection import KFold\n",
        "# import numpy as np\n",
        "\n",
        "# # Convert y_train to numpy array\n",
        "# y_train_np = y_train.to_numpy()\n",
        "\n",
        "# # Define the number of folds\n",
        "# n_folds = 5\n",
        "\n",
        "# # Initialize lists to store scores\n",
        "# cv_scores = []\n",
        "\n",
        "# # Initialize KFold\n",
        "# kf = KFold(n_splits=n_folds)\n",
        "\n",
        "# # Iterate over the folds\n",
        "# for train_index, val_index in kf.split(X_train_normalized):\n",
        "#     X_train_fold, X_val_fold = X_train_normalized[train_index], X_train_normalized[val_index]\n",
        "#     y_train_fold, y_val_fold = y_train_np[train_index], y_train_np[val_index]\n",
        "\n",
        "#     # Reshape X_train_fold and X_val_fold to include the batch dimension\n",
        "#     X_train_fold = X_train_fold.reshape(X_train_fold.shape[0], X_train_fold.shape[1], 1)\n",
        "#     X_val_fold = X_val_fold.reshape(X_val_fold.shape[0], X_val_fold.shape[1], 1)\n",
        "\n",
        "#     # Train your model on X_train_fold and y_train_fold\n",
        "#     model_cnn.fit(X_train_fold, y_train_fold)\n",
        "\n",
        "#     # Evaluate your model on X_val_fold\n",
        "#     scores = model_cnn.evaluate(X_val_fold, y_val_fold)\n",
        "#     cv_scores.append(scores)\n",
        "\n",
        "# # Convert the scores to a numpy array\n",
        "# cv_scores = np.array(cv_scores)\n",
        "\n",
        "# # Print the cross-validation scores\n",
        "# print(\"Cross-validation scores:\", cv_scores)\n",
        "# print(\"Mean CV Accuracy:\", np.mean(cv_scores))\n",
        "# print(\"Standard Deviation of CV Accuracy:\", np.std(cv_scores))"
      ]
    },
    {
      "cell_type": "code",
      "execution_count": null,
      "metadata": {
        "colab": {
          "base_uri": "https://localhost:8080/",
          "height": 584
        },
        "id": "nDSut3Vd5f4E",
        "outputId": "eebe1b49-ebdc-409a-f960-13844572beb0"
      },
      "outputs": [
        {
          "output_type": "display_data",
          "data": {
            "text/plain": [
              "<Figure size 1000x600 with 1 Axes>"
            ],
            "image/png": "[encoded data removed]"
          },
          "metadata": {}
        }
      ],
      "source": [
        "import pandas as pd\n",
        "import matplotlib.pyplot as plt\n",
        "\n",
        "# Define the model names and their corresponding evaluation metrics\n",
        "model_names = ['Random Forest', 'Stacked LSTM', '1D CNN', 'Hybrid Model']\n",
        "\n",
        "# Replace with your actual evaluation scores\n",
        "evaluation_scores = {\n",
        "    'Model': model_names,\n",
        "    'Accuracy': [0.991417510595368, 0.991270285664636, 0.9966717511560778, 0.9962083546527906],\n",
        "    'Precision': [0.993020966757565, 0.9980351268133671, 0.9992820423019675, 0.9548487380947688],\n",
        "    'Recall': [0.991417510595368, 0.9929247284983148, 0.997273748595681, 0.9897716490572814],\n",
        "    'F1 Score': [0.9918621869985752, 0.9954733689673599, 0.9982768853985092, 0.971613458188407],\n",
        "    'ROC-AUC-Score': [0.9911823629046351,  0.9985224284193764, 0.9944229788633576, 0.998189720033952]\n",
        "}\n",
        "\n",
        "# Convert evaluation scores to DataFrame\n",
        "df = pd.DataFrame(evaluation_scores)\n",
        "\n",
        "# Plot parallel coordinates\n",
        "plt.figure(figsize=(10, 6))\n",
        "pd.plotting.parallel_coordinates(df, 'Model', colormap='viridis')\n",
        "plt.title('Parallel Coordinates of Evaluation Metrics Across Models')\n",
        "plt.xlabel('Metrics')\n",
        "plt.ylabel('Score')\n",
        "plt.legend(loc='lower left')\n",
        "plt.show()"
      ]
    },
    {
      "cell_type": "code",
      "source": [
        "import pandas as pd\n",
        "\n",
        "# Define the model names and their corresponding evaluation metrics\n",
        "model_names = ['Random Forest', 'Stacked LSTM', 'CNN', 'Hybrid Model']\n",
        "\n",
        "# Replace with your actual evaluation scores\n",
        "evaluation_scores = {\n",
        "    'Random Forest': {'Accuracy': 0.9914223376422772, 'Precision': 0.9930200919883826, 'Recall': 0.9914223376422772, 'F1 Score': 0.9918643685493335},\n",
        "    'Stacked LSTM': {'Accuracy': 0.9956532442582277, 'Precision': 0.9992237755058605, 'Recall': 0.996277618274872, 'F1 Score': 0.9977485220378565},\n",
        "    '1D CNN': {'Accuracy': 0.9961045731442418, 'Precision': 0.999269122947537, 'Recall': 0.9966995381350643, 'F1 Score': 0.9979826765158049},\n",
        "    'Hybrid Model': {'Accuracy': 0.9961914599886081, 'Precision': 0.9537194753109917, 'Recall': 0.990988993312254, 'F1 Score': 0.9715606291574734}\n",
        "}\n",
        "\n",
        "# Convert evaluation scores to DataFrame\n",
        "df = pd.DataFrame(evaluation_scores).transpose()\n",
        "\n",
        "# Rank each model for each metric\n",
        "ranks = df.rank(ascending=False)\n",
        "\n",
        "# Calculate the average rank for each model\n",
        "average_ranks = ranks.mean(axis=1)\n",
        "\n",
        "# Display the ranks and average ranks\n",
        "print(\"Ranks:\\n\", ranks)\n",
        "print(\"\\nAverage Ranks:\\n\", average_ranks)\n",
        "\n",
        "# Determine the best model based on the lowest average rank\n",
        "best_model = average_ranks.idxmin()\n",
        "print(\"\\nBest Model based on Friedman Rank Index:\", best_model)"
      ],
      "metadata": {
        "colab": {
          "base_uri": "https://localhost:8080/"
        },
        "id": "W7daa5ALb5EQ",
        "outputId": "4bee2a8e-db24-4e2d-ce17-2ae12bc44a52"
      },
      "execution_count": null,
      "outputs": [
        {
          "output_type": "stream",
          "name": "stdout",
          "text": [
            "Ranks:\n",
            "                Accuracy  Precision  Recall  F1 Score\n",
            "Random Forest       4.0        3.0     3.0       3.0\n",
            "Stacked LSTM        3.0        2.0     2.0       2.0\n",
            "CNN                 2.0        1.0     1.0       1.0\n",
            "Hybrid Model        1.0        4.0     4.0       4.0\n",
            "\n",
            "Average Ranks:\n",
            " Random Forest    3.25\n",
            "Stacked LSTM     2.25\n",
            "CNN              1.25\n",
            "Hybrid Model     3.25\n",
            "dtype: float64\n",
            "\n",
            "Best Model based on Friedman Rank Index: CNN\n"
          ]
        }
      ]
    },
    {
      "cell_type": "code",
      "source": [
        "import pandas as pd\n",
        "from scipy.stats import friedmanchisquare\n",
        "from statsmodels.stats.multicomp import pairwise_tukeyhsd\n",
        "import numpy as np\n",
        "\n",
        "# Define the model names and their corresponding evaluation metrics\n",
        "model_names = ['Random Forest', 'Stacked LSTM', '1D CNN', 'Hybrid Model']\n",
        "\n",
        "# Replace with your actual evaluation scores\n",
        "evaluation_scores = {\n",
        "    'Random Forest': {'Accuracy': 0.9914223376422772, 'Precision': 0.9930200919883826, 'Recall': 0.9914223376422772, 'F1 Score': 0.9918643685493335},\n",
        "    'Stacked LSTM': {'Accuracy': 0.9956532442582277, 'Precision': 0.9992237755058605, 'Recall': 0.996277618274872, 'F1 Score': 0.9977485220378565},\n",
        "    '1D CNN': {'Accuracy': 0.9961045731442418, 'Precision': 0.999269122947537, 'Recall': 0.9966995381350643, 'F1 Score': 0.9979826765158049},\n",
        "    'Hybrid Model': {'Accuracy': 0.9961914599886081, 'Precision': 0.9537194753109917, 'Recall': 0.990988993312254, 'F1 Score': 0.9715606291574734}\n",
        "}\n",
        "\n",
        "# Convert evaluation scores to DataFrame\n",
        "df = pd.DataFrame(evaluation_scores).transpose()\n",
        "\n",
        "# Perform Friedman Test\n",
        "_, p_value = friedmanchisquare(df['Accuracy'], df['Precision'], df['Recall'], df['F1 Score'])\n",
        "\n",
        "print(f\"Friedman test p-value: {p_value}\")\n",
        "\n",
        "# If the p-value is significant, perform post-hoc analysis with Tukey's HSD\n",
        "if p_value < 0.05:\n",
        "    # Prepare data for Tukey's HSD\n",
        "    melted_df = df.melt(var_name='Metric', value_name='Score')\n",
        "    melted_df['Model'] = np.repeat(model_names, len(df.columns))\n",
        "\n",
        "    # Perform Tukey's HSD\n",
        "    tukey = pairwise_tukeyhsd(endog=melted_df['Score'], groups=melted_df['Model'], alpha=0.05)\n",
        "    print(tukey)\n",
        "\n",
        "# Rank each model for each metric\n",
        "ranks = df.rank(ascending=False)\n",
        "\n",
        "# Calculate the average rank for each model\n",
        "average_ranks = ranks.mean(axis=1)\n",
        "\n",
        "# Display the ranks and average ranks\n",
        "print(\"\\nRanks:\\n\", ranks)\n",
        "print(\"\\nAverage Ranks:\\n\", average_ranks)\n",
        "\n",
        "# Determine the best model based on the lowest average rank\n",
        "best_model = average_ranks.idxmin()\n",
        "print(\"\\nBest Model based on Average Rank:\", best_model)"
      ],
      "metadata": {
        "colab": {
          "base_uri": "https://localhost:8080/"
        },
        "id": "nStzUwhoFp1H",
        "outputId": "ffccf823-ad65-4e80-f978-202f8bed35a9"
      },
      "execution_count": null,
      "outputs": [
        {
          "output_type": "stream",
          "name": "stdout",
          "text": [
            "Friedman test p-value: 0.4159584201816061\n",
            "\n",
            "Ranks:\n",
            "                Accuracy  Precision  Recall  F1 Score\n",
            "Random Forest       4.0        3.0     3.0       3.0\n",
            "Stacked LSTM        3.0        2.0     2.0       2.0\n",
            "1D CNN              2.0        1.0     1.0       1.0\n",
            "Hybrid Model        1.0        4.0     4.0       4.0\n",
            "\n",
            "Average Ranks:\n",
            " Random Forest    3.25\n",
            "Stacked LSTM     2.25\n",
            "1D CNN           1.25\n",
            "Hybrid Model     3.25\n",
            "dtype: float64\n",
            "\n",
            "Best Model based on Average Rank: 1D CNN\n"
          ]
        }
      ]
    },
    {
      "cell_type": "code",
      "source": [
        "import pandas as pd\n",
        "from scipy.stats import friedmanchisquare\n",
        "\n",
        "# Define the evaluation scores for both datasets\n",
        "data = {\n",
        "    'IMBALANCED': {\n",
        "        'Random Forest': {'Accuracy': 0.991, 'Precision': 0.993, 'Recall': 0.991, 'F1 Score': 0.992, 'ROC-AUC': 0.991},\n",
        "        'Stacked LSTM': {'Accuracy': 0.991, 'Precision': 0.998, 'Recall': 0.993, 'F1 Score': 0.995, 'ROC-AUC': 0.999},\n",
        "        '1D CNN': {'Accuracy': 0.997, 'Precision': 0.999, 'Recall': 0.997, 'F1 Score': 0.998, 'ROC-AUC': 0.994},\n",
        "        'Hybrid Model': {'Accuracy': 0.996, 'Precision': 0.955, 'Recall': 0.990, 'F1 Score': 0.972, 'ROC-AUC': 0.998}\n",
        "    },\n",
        "    'BALANCED': {\n",
        "        'Random Forest': {'Accuracy': 0.984, 'Precision': 0.984, 'Recall': 0.984, 'F1 Score': 0.9844, 'ROC-AUC': 0.984},\n",
        "        'Stacked LSTM': {'Accuracy': 0.982, 'Precision': 0.991, 'Recall': 0.973, 'F1 Score': 0.981, 'ROC-AUC': 0.995},\n",
        "        '1D CNN': {'Accuracy': 0.991, 'Precision': 0.988, 'Recall': 0.995, 'F1 Score': 0.991, 'ROC-AUC': 0.997},\n",
        "        'Hybrid Model': {'Accuracy': 0.994, 'Precision': 0.994, 'Recall': 0.994, 'F1 Score': 0.994, 'ROC-AUC': 0.998}\n",
        "    }\n",
        "}\n",
        "\n",
        "# Convert the evaluation scores to DataFrames for each dataset\n",
        "dfs = {key: pd.DataFrame(value).transpose() for key, value in data.items()}\n",
        "\n",
        "# Rank the models for each metric and dataset\n",
        "ranks = {key: df.rank(ascending=False) for key, df in dfs.items()}\n",
        "\n",
        "# Calculate the average rank for each model\n",
        "average_ranks = {key: rank.mean(axis=1) for key, rank in ranks.items()}\n",
        "\n",
        "# Display the ranks and average ranks for each dataset\n",
        "for key in dfs.keys():\n",
        "    print(f\"\\nDataset: {key}\")\n",
        "    print(\"Ranks:\\n\", ranks[key])\n",
        "    print(\"\\nAverage Ranks:\\n\", average_ranks[key])\n",
        "\n",
        "    # Determine the best model based on the lowest average rank\n",
        "    best_model = average_ranks[key].idxmin()\n",
        "    print(f\"\\nBest Model for {key} based on Average Rank: {best_model}\")\n",
        "\n",
        "# Combine all datasets for the Friedman test\n",
        "combined_data = pd.concat([dfs['IMBALANCED'], dfs['BALANCED']], keys=['IMBALANCED', 'BALANCED'])\n",
        "\n",
        "# Perform Friedman Test\n",
        "stat, p_value = friedmanchisquare(\n",
        "    combined_data.loc[('IMBALANCED', 'Random Forest')],\n",
        "    combined_data.loc[('IMBALANCED', 'Stacked LSTM')],\n",
        "    combined_data.loc[('IMBALANCED', '1D CNN')],\n",
        "    combined_data.loc[('IMBALANCED', 'Hybrid Model')],\n",
        "    combined_data.loc[('BALANCED', 'Random Forest')],\n",
        "    combined_data.loc[('BALANCED', 'Stacked LSTM')],\n",
        "    combined_data.loc[('BALANCED', '1D CNN')],\n",
        "    combined_data.loc[('BALANCED', 'Hybrid Model')]\n",
        ")\n",
        "\n",
        "print(f\"\\nFriedman Test p-value: {p_value}\")\n",
        "\n",
        "# Check if the p-value is significant\n",
        "if p_value < 0.05:\n",
        "    from statsmodels.stats.multicomp import pairwise_tukeyhsd\n",
        "    import numpy as np\n",
        "\n",
        "    # Prepare data for Tukey's HSD\n",
        "    melted_df = combined_data.melt(var_name='Metric', value_name='Score')\n",
        "    melted_df['Model'] = np.tile(combined_data.index.get_level_values(1), len(combined_data.columns))\n",
        "\n",
        "    # Perform Tukey's HSD\n",
        "    tukey = pairwise_tukeyhsd(endog=melted_df['Score'], groups=melted_df['Model'], alpha=0.05)\n",
        "    print(tukey)\n",
        "else:\n",
        "    print(\"No significant differences found with Friedman test.\")"
      ],
      "metadata": {
        "colab": {
          "base_uri": "https://localhost:8080/"
        },
        "id": "QAaBnr1RG7QF",
        "outputId": "2a44ea2a-811f-483f-ee7e-d6b3b7d744dd"
      },
      "execution_count": null,
      "outputs": [
        {
          "output_type": "stream",
          "name": "stdout",
          "text": [
            "\n",
            "Dataset: IMBALANCED\n",
            "Ranks:\n",
            "                Accuracy  Precision  Recall  F1 Score  ROC-AUC\n",
            "Random Forest       3.5        3.0     3.0       3.0      4.0\n",
            "Stacked LSTM        3.5        2.0     2.0       2.0      1.0\n",
            "1D CNN              1.0        1.0     1.0       1.0      3.0\n",
            "Hybrid Model        2.0        4.0     4.0       4.0      2.0\n",
            "\n",
            "Average Ranks:\n",
            " Random Forest    3.3\n",
            "Stacked LSTM     2.1\n",
            "1D CNN           1.4\n",
            "Hybrid Model     3.2\n",
            "dtype: float64\n",
            "\n",
            "Best Model for IMBALANCED based on Average Rank: 1D CNN\n",
            "\n",
            "Dataset: BALANCED\n",
            "Ranks:\n",
            "                Accuracy  Precision  Recall  F1 Score  ROC-AUC\n",
            "Random Forest       3.0        4.0     3.0       3.0      4.0\n",
            "Stacked LSTM        4.0        2.0     4.0       4.0      3.0\n",
            "1D CNN              2.0        3.0     1.0       2.0      2.0\n",
            "Hybrid Model        1.0        1.0     2.0       1.0      1.0\n",
            "\n",
            "Average Ranks:\n",
            " Random Forest    3.4\n",
            "Stacked LSTM     3.4\n",
            "1D CNN           2.0\n",
            "Hybrid Model     1.2\n",
            "dtype: float64\n",
            "\n",
            "Best Model for BALANCED based on Average Rank: Hybrid Model\n",
            "\n",
            "Friedman Test p-value: 0.006459499813528148\n",
            "       Multiple Comparison of Means - Tukey HSD, FWER=0.05       \n",
            "=================================================================\n",
            "    group1        group2    meandiff p-adj   lower  upper  reject\n",
            "-----------------------------------------------------------------\n",
            "       1D CNN  Hybrid Model  -0.0062 0.3839 -0.0165 0.0041  False\n",
            "       1D CNN Random Forest  -0.0069 0.2967 -0.0172 0.0035  False\n",
            "       1D CNN  Stacked LSTM  -0.0049 0.5841 -0.0152 0.0054  False\n",
            " Hybrid Model Random Forest  -0.0007 0.9982  -0.011 0.0097  False\n",
            " Hybrid Model  Stacked LSTM   0.0013 0.9864  -0.009 0.0116  False\n",
            "Random Forest  Stacked LSTM    0.002 0.9561 -0.0084 0.0123  False\n",
            "-----------------------------------------------------------------\n"
          ]
        }
      ]
    },
    {
      "cell_type": "code",
      "source": [
        "import pandas as pd\n",
        "from scipy.stats import friedmanchisquare\n",
        "\n",
        "# Define the evaluation scores for both datasets\n",
        "data = {\n",
        "    'IMBALANCED': {\n",
        "        'Random Forest': {'Accuracy': 0.991, 'Precision': 0.993, 'Recall': 0.991, 'F1 Score': 0.992, 'ROC-AUC': 0.991},\n",
        "        'Stacked LSTM': {'Accuracy': 0.991, 'Precision': 0.998, 'Recall': 0.993, 'F1 Score': 0.995, 'ROC-AUC': 0.999},\n",
        "        '1D CNN': {'Accuracy': 0.997, 'Precision': 0.999, 'Recall': 0.997, 'F1 Score': 0.998, 'ROC-AUC': 0.994},\n",
        "        'Hybrid Model': {'Accuracy': 0.996, 'Precision': 0.955, 'Recall': 0.990, 'F1 Score': 0.972, 'ROC-AUC': 0.998}\n",
        "    },\n",
        "    'BALANCED': {\n",
        "        'Random Forest': {'Accuracy': 0.984, 'Precision': 0.984, 'Recall': 0.984, 'F1 Score': 0.9844, 'ROC-AUC': 0.984},\n",
        "        'Stacked LSTM': {'Accuracy': 0.982, 'Precision': 0.991, 'Recall': 0.973, 'F1 Score': 0.981, 'ROC-AUC': 0.995},\n",
        "        '1D CNN': {'Accuracy': 0.991, 'Precision': 0.988, 'Recall': 0.995, 'F1 Score': 0.991, 'ROC-AUC': 0.997},\n",
        "        'Hybrid Model': {'Accuracy': 0.994, 'Precision': 0.994, 'Recall': 0.994, 'F1 Score': 0.994, 'ROC-AUC': 0.998}\n",
        "    }\n",
        "}\n",
        "\n",
        "# Convert the evaluation scores to DataFrames for each dataset\n",
        "dfs = {key: pd.DataFrame(value).transpose() for key, value in data.items()}\n",
        "\n",
        "# Rank the models for each metric and dataset\n",
        "ranks = {key: df.rank(ascending=False) for key, df in dfs.items()}\n",
        "\n",
        "# Calculate the average rank for each model\n",
        "average_ranks = {key: rank.mean(axis=1) for key, rank in ranks.items()}\n",
        "\n",
        "# Display the ranks and average ranks for each dataset\n",
        "for key in dfs.keys():\n",
        "    print(f\"\\nDataset: {key}\")\n",
        "    print(\"Ranks:\\n\", ranks[key])\n",
        "    print(\"\\nAverage Ranks:\\n\", average_ranks[key])\n",
        "\n",
        "    # Determine the best model based on the lowest average rank\n",
        "    best_model = average_ranks[key].idxmin()\n",
        "    print(f\"\\nBest Model for {key} based on Average Rank: {best_model}\")\n",
        "\n",
        "# Combine all datasets for the Friedman test\n",
        "combined_data = pd.concat([dfs['IMBALANCED'], dfs['BALANCED']], keys=['IMBALANCED', 'BALANCED'])\n",
        "\n",
        "# Perform Friedman Test\n",
        "stat, p_value = friedmanchisquare(\n",
        "    combined_data.loc[('IMBALANCED', 'Random Forest')],\n",
        "    combined_data.loc[('IMBALANCED', 'Stacked LSTM')],\n",
        "    combined_data.loc[('IMBALANCED', '1D CNN')],\n",
        "    combined_data.loc[('IMBALANCED', 'Hybrid Model')],\n",
        "    combined_data.loc[('BALANCED', 'Random Forest')],\n",
        "    combined_data.loc[('BALANCED', 'Stacked LSTM')],\n",
        "    combined_data.loc[('BALANCED', '1D CNN')],\n",
        "    combined_data.loc[('BALANCED', 'Hybrid Model')]\n",
        ")\n",
        "\n",
        "print(f\"\\nFriedman Test p-value: {p_value}\")\n",
        "\n",
        "# Check if the p-value is significant\n",
        "if p_value < 0.05:\n",
        "    from statsmodels.stats.multicomp import pairwise_tukeyhsd\n",
        "    import numpy as np\n",
        "\n",
        "    # Prepare data for Tukey's HSD\n",
        "    melted_df = combined_data.melt(var_name='Metric', value_name='Score')\n",
        "    melted_df['Model'] = np.tile(combined_data.index.get_level_values(1), len(combined_data.columns))\n",
        "\n",
        "    # Perform Tukey's HSD\n",
        "    tukey = pairwise_tukeyhsd(endog=melted_df['Score'], groups=melted_df['Model'], alpha=0.05)\n",
        "    print(tukey)\n",
        "else:\n",
        "    print(\"No significant differences found with Friedman test.\")\n"
      ],
      "metadata": {
        "colab": {
          "base_uri": "https://localhost:8080/"
        },
        "id": "8xmVXzOZHiBC",
        "outputId": "c535d602-c9b3-46c3-d3f6-010d94630f34"
      },
      "execution_count": null,
      "outputs": [
        {
          "output_type": "stream",
          "name": "stdout",
          "text": [
            "\n",
            "Dataset: IMBALANCED\n",
            "Ranks:\n",
            "                Accuracy  Precision  Recall  F1 Score  ROC-AUC\n",
            "Random Forest       3.5        3.0     3.0       3.0      4.0\n",
            "Stacked LSTM        3.5        2.0     2.0       2.0      1.0\n",
            "1D CNN              1.0        1.0     1.0       1.0      3.0\n",
            "Hybrid Model        2.0        4.0     4.0       4.0      2.0\n",
            "\n",
            "Average Ranks:\n",
            " Random Forest    3.3\n",
            "Stacked LSTM     2.1\n",
            "1D CNN           1.4\n",
            "Hybrid Model     3.2\n",
            "dtype: float64\n",
            "\n",
            "Best Model for IMBALANCED based on Average Rank: 1D CNN\n",
            "\n",
            "Dataset: BALANCED\n",
            "Ranks:\n",
            "                Accuracy  Precision  Recall  F1 Score  ROC-AUC\n",
            "Random Forest       3.0        4.0     3.0       3.0      4.0\n",
            "Stacked LSTM        4.0        2.0     4.0       4.0      3.0\n",
            "1D CNN              2.0        3.0     1.0       2.0      2.0\n",
            "Hybrid Model        1.0        1.0     2.0       1.0      1.0\n",
            "\n",
            "Average Ranks:\n",
            " Random Forest    3.4\n",
            "Stacked LSTM     3.4\n",
            "1D CNN           2.0\n",
            "Hybrid Model     1.2\n",
            "dtype: float64\n",
            "\n",
            "Best Model for BALANCED based on Average Rank: Hybrid Model\n",
            "\n",
            "Friedman Test p-value: 0.006459499813528148\n",
            "       Multiple Comparison of Means - Tukey HSD, FWER=0.05       \n",
            "=================================================================\n",
            "    group1        group2    meandiff p-adj   lower  upper  reject\n",
            "-----------------------------------------------------------------\n",
            "       1D CNN  Hybrid Model  -0.0062 0.3839 -0.0165 0.0041  False\n",
            "       1D CNN Random Forest  -0.0069 0.2967 -0.0172 0.0035  False\n",
            "       1D CNN  Stacked LSTM  -0.0049 0.5841 -0.0152 0.0054  False\n",
            " Hybrid Model Random Forest  -0.0007 0.9982  -0.011 0.0097  False\n",
            " Hybrid Model  Stacked LSTM   0.0013 0.9864  -0.009 0.0116  False\n",
            "Random Forest  Stacked LSTM    0.002 0.9561 -0.0084 0.0123  False\n",
            "-----------------------------------------------------------------\n"
          ]
        }
      ]
    },
    {
      "cell_type": "code",
      "source": [
        "import pandas as pd\n",
        "from scipy.stats import friedmanchisquare\n",
        "\n",
        "# Define the dataset for algorithms\n",
        "data_algorithms = {\n",
        "    'Algorithm': ['Random Forest', 'Stacked LSTM', '1D CNN', 'Hybrid Model'],\n",
        "    'Accuracy': [0.991, 0.991, 0.997, 0.996],\n",
        "    'Precision': [0.993, 0.998, 0.999, 0.955],\n",
        "    'Recall': [0.991, 0.993, 0.997, 0.990],\n",
        "    'F1 score': [0.992, 0.995, 0.998, 0.972],\n",
        "    'ROC-AUC': [0.991, 0.999, 0.994, 0.998]\n",
        "}\n",
        "\n",
        "# Create DataFrame\n",
        "df_algorithms = pd.DataFrame(data_algorithms)\n",
        "\n",
        "# Rank the data\n",
        "df_algorithms_ranked = df_algorithms.drop(columns=['Algorithm']).rank(method='average', ascending=False)\n",
        "\n",
        "# Calculate Friedman test statistic for each metric\n",
        "friedman_results_algorithms = {}\n",
        "metrics = df_algorithms_ranked.columns\n",
        "\n",
        "# Collecting the ranks into lists for each metric\n",
        "ranks = [df_algorithms_ranked[metric].values for metric in metrics]\n",
        "\n",
        "# Perform the Friedman test\n",
        "friedman_stat, p_value = friedmanchisquare(*ranks)\n",
        "friedman_results_algorithms['Friedman_statistic'] = friedman_stat\n",
        "friedman_results_algorithms['p_value'] = p_value\n",
        "\n",
        "print(friedman_results_algorithms)"
      ],
      "metadata": {
        "colab": {
          "base_uri": "https://localhost:8080/"
        },
        "id": "8I5N2rZpOaHd",
        "outputId": "0f260eb0-235c-4384-98db-db090779684e"
      },
      "execution_count": null,
      "outputs": [
        {
          "output_type": "stream",
          "name": "stdout",
          "text": [
            "{'Friedman_statistic': 0.2807017543859689, 'p_value': 0.9910256370261784}\n"
          ]
        }
      ]
    },
    {
      "cell_type": "code",
      "source": [
        "import pandas as pd\n",
        "from scipy.stats import friedmanchisquare\n",
        "\n",
        "# Define the evaluation scores for algorithms\n",
        "data = {\n",
        "    'Algorithm': ['Random Forest', 'Stacked LSTM', '1D CNN', 'Hybrid Model'],\n",
        "    'Accuracy': [0.991, 0.991, 0.997, 0.996],\n",
        "    'Precision': [0.993, 0.998, 0.999, 0.955],\n",
        "    'Recall': [0.991, 0.993, 0.997, 0.990],\n",
        "    'F1 score': [0.992, 0.995, 0.998, 0.972],\n",
        "    'ROC-AUC': [0.991, 0.999, 0.994, 0.998]\n",
        "}\n",
        "\n",
        "# Create DataFrame\n",
        "df = pd.DataFrame(data)\n",
        "\n",
        "# Rank the data\n",
        "ranked_df = df.drop(columns=['Algorithm']).rank(method='average', ascending=False)\n",
        "\n",
        "# Prepare data for the Friedman test\n",
        "accuracy = ranked_df['Accuracy'].values\n",
        "precision = ranked_df['Precision'].values\n",
        "recall = ranked_df['Recall'].values\n",
        "f1_score = ranked_df['F1 score'].values\n",
        "roc_auc = ranked_df['ROC-AUC'].values\n",
        "\n",
        "# Perform Friedman test\n",
        "friedman_stat, p_value = friedmanchisquare(accuracy, precision, recall, f1_score, roc_auc)\n",
        "\n",
        "print(\"Friedman Test Statistic:\", friedman_stat)\n",
        "print(\"p-value:\", p_value)\n",
        "\n",
        "# Check if the p-value is significant\n",
        "if p_value < 0.05:\n",
        "    from statsmodels.stats.multicomp import pairwise_tukeyhsd\n",
        "    import numpy as np\n",
        "\n",
        "    # Prepare data for Tukey's HSD\n",
        "    melted_df = ranked_df.melt(var_name='Metric', value_name='Score')\n",
        "    melted_df['Algorithm'] = np.tile(df['Algorithm'], len(ranked_df.columns))\n",
        "\n",
        "    # Perform Tukey's HSD\n",
        "    tukey = pairwise_tukeyhsd(endog=melted_df['Score'], groups=melted_df['Algorithm'], alpha=0.05)\n",
        "    print(tukey)\n",
        "else:\n",
        "    print(\"No significant differences found with the Friedman test.\")\n"
      ],
      "metadata": {
        "colab": {
          "base_uri": "https://localhost:8080/"
        },
        "id": "1vQKeGNsOyg4",
        "outputId": "06125d56-79e9-478c-bb32-99ba9236b13a"
      },
      "execution_count": null,
      "outputs": [
        {
          "output_type": "stream",
          "name": "stdout",
          "text": [
            "Friedman Test Statistic: 0.2807017543859689\n",
            "p-value: 0.9910256370261784\n",
            "No significant differences found with the Friedman test.\n"
          ]
        }
      ]
    },
    {
      "cell_type": "code",
      "source": [
        "import pandas as pd\n",
        "\n",
        "# Define the evaluation scores for algorithms\n",
        "data = {\n",
        "    'Algorithm': ['Random Forest', 'Stacked LSTM', '1D CNN', 'Hybrid Model'],\n",
        "    'Accuracy': [0.991, 0.991, 0.997, 0.996],\n",
        "    'Precision': [0.993, 0.998, 0.999, 0.955],\n",
        "    'Recall': [0.991, 0.993, 0.997, 0.990],\n",
        "    'F1 score': [0.992, 0.995, 0.998, 0.972],\n",
        "    'ROC-AUC': [0.991, 0.999, 0.994, 0.998]\n",
        "}\n",
        "\n",
        "# Create DataFrame\n",
        "df = pd.DataFrame(data)\n",
        "\n",
        "# Rank the data\n",
        "ranked_df = df.drop(columns=['Algorithm']).rank(method='average', ascending=False)\n",
        "ranked_df['Algorithm'] = df['Algorithm']\n",
        "\n",
        "# Calculate the average rank for each algorithm\n",
        "ranked_df['Average Rank'] = ranked_df.drop(columns=['Algorithm']).mean(axis=1)\n",
        "\n",
        "# Sort algorithms by their average rank\n",
        "ranked_df = ranked_df.sort_values(by='Average Rank')\n",
        "\n",
        "# Display the ranks and average ranks\n",
        "print(\"Ranks:\\n\", ranked_df)\n",
        "\n",
        "# Determine the best algorithm based on the lowest average rank\n",
        "best_algorithm = ranked_df.loc[ranked_df['Average Rank'].idxmin(), 'Algorithm']\n",
        "print(f\"\\nBest Algorithm based on Average Rank: {best_algorithm}\")\n"
      ],
      "metadata": {
        "colab": {
          "base_uri": "https://localhost:8080/"
        },
        "id": "GtqWAZ6dPQ8M",
        "outputId": "204c2a31-8539-4aed-9b31-e58f1ed72282"
      },
      "execution_count": null,
      "outputs": [
        {
          "output_type": "stream",
          "name": "stdout",
          "text": [
            "Ranks:\n",
            "    Accuracy  Precision  Recall  F1 score  ROC-AUC      Algorithm  Average Rank\n",
            "2       1.0        1.0     1.0       1.0      3.0         1D CNN           1.4\n",
            "1       3.5        2.0     2.0       2.0      1.0   Stacked LSTM           2.1\n",
            "3       2.0        4.0     4.0       4.0      2.0   Hybrid Model           3.2\n",
            "0       3.5        3.0     3.0       3.0      4.0  Random Forest           3.3\n",
            "\n",
            "Best Algorithm based on Average Rank: 1D CNN\n"
          ]
        }
      ]
    },
    {
      "cell_type": "code",
      "source": [
        "import pandas as pd\n",
        "\n",
        "# Define the evaluation scores for algorithms\n",
        "data = {\n",
        "    'Algorithm': ['Random Forest', 'Stacked LSTM', '1D CNN', 'Hybrid Model'],\n",
        "    'Accuracy': [0.984, 0.982, 0.991, 0.994],\n",
        "    'Precision': [0.984, 0.991, 0.988, 0.994],\n",
        "    'Recall': [0.984, 0.973, 0.995, 0.994],\n",
        "    'F1 score': [0.9844, 0.981, 0.991, 0.994],\n",
        "    'ROC-AUC': [0.984, 0.995, 0.997, 0.998]\n",
        "}\n",
        "\n",
        "# Create DataFrame\n",
        "df = pd.DataFrame(data)\n",
        "\n",
        "# Rank the data\n",
        "ranked_df = df.drop(columns=['Algorithm']).rank(method='average', ascending=False)\n",
        "ranked_df['Algorithm'] = df['Algorithm']\n",
        "\n",
        "# Calculate the average rank for each algorithm\n",
        "ranked_df['Average Rank'] = ranked_df.drop(columns=['Algorithm']).mean(axis=1)\n",
        "\n",
        "# Sort algorithms by their average rank\n",
        "ranked_df = ranked_df.sort_values(by='Average Rank')\n",
        "\n",
        "# Display the ranks and average ranks\n",
        "print(\"Ranks:\\n\", ranked_df)\n",
        "\n",
        "# Determine the best algorithm based on the lowest average rank\n",
        "best_algorithm = ranked_df.loc[ranked_df['Average Rank'].idxmin(), 'Algorithm']\n",
        "print(f\"\\nBest Algorithm based on Average Rank: {best_algorithm}\")"
      ],
      "metadata": {
        "id": "7hYvi6frQFEs",
        "outputId": "80fe81f4-b07b-43b8-920c-726717128ff1",
        "colab": {
          "base_uri": "https://localhost:8080/"
        }
      },
      "execution_count": null,
      "outputs": [
        {
          "output_type": "stream",
          "name": "stdout",
          "text": [
            "Ranks:\n",
            "    Accuracy  Precision  Recall  F1 score  ROC-AUC      Algorithm  Average Rank\n",
            "3       1.0        1.0     2.0       1.0      1.0   Hybrid Model           1.2\n",
            "2       2.0        3.0     1.0       2.0      2.0         1D CNN           2.0\n",
            "1       4.0        2.0     4.0       4.0      3.0   Stacked LSTM           3.4\n",
            "0       3.0        4.0     3.0       3.0      4.0  Random Forest           3.4\n",
            "\n",
            "Best Algorithm based on Average Rank: Hybrid Model\n"
          ]
        }
      ]
    },
    {
      "cell_type": "code",
      "execution_count": null,
      "metadata": {
        "colab": {
          "base_uri": "https://localhost:8080/"
        },
        "id": "DoKsFvzk5iha",
        "outputId": "bb84a4e8-a402-43fc-f0e3-07ab3911a31d"
      },
      "outputs": [
        {
          "name": "stdout",
          "output_type": "stream",
          "text": [
            "       Random Forest  Stacked LSTM       CNN  Hybrid Model\n",
            "count       4.000000      4.000000  4.000000      4.000000\n",
            "mean        0.991932      0.997226  0.997514      0.978115\n",
            "std         0.000755      0.001596  0.001408      0.019413\n",
            "min         0.991422      0.995653  0.996105      0.953719\n",
            "25%         0.991422      0.996122  0.996551      0.967100\n",
            "50%         0.991643      0.997013  0.997341      0.981275\n",
            "75%         0.992153      0.998117  0.998304      0.992290\n",
            "max         0.993020      0.999224  0.999269      0.996191\n"
          ]
        }
      ],
      "source": [
        "import pandas as pd\n",
        "\n",
        "# Define the model names and their corresponding evaluation metrics\n",
        "model_names = ['Random Forest', 'Stacked LSTM', 'CNN', 'Hybrid Model']\n",
        "\n",
        "# Replace with your actual evaluation scores\n",
        "evaluation_scores = {\n",
        "    'Random Forest': {'Accuracy': 0.9914223376422772, 'Precision': 0.9930200919883826, 'Recall': 0.9914223376422772, 'F1 Score': 0.9918643685493335},\n",
        "    'Stacked LSTM': {'Accuracy': 0.9956532442582277, 'Precision': 0.9992237755058605, 'Recall': 0.996277618274872, 'F1 Score': 0.9977485220378565},\n",
        "    'CNN': {'Accuracy': 0.9961045731442418, 'Precision': 0.999269122947537, 'Recall': 0.9966995381350643, 'F1 Score': 0.9979826765158049},\n",
        "    'Hybrid Model': {'Accuracy': 0.9961914599886081, 'Precision': 0.9537194753109917, 'Recall': 0.990988993312254, 'F1 Score': 0.9715606291574734}\n",
        "}\n",
        "\n",
        "# Convert evaluation scores to DataFrame\n",
        "df = pd.DataFrame(evaluation_scores)\n",
        "\n",
        "# Calculate summary statistics\n",
        "summary_statistics = df.describe()\n",
        "\n",
        "print(summary_statistics)"
      ]
    },
    {
      "cell_type": "code",
      "execution_count": null,
      "metadata": {
        "colab": {
          "base_uri": "https://localhost:8080/"
        },
        "id": "EE5ZL0w65nBi",
        "outputId": "cd2d28c5-558b-42e6-fc34-66446ba43139"
      },
      "outputs": [
        {
          "name": "stdout",
          "output_type": "stream",
          "text": [
            "Freedman rank indices:\n",
            "Accuracy: 1.2550404872420218\n",
            "Precision: 1.2589573518643447\n",
            "Recall: 1.2553640392319467\n",
            "F1 Score: 1.2571581194559178\n"
          ]
        }
      ],
      "source": [
        "import numpy as np\n",
        "\n",
        "# Define the model names and their corresponding evaluation metrics\n",
        "model_names = ['Random Forest', 'Stacked LSTM', 'CNN', 'Hybrid Model']\n",
        "\n",
        "# Replace with your actual evaluation scores\n",
        "evaluation_scores = {\n",
        "    'Random Forest': {'Accuracy': 0.9914223376422772, 'Precision': 0.9930200919883826, 'Recall': 0.9914223376422772, 'F1 Score': 0.9918643685493335},\n",
        "    'Stacked LSTM': {'Accuracy': 0.9956532442582277, 'Precision': 0.9992237755058605, 'Recall': 0.996277618274872, 'F1 Score': 0.9977485220378565},\n",
        "    'CNN': {'Accuracy': 0.9961045731442418, 'Precision': 0.999269122947537, 'Recall': 0.9966995381350643, 'F1 Score': 0.9979826765158049},\n",
        "    'Hybrid Model': {'Accuracy': 0.9961914599886081, 'Precision': 0.9537194753109917, 'Recall': 0.990988993312254, 'F1 Score': 0.9715606291574734}\n",
        "}\n",
        "\n",
        "# Calculate Freedman rank index for each metric\n",
        "freedman_indices = {}\n",
        "for metric in evaluation_scores['Random Forest']:\n",
        "    data = [evaluation_scores[model][metric] for model in model_names]\n",
        "    freedman_indices[metric] = 2 * np.percentile(data, 75) / (len(data) ** (1/3))\n",
        "\n",
        "print(\"Freedman rank indices:\")\n",
        "for metric, index in freedman_indices.items():\n",
        "    print(f\"{metric}: {index}\")"
      ]
    },
    {
      "cell_type": "code",
      "execution_count": null,
      "metadata": {
        "colab": {
          "base_uri": "https://localhost:8080/"
        },
        "id": "3AmXILeQ5qux",
        "outputId": "026fd9f5-9244-47cd-d1ef-f481d393f267"
      },
      "outputs": [
        {
          "name": "stdout",
          "output_type": "stream",
          "text": [
            "Model ranks:\n",
            "1. Random Forest: 1.75\n",
            "2. Hybrid Model: 1.75\n",
            "3. Stacked LSTM: 2.75\n",
            "4. CNN: 3.75\n"
          ]
        }
      ],
      "source": [
        "# Rank the models based on Freedman rank indices for each metric\n",
        "model_ranks = {model: 0 for model in model_names}\n",
        "for metric in evaluation_scores['Random Forest']:\n",
        "    data = {model: evaluation_scores[model][metric] for model in model_names}\n",
        "    sorted_models = sorted(data, key=lambda x: data[x])\n",
        "    for rank, model in enumerate(sorted_models):\n",
        "        model_ranks[model] += rank + 1\n",
        "\n",
        "# Normalize ranks\n",
        "total_metrics = len(evaluation_scores['Random Forest'])\n",
        "for model in model_ranks:\n",
        "    model_ranks[model] /= total_metrics\n",
        "\n",
        "# Sort models based on their average rank\n",
        "sorted_model_ranks = sorted(model_ranks.items(), key=lambda x: x[1])\n",
        "\n",
        "print(\"Model ranks:\")\n",
        "for rank, (model, avg_rank) in enumerate(sorted_model_ranks):\n",
        "    print(f\"{rank + 1}. {model}: {avg_rank:.2f}\")"
      ]
    },
    {
      "cell_type": "code",
      "execution_count": null,
      "metadata": {
        "colab": {
          "base_uri": "https://localhost:8080/"
        },
        "id": "VI2uRkX4heHX",
        "outputId": "c9fba7cb-118a-4730-9394-c93de55e1e41"
      },
      "outputs": [
        {
          "name": "stdout",
          "output_type": "stream",
          "text": [
            "Model ranks for imbalanced data:\n",
            "1. Random Forest: 1.75\n",
            "2. Hybrid Model: 1.75\n",
            "3. Stacked LSTM: 2.75\n",
            "4. CNN: 3.75\n",
            "\n",
            "\n",
            "Model ranks for balanced data:\n",
            "1. Random Forest: 1.0\n",
            "2. Stacked LSTM: 2.0\n",
            "3. CNN: 3.25\n",
            "4. Hybrid Model: 3.75\n"
          ]
        }
      ],
      "source": [
        "# Freedman rank indices for imbalanced data\n",
        "imbalanced_indices = {\n",
        "    'Random Forest': 1.75,\n",
        "    'Stacked LSTM': 2.75,\n",
        "    'CNN': 3.75,\n",
        "    'Hybrid Model': 1.75\n",
        "}\n",
        "\n",
        "# Freedman rank indices for balanced data\n",
        "balanced_indices = {\n",
        "    'Random Forest': 1.00,\n",
        "    'Stacked LSTM': 2.00,\n",
        "    'CNN': 3.25,\n",
        "    'Hybrid Model': 3.75\n",
        "}\n",
        "\n",
        "# Rank the models for imbalanced data\n",
        "imbalanced_ranked = sorted(imbalanced_indices.keys(), key=lambda x: imbalanced_indices[x])\n",
        "\n",
        "print(\"Model ranks for imbalanced data:\")\n",
        "for i, model in enumerate(imbalanced_ranked, start=1):\n",
        "    print(f\"{i}. {model}: {imbalanced_indices[model]}\")\n",
        "\n",
        "print(\"\\n\")\n",
        "\n",
        "# Rank the models for balanced data\n",
        "balanced_ranked = sorted(balanced_indices.keys(), key=lambda x: balanced_indices[x])\n",
        "\n",
        "print(\"Model ranks for balanced data:\")\n",
        "for i, model in enumerate(balanced_ranked, start=1):\n",
        "    print(f\"{i}. {model}: {balanced_indices[model]}\")"
      ]
    },
    {
      "cell_type": "code",
      "execution_count": null,
      "metadata": {
        "colab": {
          "base_uri": "https://localhost:8080/"
        },
        "id": "01Geb7Dhh_ID",
        "outputId": "0dd6d454-8b31-46d1-aac9-a863806af69c"
      },
      "outputs": [
        {
          "name": "stdout",
          "output_type": "stream",
          "text": [
            "Dataset with the highest and best result: Balanced Data\n",
            "Model ranks for balanced data:\n",
            "Random Forest: 1.0\n",
            "Stacked LSTM: 2.0\n",
            "CNN: 3.25\n",
            "Hybrid Model: 3.75\n"
          ]
        }
      ],
      "source": [
        "# Freedman rank indices for imbalanced data\n",
        "imbalanced_indices = {\n",
        "    'Random Forest': 1.75,\n",
        "    'Stacked LSTM': 2.75,\n",
        "    'CNN': 3.75,\n",
        "    'Hybrid Model': 1.75\n",
        "}\n",
        "\n",
        "# Freedman rank indices for balanced data\n",
        "balanced_indices = {\n",
        "    'Random Forest': 1.00,\n",
        "    'Stacked LSTM': 2.00,\n",
        "    'CNN': 3.25,\n",
        "    'Hybrid Model': 3.75\n",
        "}\n",
        "\n",
        "# Find the minimum rank value for each dataset\n",
        "min_rank_imbalanced = min(imbalanced_indices.values())\n",
        "min_rank_balanced = min(balanced_indices.values())\n",
        "\n",
        "# Print the dataset with the highest and best result\n",
        "if min_rank_imbalanced < min_rank_balanced:\n",
        "    print(\"Dataset with the highest and best result: Imbalanced Data\")\n",
        "    print(\"Model ranks for imbalanced data:\")\n",
        "    for model, rank in imbalanced_indices.items():\n",
        "        print(f\"{model}: {rank}\")\n",
        "else:\n",
        "    print(\"Dataset with the highest and best result: Balanced Data\")\n",
        "    print(\"Model ranks for balanced data:\")\n",
        "    for model, rank in balanced_indices.items():\n",
        "        print(f\"{model}: {rank}\")"
      ]
    },
    {
      "cell_type": "code",
      "execution_count": null,
      "metadata": {
        "colab": {
          "base_uri": "https://localhost:8080/"
        },
        "id": "h7002QeBiXYd",
        "outputId": "8e172d23-c043-4fcd-818f-61f2c643d16d"
      },
      "outputs": [
        {
          "name": "stdout",
          "output_type": "stream",
          "text": [
            "Dataset with the highest and best result: Balanced Data\n",
            "Average rank for balanced data: 2.5\n"
          ]
        }
      ],
      "source": [
        "# Friedman rank indices for imbalanced data\n",
        "imbalanced_indices = {\n",
        "    'Random Forest': 1.75,\n",
        "    'Stacked LSTM': 2.75,\n",
        "    'CNN': 3.75,\n",
        "    'Hybrid Model': 1.75\n",
        "}\n",
        "\n",
        "# Friedman rank indices for balanced data\n",
        "balanced_indices = {\n",
        "    'Random Forest': 1.00,\n",
        "    'Stacked LSTM': 2.00,\n",
        "    'CNN': 3.25,\n",
        "    'Hybrid Model': 3.75\n",
        "}\n",
        "\n",
        "# Calculate the average rank for each dataset\n",
        "avg_rank_imbalanced = sum(imbalanced_indices.values()) / len(imbalanced_indices)\n",
        "avg_rank_balanced = sum(balanced_indices.values()) / len(balanced_indices)\n",
        "\n",
        "# Print the dataset with the highest and best average rank\n",
        "if avg_rank_imbalanced < avg_rank_balanced:\n",
        "    print(\"Dataset with the highest and best result: Imbalanced Data\")\n",
        "    print(\"Average rank for imbalanced data:\", avg_rank_imbalanced)\n",
        "else:\n",
        "    print(\"Dataset with the highest and best result: Balanced Data\")\n",
        "    print(\"Average rank for balanced data:\", avg_rank_balanced)"
      ]
    },
    {
      "cell_type": "code",
      "execution_count": null,
      "metadata": {
        "colab": {
          "base_uri": "https://localhost:8080/"
        },
        "id": "_cA_vxxmimdp",
        "outputId": "dbaa1148-f9a9-41b3-b6ba-0ffec5f0ead6"
      },
      "outputs": [
        {
          "name": "stdout",
          "output_type": "stream",
          "text": [
            "Average rank for imbalanced data: 2.5\n",
            "Average rank for balanced data: 2.5\n",
            "Dataset with the highest and best result: Balanced Data\n",
            "Average rank for balanced data: 2.5\n"
          ]
        }
      ],
      "source": [
        "# Friedman rank indices for imbalanced data\n",
        "imbalanced_indices = {\n",
        "    'Random Forest': 1.75,\n",
        "    'Stacked LSTM': 2.75,\n",
        "    'CNN': 3.75,\n",
        "    'Hybrid Model': 1.75\n",
        "}\n",
        "\n",
        "# Friedman rank indices for balanced data\n",
        "balanced_indices = {\n",
        "    'Random Forest': 1.00,\n",
        "    'Stacked LSTM': 2.00,\n",
        "    'CNN': 3.25,\n",
        "    'Hybrid Model': 3.75\n",
        "}\n",
        "\n",
        "# Calculate the average rank for each dataset\n",
        "avg_rank_imbalanced = sum(imbalanced_indices.values()) / len(imbalanced_indices)\n",
        "avg_rank_balanced = sum(balanced_indices.values()) / len(balanced_indices)\n",
        "\n",
        "# Print the dataset with the highest and best average rank\n",
        "print(\"Average rank for imbalanced data:\", avg_rank_imbalanced)\n",
        "print(\"Average rank for balanced data:\", avg_rank_balanced)\n",
        "\n",
        "if avg_rank_imbalanced < avg_rank_balanced:\n",
        "    print(\"Dataset with the highest and best result: Imbalanced Data\")\n",
        "    print(\"Average rank for imbalanced data:\", avg_rank_imbalanced)\n",
        "else:\n",
        "    print(\"Dataset with the highest and best result: Balanced Data\")\n",
        "    print(\"Average rank for balanced data:\", avg_rank_balanced)"
      ]
    },
    {
      "cell_type": "code",
      "execution_count": null,
      "metadata": {
        "colab": {
          "base_uri": "https://localhost:8080/"
        },
        "id": "1pTHf4lvjtpw",
        "outputId": "67979055-fd8d-46d9-fe9a-e8943d429019"
      },
      "outputs": [
        {
          "name": "stdout",
          "output_type": "stream",
          "text": [
            "Ranks for the imbalanced dataset:\n",
            "Accuracy Ranks: [4 3 2 1]\n",
            "Precision Ranks: [3 2 1 4]\n",
            "Recall Ranks: [3 2 1 4]\n",
            "F1 Score Ranks: [3 2 1 4]\n",
            "\n",
            "Ranks for the balanced dataset:\n",
            "Accuracy Ranks: [4 3 2 1]\n",
            "Precision Ranks: [4 3 2 1]\n",
            "Recall Ranks: [4 3 1 2]\n",
            "F1 Score Ranks: [4 3 2 1]\n"
          ]
        }
      ],
      "source": [
        "from scipy.stats import rankdata\n",
        "\n",
        "# Evaluation scores for the imbalanced dataset\n",
        "imbalanced_scores = {\n",
        "    'Accuracy': [0.9914223376422772, 0.9956532442582277, 0.9961045731442418, 0.9961914599886081],\n",
        "    'Precision': [0.9930200919883826, 0.9992237755058605, 0.999269122947537, 0.9537194753109917],\n",
        "    'Recall': [0.9914223376422772, 0.996277618274872, 0.9966995381350643, 0.990988993312254],\n",
        "    'F1 Score': [0.9918643685493335, 0.9977485220378565, 0.9979826765158049, 0.9715606291574734]\n",
        "}\n",
        "\n",
        "# Evaluation scores for the balanced dataset\n",
        "balanced_scores = {\n",
        "    'Accuracy': [0.9837831954723553, 0.9916920621099985, 0.9932157887099115, 0.9937236975765491],\n",
        "    'Precision': [0.9837366163493069, 0.9919419237749546, 0.9926795680220337, 0.9937240120942763],\n",
        "    'Recall': [0.9837106370628356, 0.9914381076766797, 0.993759976781309, 0.9937236975765491],\n",
        "    'F1 Score': [0.9837104183530595, 0.9916899517364008, 0.9932194785887813, 0.9937236965769984]\n",
        "}\n",
        "\n",
        "# Function to compute ranks for each model based on scores\n",
        "def compute_ranks(scores):\n",
        "    ranks = {}\n",
        "    for metric, values in scores.items():\n",
        "        ranks[metric] = len(values) + 1 - rankdata(values, method='max')\n",
        "    return ranks\n",
        "\n",
        "# Compute ranks for each dataset and metric\n",
        "imbalanced_ranks = compute_ranks(imbalanced_scores)\n",
        "balanced_ranks = compute_ranks(balanced_scores)\n",
        "\n",
        "# Print the ranks for each dataset and metric\n",
        "print(\"Ranks for the imbalanced dataset:\")\n",
        "for metric, ranks in imbalanced_ranks.items():\n",
        "    print(f\"{metric} Ranks:\", ranks)\n",
        "\n",
        "print(\"\\nRanks for the balanced dataset:\")\n",
        "for metric, ranks in balanced_ranks.items():\n",
        "    print(f\"{metric} Ranks:\", ranks)"
      ]
    },
    {
      "cell_type": "code",
      "execution_count": null,
      "metadata": {
        "colab": {
          "base_uri": "https://localhost:8080/"
        },
        "id": "TWpQF7uvj0gv",
        "outputId": "cf163bd9-582b-4de6-a5ec-fa28a4c8b641"
      },
      "outputs": [
        {
          "name": "stdout",
          "output_type": "stream",
          "text": [
            "Average ranks for the imbalanced dataset:\n",
            "Random Forest: 3.25\n",
            "Stacked LSTM: 2.25\n",
            "CNN: 1.25\n",
            "Hybrid Model: 3.25\n",
            "\n",
            "Average ranks for the balanced dataset:\n",
            "Random Forest: 4.0\n",
            "Stacked LSTM: 3.0\n",
            "CNN: 1.75\n",
            "Hybrid Model: 1.25\n",
            "\n",
            "The best dataset based on the scores is: Balanced Dataset\n"
          ]
        }
      ],
      "source": [
        "# Function to compute average ranks for each dataset\n",
        "def compute_average_ranks(ranks):\n",
        "    avg_ranks = {}\n",
        "    for metric, values in ranks.items():\n",
        "        for model, rank in zip(model_names, values):\n",
        "            if model not in avg_ranks:\n",
        "                avg_ranks[model] = rank\n",
        "            else:\n",
        "                avg_ranks[model] += rank\n",
        "    for model in avg_ranks:\n",
        "        avg_ranks[model] /= len(ranks)\n",
        "    return avg_ranks\n",
        "\n",
        "# Compute average ranks for both datasets\n",
        "avg_ranks_imbalanced = compute_average_ranks(imbalanced_ranks)\n",
        "avg_ranks_balanced = compute_average_ranks(balanced_ranks)\n",
        "\n",
        "# Print the average ranks for each dataset\n",
        "print(\"Average ranks for the imbalanced dataset:\")\n",
        "for model, rank in avg_ranks_imbalanced.items():\n",
        "    print(f\"{model}: {rank}\")\n",
        "\n",
        "print(\"\\nAverage ranks for the balanced dataset:\")\n",
        "for model, rank in avg_ranks_balanced.items():\n",
        "    print(f\"{model}: {rank}\")\n",
        "\n",
        "# Determine which dataset's scores are the best based on average ranks\n",
        "best_dataset = None\n",
        "if min(avg_ranks_imbalanced.values()) < min(avg_ranks_balanced.values()):\n",
        "    best_dataset = \"Imbalanced Dataset\"\n",
        "else:\n",
        "    best_dataset = \"Balanced Dataset\"\n",
        "\n",
        "print(f\"\\nThe best dataset based on the scores is: {best_dataset}\")"
      ]
    },
    {
      "cell_type": "code",
      "execution_count": null,
      "metadata": {
        "colab": {
          "base_uri": "https://localhost:8080/"
        },
        "id": "hrjYT0mIKiky",
        "outputId": "9bd14693-23aa-4aa9-f5e5-baf3766d09f9"
      },
      "outputs": [
        {
          "name": "stdout",
          "output_type": "stream",
          "text": [
            "Model saved successfully at: hybrid_model.h5\n"
          ]
        },
        {
          "name": "stderr",
          "output_type": "stream",
          "text": [
            "/usr/local/lib/python3.10/dist-packages/keras/src/engine/training.py:3103: UserWarning: You are saving your model as an HDF5 file via `model.save()`. This file format is considered legacy. We recommend using instead the native Keras format, e.g. `model.save('my_model.keras')`.\n",
            "  saving_api.save_model(\n"
          ]
        }
      ],
      "source": [
        "# Specifying the file path where you want to save the model\n",
        "model_path = 'hybrid_model.h5'\n",
        "\n",
        "# Save the model\n",
        "\n",
        "hybrid_model.save(model_path)\n",
        "\n",
        "print(\"Model saved successfully at:\", model_path)"
      ]
    },
    {
      "cell_type": "code",
      "execution_count": null,
      "metadata": {
        "id": "1Am0ARCTLd0g"
      },
      "outputs": [],
      "source": []
    }
  ],
  "metadata": {
    "colab": {
      "machine_shape": "hm",
      "provenance": [],
      "gpuType": "T4"
    },
    "kernelspec": {
      "display_name": "Python 3",
      "name": "python3"
    },
    "language_info": {
      "name": "python"
    },
    "accelerator": "GPU"
  },
  "nbformat": 4,
  "nbformat_minor": 0
}